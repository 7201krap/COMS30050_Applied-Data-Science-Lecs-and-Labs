{
 "cells": [
  {
   "cell_type": "code",
   "execution_count": 11,
   "metadata": {},
   "outputs": [],
   "source": [
    "import pandas as pd"
   ]
  },
  {
   "cell_type": "code",
   "execution_count": 12,
   "metadata": {},
   "outputs": [],
   "source": [
    "import math"
   ]
  },
  {
   "cell_type": "code",
   "execution_count": 17,
   "metadata": {},
   "outputs": [],
   "source": [
    "data = pd.read_csv('preprocessed/processed_data.csv')"
   ]
  },
  {
   "cell_type": "code",
   "execution_count": 18,
   "metadata": {},
   "outputs": [
    {
     "data": {
      "text/html": [
       "<div>\n",
       "<style scoped>\n",
       "    .dataframe tbody tr th:only-of-type {\n",
       "        vertical-align: middle;\n",
       "    }\n",
       "\n",
       "    .dataframe tbody tr th {\n",
       "        vertical-align: top;\n",
       "    }\n",
       "\n",
       "    .dataframe thead th {\n",
       "        text-align: right;\n",
       "    }\n",
       "</style>\n",
       "<table border=\"1\" class=\"dataframe\">\n",
       "  <thead>\n",
       "    <tr style=\"text-align: right;\">\n",
       "      <th></th>\n",
       "      <th>X</th>\n",
       "      <th>flag</th>\n",
       "      <th>alon_week</th>\n",
       "      <th>alon_wend</th>\n",
       "      <th>child_bull</th>\n",
       "      <th>comp_house</th>\n",
       "      <th>comp_noint_bed_16</th>\n",
       "      <th>comp_int_bed_16</th>\n",
       "      <th>comp_week</th>\n",
       "      <th>comp_wend</th>\n",
       "      <th>...</th>\n",
       "      <th>talk_phon_wend</th>\n",
       "      <th>text_week</th>\n",
       "      <th>text_wend</th>\n",
       "      <th>tran_week</th>\n",
       "      <th>tran_wend</th>\n",
       "      <th>tv_week</th>\n",
       "      <th>tv_wend</th>\n",
       "      <th>weight_16</th>\n",
       "      <th>work_week</th>\n",
       "      <th>work_wend</th>\n",
       "    </tr>\n",
       "  </thead>\n",
       "  <tbody>\n",
       "    <tr>\n",
       "      <th>0</th>\n",
       "      <td>1</td>\n",
       "      <td>synthetic</td>\n",
       "      <td>1-2 hours</td>\n",
       "      <td>1-2 hours</td>\n",
       "      <td>No</td>\n",
       "      <td>Yes</td>\n",
       "      <td>NaN</td>\n",
       "      <td>NaN</td>\n",
       "      <td>1-2 hours</td>\n",
       "      <td>1-2 hours</td>\n",
       "      <td>...</td>\n",
       "      <td>Any at all</td>\n",
       "      <td>Less than 1 hour</td>\n",
       "      <td>Less than 1 hour</td>\n",
       "      <td>Less than 1 hour</td>\n",
       "      <td>Less than 1 hour</td>\n",
       "      <td>1-2 hours</td>\n",
       "      <td>1-2 hours</td>\n",
       "      <td>59.294132</td>\n",
       "      <td>3 or more hours</td>\n",
       "      <td>3 or more hours</td>\n",
       "    </tr>\n",
       "    <tr>\n",
       "      <th>1</th>\n",
       "      <td>2</td>\n",
       "      <td>synthetic</td>\n",
       "      <td>NaN</td>\n",
       "      <td>NaN</td>\n",
       "      <td>NaN</td>\n",
       "      <td>NaN</td>\n",
       "      <td>NaN</td>\n",
       "      <td>NaN</td>\n",
       "      <td>NaN</td>\n",
       "      <td>NaN</td>\n",
       "      <td>...</td>\n",
       "      <td>NaN</td>\n",
       "      <td>NaN</td>\n",
       "      <td>NaN</td>\n",
       "      <td>NaN</td>\n",
       "      <td>NaN</td>\n",
       "      <td>NaN</td>\n",
       "      <td>NaN</td>\n",
       "      <td>NaN</td>\n",
       "      <td>NaN</td>\n",
       "      <td>NaN</td>\n",
       "    </tr>\n",
       "    <tr>\n",
       "      <th>2</th>\n",
       "      <td>3</td>\n",
       "      <td>synthetic</td>\n",
       "      <td>NaN</td>\n",
       "      <td>NaN</td>\n",
       "      <td>NaN</td>\n",
       "      <td>NaN</td>\n",
       "      <td>NaN</td>\n",
       "      <td>NaN</td>\n",
       "      <td>NaN</td>\n",
       "      <td>NaN</td>\n",
       "      <td>...</td>\n",
       "      <td>NaN</td>\n",
       "      <td>NaN</td>\n",
       "      <td>NaN</td>\n",
       "      <td>NaN</td>\n",
       "      <td>NaN</td>\n",
       "      <td>NaN</td>\n",
       "      <td>NaN</td>\n",
       "      <td>NaN</td>\n",
       "      <td>NaN</td>\n",
       "      <td>NaN</td>\n",
       "    </tr>\n",
       "    <tr>\n",
       "      <th>3</th>\n",
       "      <td>4</td>\n",
       "      <td>synthetic</td>\n",
       "      <td>NaN</td>\n",
       "      <td>NaN</td>\n",
       "      <td>NaN</td>\n",
       "      <td>NaN</td>\n",
       "      <td>NaN</td>\n",
       "      <td>NaN</td>\n",
       "      <td>NaN</td>\n",
       "      <td>NaN</td>\n",
       "      <td>...</td>\n",
       "      <td>NaN</td>\n",
       "      <td>NaN</td>\n",
       "      <td>NaN</td>\n",
       "      <td>NaN</td>\n",
       "      <td>NaN</td>\n",
       "      <td>NaN</td>\n",
       "      <td>NaN</td>\n",
       "      <td>49.812426</td>\n",
       "      <td>NaN</td>\n",
       "      <td>NaN</td>\n",
       "    </tr>\n",
       "    <tr>\n",
       "      <th>4</th>\n",
       "      <td>5</td>\n",
       "      <td>synthetic</td>\n",
       "      <td>1-2 hours</td>\n",
       "      <td>3 or more hours</td>\n",
       "      <td>No</td>\n",
       "      <td>NaN</td>\n",
       "      <td>Yes</td>\n",
       "      <td>NaN</td>\n",
       "      <td>1-2 hours</td>\n",
       "      <td>Less than 1 hour</td>\n",
       "      <td>...</td>\n",
       "      <td>Not at all</td>\n",
       "      <td>Not at all</td>\n",
       "      <td>Not at all</td>\n",
       "      <td>Less than 1 hour</td>\n",
       "      <td>Less than 1 hour</td>\n",
       "      <td>1-2 hours</td>\n",
       "      <td>3 or more hours</td>\n",
       "      <td>62.270030</td>\n",
       "      <td>1-2 hours</td>\n",
       "      <td>1-2 hours</td>\n",
       "    </tr>\n",
       "    <tr>\n",
       "      <th>...</th>\n",
       "      <td>...</td>\n",
       "      <td>...</td>\n",
       "      <td>...</td>\n",
       "      <td>...</td>\n",
       "      <td>...</td>\n",
       "      <td>...</td>\n",
       "      <td>...</td>\n",
       "      <td>...</td>\n",
       "      <td>...</td>\n",
       "      <td>...</td>\n",
       "      <td>...</td>\n",
       "      <td>...</td>\n",
       "      <td>...</td>\n",
       "      <td>...</td>\n",
       "      <td>...</td>\n",
       "      <td>...</td>\n",
       "      <td>...</td>\n",
       "      <td>...</td>\n",
       "      <td>...</td>\n",
       "      <td>...</td>\n",
       "      <td>...</td>\n",
       "    </tr>\n",
       "    <tr>\n",
       "      <th>13729</th>\n",
       "      <td>13730</td>\n",
       "      <td>synthetic</td>\n",
       "      <td>NaN</td>\n",
       "      <td>NaN</td>\n",
       "      <td>NaN</td>\n",
       "      <td>NaN</td>\n",
       "      <td>NaN</td>\n",
       "      <td>NaN</td>\n",
       "      <td>NaN</td>\n",
       "      <td>NaN</td>\n",
       "      <td>...</td>\n",
       "      <td>NaN</td>\n",
       "      <td>NaN</td>\n",
       "      <td>NaN</td>\n",
       "      <td>NaN</td>\n",
       "      <td>NaN</td>\n",
       "      <td>NaN</td>\n",
       "      <td>NaN</td>\n",
       "      <td>NaN</td>\n",
       "      <td>NaN</td>\n",
       "      <td>NaN</td>\n",
       "    </tr>\n",
       "    <tr>\n",
       "      <th>13730</th>\n",
       "      <td>13731</td>\n",
       "      <td>synthetic</td>\n",
       "      <td>1-2 hours</td>\n",
       "      <td>3 or more hours</td>\n",
       "      <td>No</td>\n",
       "      <td>NaN</td>\n",
       "      <td>NaN</td>\n",
       "      <td>NaN</td>\n",
       "      <td>1-2 hours</td>\n",
       "      <td>1-2 hours</td>\n",
       "      <td>...</td>\n",
       "      <td>Not at all</td>\n",
       "      <td>Less than 1 hour</td>\n",
       "      <td>Less than 1 hour</td>\n",
       "      <td>Less than 1 hour</td>\n",
       "      <td>Less than 1 hour</td>\n",
       "      <td>3 or more hours</td>\n",
       "      <td>3 or more hours</td>\n",
       "      <td>NaN</td>\n",
       "      <td>1-2 hours</td>\n",
       "      <td>1-2 hours</td>\n",
       "    </tr>\n",
       "    <tr>\n",
       "      <th>13731</th>\n",
       "      <td>13732</td>\n",
       "      <td>synthetic</td>\n",
       "      <td>1-2 hours</td>\n",
       "      <td>1-2 hours</td>\n",
       "      <td>No</td>\n",
       "      <td>NaN</td>\n",
       "      <td>NaN</td>\n",
       "      <td>NaN</td>\n",
       "      <td>1-2 hours</td>\n",
       "      <td>1-2 hours</td>\n",
       "      <td>...</td>\n",
       "      <td>Any at all</td>\n",
       "      <td>1-2 hours</td>\n",
       "      <td>1-2 hours</td>\n",
       "      <td>1 or more hours</td>\n",
       "      <td>1 or more hours</td>\n",
       "      <td>3 or more hours</td>\n",
       "      <td>3 or more hours</td>\n",
       "      <td>58.075832</td>\n",
       "      <td>Less than 1 hour</td>\n",
       "      <td>Less than 1 hour</td>\n",
       "    </tr>\n",
       "    <tr>\n",
       "      <th>13732</th>\n",
       "      <td>13733</td>\n",
       "      <td>synthetic</td>\n",
       "      <td>Less than 1 hour</td>\n",
       "      <td>1-2 hours</td>\n",
       "      <td>No</td>\n",
       "      <td>Yes</td>\n",
       "      <td>NaN</td>\n",
       "      <td>NaN</td>\n",
       "      <td>Less than 1 hour</td>\n",
       "      <td>1-2 hours</td>\n",
       "      <td>...</td>\n",
       "      <td>Any at all</td>\n",
       "      <td>1-2 hours</td>\n",
       "      <td>1-2 hours</td>\n",
       "      <td>Less than 1 hour</td>\n",
       "      <td>Less than 1 hour</td>\n",
       "      <td>Not at all</td>\n",
       "      <td>Less than 1 hour</td>\n",
       "      <td>NaN</td>\n",
       "      <td>Less than 1 hour</td>\n",
       "      <td>1-2 hours</td>\n",
       "    </tr>\n",
       "    <tr>\n",
       "      <th>13733</th>\n",
       "      <td>13734</td>\n",
       "      <td>synthetic</td>\n",
       "      <td>NaN</td>\n",
       "      <td>NaN</td>\n",
       "      <td>NaN</td>\n",
       "      <td>NaN</td>\n",
       "      <td>NaN</td>\n",
       "      <td>NaN</td>\n",
       "      <td>NaN</td>\n",
       "      <td>NaN</td>\n",
       "      <td>...</td>\n",
       "      <td>NaN</td>\n",
       "      <td>NaN</td>\n",
       "      <td>NaN</td>\n",
       "      <td>NaN</td>\n",
       "      <td>NaN</td>\n",
       "      <td>NaN</td>\n",
       "      <td>NaN</td>\n",
       "      <td>70.732913</td>\n",
       "      <td>NaN</td>\n",
       "      <td>NaN</td>\n",
       "    </tr>\n",
       "  </tbody>\n",
       "</table>\n",
       "<p>13734 rows × 44 columns</p>\n",
       "</div>"
      ],
      "text/plain": [
       "           X       flag         alon_week        alon_wend child_bull  \\\n",
       "0          1  synthetic         1-2 hours        1-2 hours         No   \n",
       "1          2  synthetic               NaN              NaN        NaN   \n",
       "2          3  synthetic               NaN              NaN        NaN   \n",
       "3          4  synthetic               NaN              NaN        NaN   \n",
       "4          5  synthetic         1-2 hours  3 or more hours         No   \n",
       "...      ...        ...               ...              ...        ...   \n",
       "13729  13730  synthetic               NaN              NaN        NaN   \n",
       "13730  13731  synthetic         1-2 hours  3 or more hours         No   \n",
       "13731  13732  synthetic         1-2 hours        1-2 hours         No   \n",
       "13732  13733  synthetic  Less than 1 hour        1-2 hours         No   \n",
       "13733  13734  synthetic               NaN              NaN        NaN   \n",
       "\n",
       "      comp_house comp_noint_bed_16 comp_int_bed_16         comp_week  \\\n",
       "0            Yes               NaN             NaN         1-2 hours   \n",
       "1            NaN               NaN             NaN               NaN   \n",
       "2            NaN               NaN             NaN               NaN   \n",
       "3            NaN               NaN             NaN               NaN   \n",
       "4            NaN               Yes             NaN         1-2 hours   \n",
       "...          ...               ...             ...               ...   \n",
       "13729        NaN               NaN             NaN               NaN   \n",
       "13730        NaN               NaN             NaN         1-2 hours   \n",
       "13731        NaN               NaN             NaN         1-2 hours   \n",
       "13732        Yes               NaN             NaN  Less than 1 hour   \n",
       "13733        NaN               NaN             NaN               NaN   \n",
       "\n",
       "              comp_wend  ... talk_phon_wend         text_week  \\\n",
       "0             1-2 hours  ...     Any at all  Less than 1 hour   \n",
       "1                   NaN  ...            NaN               NaN   \n",
       "2                   NaN  ...            NaN               NaN   \n",
       "3                   NaN  ...            NaN               NaN   \n",
       "4      Less than 1 hour  ...     Not at all        Not at all   \n",
       "...                 ...  ...            ...               ...   \n",
       "13729               NaN  ...            NaN               NaN   \n",
       "13730         1-2 hours  ...     Not at all  Less than 1 hour   \n",
       "13731         1-2 hours  ...     Any at all         1-2 hours   \n",
       "13732         1-2 hours  ...     Any at all         1-2 hours   \n",
       "13733               NaN  ...            NaN               NaN   \n",
       "\n",
       "              text_wend         tran_week         tran_wend          tv_week  \\\n",
       "0      Less than 1 hour  Less than 1 hour  Less than 1 hour        1-2 hours   \n",
       "1                   NaN               NaN               NaN              NaN   \n",
       "2                   NaN               NaN               NaN              NaN   \n",
       "3                   NaN               NaN               NaN              NaN   \n",
       "4            Not at all  Less than 1 hour  Less than 1 hour        1-2 hours   \n",
       "...                 ...               ...               ...              ...   \n",
       "13729               NaN               NaN               NaN              NaN   \n",
       "13730  Less than 1 hour  Less than 1 hour  Less than 1 hour  3 or more hours   \n",
       "13731         1-2 hours   1 or more hours   1 or more hours  3 or more hours   \n",
       "13732         1-2 hours  Less than 1 hour  Less than 1 hour       Not at all   \n",
       "13733               NaN               NaN               NaN              NaN   \n",
       "\n",
       "                tv_wend  weight_16         work_week         work_wend  \n",
       "0             1-2 hours  59.294132   3 or more hours   3 or more hours  \n",
       "1                   NaN        NaN               NaN               NaN  \n",
       "2                   NaN        NaN               NaN               NaN  \n",
       "3                   NaN  49.812426               NaN               NaN  \n",
       "4       3 or more hours  62.270030         1-2 hours         1-2 hours  \n",
       "...                 ...        ...               ...               ...  \n",
       "13729               NaN        NaN               NaN               NaN  \n",
       "13730   3 or more hours        NaN         1-2 hours         1-2 hours  \n",
       "13731   3 or more hours  58.075832  Less than 1 hour  Less than 1 hour  \n",
       "13732  Less than 1 hour        NaN  Less than 1 hour         1-2 hours  \n",
       "13733               NaN  70.732913               NaN               NaN  \n",
       "\n",
       "[13734 rows x 44 columns]"
      ]
     },
     "execution_count": 18,
     "metadata": {},
     "output_type": "execute_result"
    }
   ],
   "source": [
    "data"
   ]
  },
  {
   "cell_type": "code",
   "execution_count": 19,
   "metadata": {},
   "outputs": [],
   "source": [
    "dep_score = data['dep_score'].tolist()\n",
    "dep_thoughts = data['dep_thoughts'].tolist()\n",
    "has_dep_diag = data['has_dep_diag'].tolist()\n",
    "prim_diag = data['prim_diag'].tolist()\n",
    "secd_diag = data['secd_diag'].tolist()\n"
   ]
  },
  {
   "cell_type": "code",
   "execution_count": 20,
   "metadata": {},
   "outputs": [
    {
     "name": "stdout",
     "output_type": "stream",
     "text": [
      "13734\n"
     ]
    }
   ],
   "source": [
    "print(len(dep_score))"
   ]
  },
  {
   "cell_type": "code",
   "execution_count": 21,
   "metadata": {},
   "outputs": [],
   "source": [
    "dep_score_cleaned = [x for x in dep_score if str(x) != 'nan']\n",
    "dep_thoughts_cleaned = [x for x in dep_thoughts if str(x) != 'nan']\n",
    "has_dep_diag_cleaned = [x for x in has_dep_diag if str(x) != 'nan']\n",
    "prim_diag_cleaned = [x for x in prim_diag if str(x) != 'nan']\n",
    "secd_diag_cleaned = [x for x in secd_diag if str(x) != 'nan']"
   ]
  },
  {
   "cell_type": "code",
   "execution_count": 22,
   "metadata": {},
   "outputs": [
    {
     "name": "stdout",
     "output_type": "stream",
     "text": [
      "dep_score:  4513\n",
      "dep_thoughts:  1805\n",
      "has_dept:  4513\n",
      "prim_diag:  4513\n",
      "secd_diag:  4513\n"
     ]
    }
   ],
   "source": [
    "print(\"dep_score: \", len(dep_score_cleaned))\n",
    "print(\"dep_thoughts: \", len(dep_thoughts_cleaned))\n",
    "print(\"has_dept: \", len(has_dep_diag_cleaned))\n",
    "print(\"prim_diag: \", len(prim_diag_cleaned))\n",
    "print(\"secd_diag: \", len(secd_diag_cleaned))"
   ]
  },
  {
   "cell_type": "code",
   "execution_count": 23,
   "metadata": {},
   "outputs": [],
   "source": [
    "import numpy as np"
   ]
  },
  {
   "cell_type": "code",
   "execution_count": 24,
   "metadata": {},
   "outputs": [],
   "source": [
    "index_1 = []\n",
    "index_2 = []"
   ]
  },
  {
   "cell_type": "code",
   "execution_count": 25,
   "metadata": {},
   "outputs": [],
   "source": [
    "for i in range(0, 4513):\n",
    "    index_1.append(i)"
   ]
  },
  {
   "cell_type": "code",
   "execution_count": 26,
   "metadata": {},
   "outputs": [],
   "source": [
    "for i in range(0, 1805):\n",
    "    index_2.append(i)"
   ]
  },
  {
   "cell_type": "code",
   "execution_count": 27,
   "metadata": {},
   "outputs": [
    {
     "name": "stdout",
     "output_type": "stream",
     "text": [
      "4513\n"
     ]
    }
   ],
   "source": [
    "print(len(index_1))"
   ]
  },
  {
   "cell_type": "code",
   "execution_count": 28,
   "metadata": {},
   "outputs": [],
   "source": [
    "index_1 = np.array(index_1)\n",
    "index_2 = np.array(index_2)"
   ]
  },
  {
   "cell_type": "code",
   "execution_count": 38,
   "metadata": {},
   "outputs": [],
   "source": [
    "dict_dep_score = {\n",
    "    '0': 0,\n",
    "    '1': 0,\n",
    "    '2': 0,\n",
    "    '3': 0,\n",
    "    '4': 0\n",
    "}"
   ]
  },
  {
   "cell_type": "code",
   "execution_count": 39,
   "metadata": {},
   "outputs": [],
   "source": [
    "for i in range(0, len(np_dep_score)):\n",
    "    if np_dep_score[i] == 0.0:\n",
    "        dict_dep_score['0'] += 1\n",
    "    if np_dep_score[i] == 1.0:\n",
    "        dict_dep_score['1'] += 1\n",
    "    if np_dep_score[i] == 2.0:\n",
    "        dict_dep_score"
   ]
  },
  {
   "cell_type": "code",
   "execution_count": 40,
   "metadata": {},
   "outputs": [],
   "source": [
    "np_dep_score = np.array(dep_score_cleaned)\n",
    "np_dep_thoughts = np.array(dep_thoughts_cleaned)\n",
    "np_has_dep_diag = np.array(has_dep_diag_cleaned)\n",
    "np_prim_diag = np.array(prim_diag_cleaned)\n",
    "np_secd_diag = np.array(secd_diag_cleaned)"
   ]
  },
  {
   "cell_type": "code",
   "execution_count": 41,
   "metadata": {},
   "outputs": [
    {
     "name": "stdout",
     "output_type": "stream",
     "text": [
      "[' No ICD-10 diagnosis of depression' ' No ICD-10 diagnosis of depression'\n",
      " ' No ICD-10 diagnosis of depression' ...\n",
      " ' No ICD-10 diagnosis of depression' 'Yes ICD-10 diagnosis of depression'\n",
      " ' No ICD-10 diagnosis of depression']\n"
     ]
    }
   ],
   "source": [
    "print(np_has_dep_diag)"
   ]
  },
  {
   "cell_type": "code",
   "execution_count": 42,
   "metadata": {},
   "outputs": [],
   "source": [
    "import matplotlib.pyplot as plt"
   ]
  },
  {
   "cell_type": "code",
   "execution_count": 43,
   "metadata": {},
   "outputs": [
    {
     "name": "stdout",
     "output_type": "stream",
     "text": [
      "dep_score_mean:  0.43762463992909373\n",
      "dep_score_median:  0.0\n",
      "dep_score_sd:  0.9280200501145376\n"
     ]
    },
    {
     "data": {
      "text/plain": [
       "<matplotlib.collections.PathCollection at 0x7ff787f3bcd0>"
      ]
     },
     "execution_count": 43,
     "metadata": {},
     "output_type": "execute_result"
    },
    {
     "data": {
      "image/png": "[encoded data removed]",
      "text/plain": [
       "<Figure size 432x288 with 1 Axes>"
      ]
     },
     "metadata": {
      "needs_background": "light"
     },
     "output_type": "display_data"
    }
   ],
   "source": [
    "dep_score_mean = np.mean(np_dep_score)\n",
    "dep_score_median = np.median(np_dep_score)\n",
    "dep_score_sd = np.std(np_dep_score)\n",
    "print(\"dep_score_mean: \", dep_score_mean)\n",
    "print(\"dep_score_median: \", dep_score_median)\n",
    "print(\"dep_score_sd: \", dep_score_sd)\n",
    "plt.scatter(index_1, np_dep_score)"
   ]
  },
  {
   "cell_type": "code",
   "execution_count": 44,
   "metadata": {},
   "outputs": [
    {
     "name": "stdout",
     "output_type": "stream",
     "text": [
      "dep_score_mean:  1.932409972299169\n",
      "dep_score_median:  1.0\n",
      "dep_thoughts_sd:  1.3268491025975742\n"
     ]
    },
    {
     "data": {
      "text/plain": [
       "<matplotlib.collections.PathCollection at 0x7ff788138220>"
      ]
     },
     "execution_count": 44,
     "metadata": {},
     "output_type": "execute_result"
    },
    {
     "data": {
      "image/png": "[encoded data removed]",
      "text/plain": [
       "<Figure size 432x288 with 1 Axes>"
      ]
     },
     "metadata": {
      "needs_background": "light"
     },
     "output_type": "display_data"
    }
   ],
   "source": [
    "dep_thoughts_mean = np.mean(np_dep_thoughts)\n",
    "dep_thoughts_median = np.median(np_dep_thoughts)\n",
    "dep_thoughts_sd = np.std(np_dep_thoughts)\n",
    "print(\"dep_score_mean: \", dep_thoughts_mean)\n",
    "print(\"dep_score_median: \", dep_thoughts_median)\n",
    "print(\"dep_thoughts_sd: \", dep_thoughts_sd)\n",
    "plt.scatter(index_2, np_dep_thoughts)"
   ]
  },
  {
   "cell_type": "code",
   "execution_count": 45,
   "metadata": {},
   "outputs": [
    {
     "data": {
      "text/plain": [
       "<matplotlib.collections.PathCollection at 0x7ff7882588b0>"
      ]
     },
     "execution_count": 45,
     "metadata": {},
     "output_type": "execute_result"
    },
    {
     "data": {
      "image/png": "[encoded data removed]",
      "text/plain": [
       "<Figure size 432x288 with 1 Axes>"
      ]
     },
     "metadata": {
      "needs_background": "light"
     },
     "output_type": "display_data"
    }
   ],
   "source": [
    "\n",
    "plt.scatter(index_1, np_has_dep_diag)"
   ]
  },
  {
   "cell_type": "code",
   "execution_count": 46,
   "metadata": {},
   "outputs": [
    {
     "name": "stdout",
     "output_type": "stream",
     "text": [
      "prim_diag_mean:  1.3015732328827831\n",
      "prim_diag_median:  0.0\n",
      "prim_diag_sd:  3.1999805710012375\n"
     ]
    },
    {
     "data": {
      "text/plain": [
       "<matplotlib.collections.PathCollection at 0x7ff7882bd430>"
      ]
     },
     "execution_count": 46,
     "metadata": {},
     "output_type": "execute_result"
    },
    {
     "data": {
      "image/png": "[encoded data removed]",
      "text/plain": [
       "<Figure size 432x288 with 1 Axes>"
      ]
     },
     "metadata": {
      "needs_background": "light"
     },
     "output_type": "display_data"
    }
   ],
   "source": [
    "prim_diag_mean = np.mean(np_prim_diag)\n",
    "prim_diag_median = np.median(np_prim_diag)\n",
    "prim_diag_sd = np.std(np_prim_diag)\n",
    "print(\"prim_diag_mean: \", prim_diag_mean)\n",
    "print(\"prim_diag_median: \", prim_diag_median)\n",
    "print(\"prim_diag_sd: \", prim_diag_sd)\n",
    "plt.scatter(index_1, np_prim_diag)"
   ]
  },
  {
   "cell_type": "code",
   "execution_count": 47,
   "metadata": {},
   "outputs": [
    {
     "name": "stdout",
     "output_type": "stream",
     "text": [
      "dep_score_mean:  0.417682251274097\n",
      "dep_score_median:  0.0\n",
      "sd of secd_diag:  1.5145113093571438\n"
     ]
    },
    {
     "data": {
      "text/plain": [
       "<matplotlib.collections.PathCollection at 0x7ff788310ac0>"
      ]
     },
     "execution_count": 47,
     "metadata": {},
     "output_type": "execute_result"
    },
    {
     "data": {
      "image/png": "[encoded data removed]",
      "text/plain": [
       "<Figure size 432x288 with 1 Axes>"
      ]
     },
     "metadata": {
      "needs_background": "light"
     },
     "output_type": "display_data"
    }
   ],
   "source": [
    "secd_diag_mean = np.mean(np_secd_diag)\n",
    "secd_diag_median = np.median(np_secd_diag)\n",
    "secd_diag_sd = np.std(np_secd_diag)\n",
    "print(\"dep_score_mean: \", secd_diag_mean)\n",
    "print(\"dep_score_median: \", secd_diag_median)\n",
    "print(\"sd of secd_diag: \", secd_diag_sd)\n",
    "plt.scatter(index_1, np_secd_diag)"
   ]
  },
  {
   "cell_type": "code",
   "execution_count": null,
   "metadata": {},
   "outputs": [],
   "source": []
  },
  {
   "cell_type": "code",
   "execution_count": null,
   "metadata": {},
   "outputs": [],
   "source": []
  }
 ],
 "metadata": {
  "kernelspec": {
   "display_name": "Python 3",
   "language": "python",
   "name": "python3"
  },
  "language_info": {
   "codemirror_mode": {
    "name": "ipython",
    "version": 3
   },
   "file_extension": ".py",
   "mimetype": "text/x-python",
   "name": "python",
   "nbconvert_exporter": "python",
   "pygments_lexer": "ipython3",
   "version": "3.8.5"
  }
 },
 "nbformat": 4,
 "nbformat_minor": 4
}
