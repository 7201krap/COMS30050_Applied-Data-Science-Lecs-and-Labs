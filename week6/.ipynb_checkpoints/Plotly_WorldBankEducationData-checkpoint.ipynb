{
 "cells": [
  {
   "cell_type": "markdown",
   "metadata": {
    "id": "LrEsef_AvfGF"
   },
   "source": [
    "# World Bank Education Data Analysis\n",
    "\n",
    "#### Credits: Laura Gemmell"
   ]
  },
  {
   "cell_type": "markdown",
   "metadata": {
    "id": "NaKqloW6A-1G"
   },
   "source": [
    "Data for this example is taken from the World Bank Education Dataset.\n",
    "\n",
    "To download the CSV file:\n",
    "1. Go to the World Bank [website](https://data.worldbank.org/topic/4)\n",
    "2. Select CSV on the right-hand side\n",
    "3. Unzip the download\n",
    "\n",
    "On Local machine \n",
    "\n",
    "4. Place the data folder (API_X_XX_en_csv_vX_XXXXXXX) in the same directory as this notebook \n",
    "\n",
    "On Google Colab\n",
    "\n",
    "4. Click on the folder icon on the left-hand panel of Google Colab\n",
    "\n",
    "5. Drag the file (inside the unzipped folder) which begins with \"API\"\n",
    "> Or click the Upload file button (looks like a page with an arrow) and navigate to the file\n",
    "\n",
    "The archive contains three csv files: \n",
    "1. API_X_XX_en_csv_vX_XXXXXXX.csv, containing the actual data; \n",
    "2. Metadata_Country_API_..., containing the metadata for each country; and \n",
    "3. Metadata_Indicator_API_..., containing the metadata about each indicator in the World Bank data set."
   ]
  },
  {
   "cell_type": "markdown",
   "metadata": {
    "id": "HkCS4SHM_Bho"
   },
   "source": [
    "## Import Data"
   ]
  },
  {
   "cell_type": "code",
   "execution_count": 1,
   "metadata": {
    "id": "P-RBxo4J-t83"
   },
   "outputs": [],
   "source": [
    "import pandas as pd"
   ]
  },
  {
   "cell_type": "markdown",
   "metadata": {
    "id": "ObLLU7BqBlHA"
   },
   "source": [
    "Note: please check the name of the file you have uploaded. It should begin with \"API\" but the numbers may vary. To copy the file name:\n",
    "1. In the left hand panel, click on the file icon\n",
    "2. Click on the dots beside the file name\n",
    "3. Select \"copy path\"\n",
    "4. Paste this in the following code"
   ]
  },
  {
   "cell_type": "code",
   "execution_count": 2,
   "metadata": {
    "colab": {
     "base_uri": "https://localhost:8080/",
     "height": 469
    },
    "id": "Q_8NrpPW_IkV",
    "outputId": "fa26438b-0a11-455a-e956-09f992384758"
   },
   "outputs": [
    {
     "data": {
      "text/html": [
       "<div>\n",
       "<style scoped>\n",
       "    .dataframe tbody tr th:only-of-type {\n",
       "        vertical-align: middle;\n",
       "    }\n",
       "\n",
       "    .dataframe tbody tr th {\n",
       "        vertical-align: top;\n",
       "    }\n",
       "\n",
       "    .dataframe thead th {\n",
       "        text-align: right;\n",
       "    }\n",
       "</style>\n",
       "<table border=\"1\" class=\"dataframe\">\n",
       "  <thead>\n",
       "    <tr style=\"text-align: right;\">\n",
       "      <th></th>\n",
       "      <th>Country Name</th>\n",
       "      <th>Country Code</th>\n",
       "      <th>Indicator Name</th>\n",
       "      <th>Indicator Code</th>\n",
       "      <th>1960</th>\n",
       "      <th>1961</th>\n",
       "      <th>1962</th>\n",
       "      <th>1963</th>\n",
       "      <th>1964</th>\n",
       "      <th>1965</th>\n",
       "      <th>...</th>\n",
       "      <th>2012</th>\n",
       "      <th>2013</th>\n",
       "      <th>2014</th>\n",
       "      <th>2015</th>\n",
       "      <th>2016</th>\n",
       "      <th>2017</th>\n",
       "      <th>2018</th>\n",
       "      <th>2019</th>\n",
       "      <th>2020</th>\n",
       "      <th>Unnamed: 65</th>\n",
       "    </tr>\n",
       "  </thead>\n",
       "  <tbody>\n",
       "    <tr>\n",
       "      <th>0</th>\n",
       "      <td>Aruba</td>\n",
       "      <td>ABW</td>\n",
       "      <td>Population ages 15-64 (% of total population)</td>\n",
       "      <td>SP.POP.1564.TO.ZS</td>\n",
       "      <td>53.669919</td>\n",
       "      <td>54.056784</td>\n",
       "      <td>54.383281</td>\n",
       "      <td>54.710292</td>\n",
       "      <td>55.119933</td>\n",
       "      <td>55.631102</td>\n",
       "      <td>...</td>\n",
       "      <td>68.986934</td>\n",
       "      <td>69.108851</td>\n",
       "      <td>69.181105</td>\n",
       "      <td>69.159774</td>\n",
       "      <td>69.137615</td>\n",
       "      <td>68.946339</td>\n",
       "      <td>68.646606</td>\n",
       "      <td>68.321199</td>\n",
       "      <td>NaN</td>\n",
       "      <td>NaN</td>\n",
       "    </tr>\n",
       "    <tr>\n",
       "      <th>1</th>\n",
       "      <td>Aruba</td>\n",
       "      <td>ABW</td>\n",
       "      <td>Population ages 0-14 (% of total population)</td>\n",
       "      <td>SP.POP.0014.TO.ZS</td>\n",
       "      <td>43.847190</td>\n",
       "      <td>43.358346</td>\n",
       "      <td>42.925745</td>\n",
       "      <td>42.488756</td>\n",
       "      <td>41.950133</td>\n",
       "      <td>41.290098</td>\n",
       "      <td>...</td>\n",
       "      <td>20.092629</td>\n",
       "      <td>19.593055</td>\n",
       "      <td>19.111724</td>\n",
       "      <td>18.703098</td>\n",
       "      <td>18.257495</td>\n",
       "      <td>17.980183</td>\n",
       "      <td>17.802447</td>\n",
       "      <td>17.620445</td>\n",
       "      <td>NaN</td>\n",
       "      <td>NaN</td>\n",
       "    </tr>\n",
       "    <tr>\n",
       "      <th>2</th>\n",
       "      <td>Aruba</td>\n",
       "      <td>ABW</td>\n",
       "      <td>Unemployment, total (% of total labor force) (...</td>\n",
       "      <td>SL.UEM.TOTL.ZS</td>\n",
       "      <td>NaN</td>\n",
       "      <td>NaN</td>\n",
       "      <td>NaN</td>\n",
       "      <td>NaN</td>\n",
       "      <td>NaN</td>\n",
       "      <td>NaN</td>\n",
       "      <td>...</td>\n",
       "      <td>NaN</td>\n",
       "      <td>NaN</td>\n",
       "      <td>NaN</td>\n",
       "      <td>NaN</td>\n",
       "      <td>NaN</td>\n",
       "      <td>NaN</td>\n",
       "      <td>NaN</td>\n",
       "      <td>NaN</td>\n",
       "      <td>NaN</td>\n",
       "      <td>NaN</td>\n",
       "    </tr>\n",
       "    <tr>\n",
       "      <th>3</th>\n",
       "      <td>Aruba</td>\n",
       "      <td>ABW</td>\n",
       "      <td>Unemployment, male (% of male labor force) (mo...</td>\n",
       "      <td>SL.UEM.TOTL.MA.ZS</td>\n",
       "      <td>NaN</td>\n",
       "      <td>NaN</td>\n",
       "      <td>NaN</td>\n",
       "      <td>NaN</td>\n",
       "      <td>NaN</td>\n",
       "      <td>NaN</td>\n",
       "      <td>...</td>\n",
       "      <td>NaN</td>\n",
       "      <td>NaN</td>\n",
       "      <td>NaN</td>\n",
       "      <td>NaN</td>\n",
       "      <td>NaN</td>\n",
       "      <td>NaN</td>\n",
       "      <td>NaN</td>\n",
       "      <td>NaN</td>\n",
       "      <td>NaN</td>\n",
       "      <td>NaN</td>\n",
       "    </tr>\n",
       "    <tr>\n",
       "      <th>4</th>\n",
       "      <td>Aruba</td>\n",
       "      <td>ABW</td>\n",
       "      <td>Unemployment, female (% of female labor force)...</td>\n",
       "      <td>SL.UEM.TOTL.FE.ZS</td>\n",
       "      <td>NaN</td>\n",
       "      <td>NaN</td>\n",
       "      <td>NaN</td>\n",
       "      <td>NaN</td>\n",
       "      <td>NaN</td>\n",
       "      <td>NaN</td>\n",
       "      <td>...</td>\n",
       "      <td>NaN</td>\n",
       "      <td>NaN</td>\n",
       "      <td>NaN</td>\n",
       "      <td>NaN</td>\n",
       "      <td>NaN</td>\n",
       "      <td>NaN</td>\n",
       "      <td>NaN</td>\n",
       "      <td>NaN</td>\n",
       "      <td>NaN</td>\n",
       "      <td>NaN</td>\n",
       "    </tr>\n",
       "  </tbody>\n",
       "</table>\n",
       "<p>5 rows × 66 columns</p>\n",
       "</div>"
      ],
      "text/plain": [
       "  Country Name Country Code  \\\n",
       "0        Aruba          ABW   \n",
       "1        Aruba          ABW   \n",
       "2        Aruba          ABW   \n",
       "3        Aruba          ABW   \n",
       "4        Aruba          ABW   \n",
       "\n",
       "                                      Indicator Name     Indicator Code  \\\n",
       "0      Population ages 15-64 (% of total population)  SP.POP.1564.TO.ZS   \n",
       "1       Population ages 0-14 (% of total population)  SP.POP.0014.TO.ZS   \n",
       "2  Unemployment, total (% of total labor force) (...     SL.UEM.TOTL.ZS   \n",
       "3  Unemployment, male (% of male labor force) (mo...  SL.UEM.TOTL.MA.ZS   \n",
       "4  Unemployment, female (% of female labor force)...  SL.UEM.TOTL.FE.ZS   \n",
       "\n",
       "        1960       1961       1962       1963       1964       1965  ...  \\\n",
       "0  53.669919  54.056784  54.383281  54.710292  55.119933  55.631102  ...   \n",
       "1  43.847190  43.358346  42.925745  42.488756  41.950133  41.290098  ...   \n",
       "2        NaN        NaN        NaN        NaN        NaN        NaN  ...   \n",
       "3        NaN        NaN        NaN        NaN        NaN        NaN  ...   \n",
       "4        NaN        NaN        NaN        NaN        NaN        NaN  ...   \n",
       "\n",
       "        2012       2013       2014       2015       2016       2017  \\\n",
       "0  68.986934  69.108851  69.181105  69.159774  69.137615  68.946339   \n",
       "1  20.092629  19.593055  19.111724  18.703098  18.257495  17.980183   \n",
       "2        NaN        NaN        NaN        NaN        NaN        NaN   \n",
       "3        NaN        NaN        NaN        NaN        NaN        NaN   \n",
       "4        NaN        NaN        NaN        NaN        NaN        NaN   \n",
       "\n",
       "        2018       2019  2020  Unnamed: 65  \n",
       "0  68.646606  68.321199   NaN          NaN  \n",
       "1  17.802447  17.620445   NaN          NaN  \n",
       "2        NaN        NaN   NaN          NaN  \n",
       "3        NaN        NaN   NaN          NaN  \n",
       "4        NaN        NaN   NaN          NaN  \n",
       "\n",
       "[5 rows x 66 columns]"
      ]
     },
     "execution_count": 2,
     "metadata": {},
     "output_type": "execute_result"
    }
   ],
   "source": [
    "main_data = pd.read_csv(\"./API_4_DS2_en_csv_v2_2056686/API_4_DS2_en_csv_v2_2056686.csv\", skiprows=4,engine='python')\n",
    "main_data.head()"
   ]
  },
  {
   "cell_type": "code",
   "execution_count": 3,
   "metadata": {
    "colab": {
     "base_uri": "https://localhost:8080/"
    },
    "id": "NyijeCBcBgU2",
    "outputId": "0a59b2c0-c03a-49a9-f62c-12f62433ac25"
   },
   "outputs": [
    {
     "data": {
      "text/plain": [
       "Index(['Country Name', 'Country Code', 'Indicator Name', 'Indicator Code',\n",
       "       '1960', '1961', '1962', '1963', '1964', '1965', '1966', '1967', '1968',\n",
       "       '1969', '1970', '1971', '1972', '1973', '1974', '1975', '1976', '1977',\n",
       "       '1978', '1979', '1980', '1981', '1982', '1983', '1984', '1985', '1986',\n",
       "       '1987', '1988', '1989', '1990', '1991', '1992', '1993', '1994', '1995',\n",
       "       '1996', '1997', '1998', '1999', '2000', '2001', '2002', '2003', '2004',\n",
       "       '2005', '2006', '2007', '2008', '2009', '2010', '2011', '2012', '2013',\n",
       "       '2014', '2015', '2016', '2017', '2018', '2019', '2020', 'Unnamed: 65'],\n",
       "      dtype='object')"
      ]
     },
     "execution_count": 3,
     "metadata": {},
     "output_type": "execute_result"
    }
   ],
   "source": [
    "main_data.columns"
   ]
  },
  {
   "cell_type": "code",
   "execution_count": 4,
   "metadata": {
    "colab": {
     "base_uri": "https://localhost:8080/"
    },
    "id": "HSBXHopzBkCC",
    "outputId": "456892eb-f970-42f6-8a88-103ee9a46483"
   },
   "outputs": [
    {
     "data": {
      "text/plain": [
       "(42768, 66)"
      ]
     },
     "execution_count": 4,
     "metadata": {},
     "output_type": "execute_result"
    }
   ],
   "source": [
    "main_data.shape"
   ]
  },
  {
   "cell_type": "code",
   "execution_count": 5,
   "metadata": {
    "colab": {
     "base_uri": "https://localhost:8080/"
    },
    "id": "nBzlUrD7B1Lq",
    "outputId": "3892673a-61c3-4e65-87a5-9b4fa8460c49"
   },
   "outputs": [
    {
     "data": {
      "text/plain": [
       "2822688"
      ]
     },
     "execution_count": 5,
     "metadata": {},
     "output_type": "execute_result"
    }
   ],
   "source": [
    "main_data.size"
   ]
  },
  {
   "cell_type": "code",
   "execution_count": 6,
   "metadata": {},
   "outputs": [
    {
     "data": {
      "text/plain": [
       "array(['Aruba', 'Afghanistan', 'Angola', 'Albania', 'Andorra',\n",
       "       'Arab World', 'United Arab Emirates', 'Argentina', 'Armenia',\n",
       "       'American Samoa', 'Antigua and Barbuda', 'Australia', 'Austria',\n",
       "       'Azerbaijan', 'Burundi', 'Belgium', 'Benin', 'Burkina Faso',\n",
       "       'Bangladesh', 'Bulgaria', 'Bahrain', 'Bahamas, The',\n",
       "       'Bosnia and Herzegovina', 'Belarus', 'Belize', 'Bermuda',\n",
       "       'Bolivia', 'Brazil', 'Barbados', 'Brunei Darussalam', 'Bhutan',\n",
       "       'Botswana', 'Central African Republic', 'Canada',\n",
       "       'Central Europe and the Baltics', 'Switzerland', 'Channel Islands',\n",
       "       'Chile', 'China', \"Cote d'Ivoire\", 'Cameroon', 'Congo, Dem. Rep.',\n",
       "       'Congo, Rep.', 'Colombia', 'Comoros', 'Cabo Verde', 'Costa Rica',\n",
       "       'Caribbean small states', 'Cuba', 'Curacao', 'Cayman Islands',\n",
       "       'Cyprus', 'Czech Republic', 'Germany', 'Djibouti', 'Dominica',\n",
       "       'Denmark', 'Dominican Republic', 'Algeria',\n",
       "       'East Asia & Pacific (excluding high income)',\n",
       "       'Early-demographic dividend', 'East Asia & Pacific',\n",
       "       'Europe & Central Asia (excluding high income)',\n",
       "       'Europe & Central Asia', 'Ecuador', 'Egypt, Arab Rep.',\n",
       "       'Euro area', 'Eritrea', 'Spain', 'Estonia', 'Ethiopia',\n",
       "       'European Union', 'Fragile and conflict affected situations',\n",
       "       'Finland', 'Fiji', 'France', 'Faroe Islands',\n",
       "       'Micronesia, Fed. Sts.', 'Gabon', 'United Kingdom', 'Georgia',\n",
       "       'Ghana', 'Gibraltar', 'Guinea', 'Gambia, The', 'Guinea-Bissau',\n",
       "       'Equatorial Guinea', 'Greece', 'Grenada', 'Greenland', 'Guatemala',\n",
       "       'Guam', 'Guyana', 'High income', 'Hong Kong SAR, China',\n",
       "       'Honduras', 'Heavily indebted poor countries (HIPC)', 'Croatia',\n",
       "       'Haiti', 'Hungary', 'IBRD only', 'IDA & IBRD total', 'IDA total',\n",
       "       'IDA blend', 'Indonesia', 'IDA only', 'Isle of Man', 'India',\n",
       "       'Not classified', 'Ireland', 'Iran, Islamic Rep.', 'Iraq',\n",
       "       'Iceland', 'Israel', 'Italy', 'Jamaica', 'Jordan', 'Japan',\n",
       "       'Kazakhstan', 'Kenya', 'Kyrgyz Republic', 'Cambodia', 'Kiribati',\n",
       "       'St. Kitts and Nevis', 'Korea, Rep.', 'Kuwait',\n",
       "       'Latin America & Caribbean (excluding high income)', 'Lao PDR',\n",
       "       'Lebanon', 'Liberia', 'Libya', 'St. Lucia',\n",
       "       'Latin America & Caribbean',\n",
       "       'Least developed countries: UN classification', 'Low income',\n",
       "       'Liechtenstein', 'Sri Lanka', 'Lower middle income',\n",
       "       'Low & middle income', 'Lesotho', 'Late-demographic dividend',\n",
       "       'Lithuania', 'Luxembourg', 'Latvia', 'Macao SAR, China',\n",
       "       'St. Martin (French part)', 'Morocco', 'Monaco', 'Moldova',\n",
       "       'Madagascar', 'Maldives', 'Middle East & North Africa', 'Mexico',\n",
       "       'Marshall Islands', 'Middle income', 'North Macedonia', 'Mali',\n",
       "       'Malta', 'Myanmar',\n",
       "       'Middle East & North Africa (excluding high income)', 'Montenegro',\n",
       "       'Mongolia', 'Northern Mariana Islands', 'Mozambique', 'Mauritania',\n",
       "       'Mauritius', 'Malawi', 'Malaysia', 'North America', 'Namibia',\n",
       "       'New Caledonia', 'Niger', 'Nigeria', 'Nicaragua', 'Netherlands',\n",
       "       'Norway', 'Nepal', 'Nauru', 'New Zealand', 'OECD members', 'Oman',\n",
       "       'Other small states', 'Pakistan', 'Panama', 'Peru', 'Philippines',\n",
       "       'Palau', 'Papua New Guinea', 'Poland', 'Pre-demographic dividend',\n",
       "       'Puerto Rico', 'Korea, Dem. People’s Rep.', 'Portugal', 'Paraguay',\n",
       "       'West Bank and Gaza', 'Pacific island small states',\n",
       "       'Post-demographic dividend', 'French Polynesia', 'Qatar',\n",
       "       'Romania', 'Russian Federation', 'Rwanda', 'South Asia',\n",
       "       'Saudi Arabia', 'Sudan', 'Senegal', 'Singapore', 'Solomon Islands',\n",
       "       'Sierra Leone', 'El Salvador', 'San Marino', 'Somalia', 'Serbia',\n",
       "       'Sub-Saharan Africa (excluding high income)', 'South Sudan',\n",
       "       'Sub-Saharan Africa', 'Small states', 'Sao Tome and Principe',\n",
       "       'Suriname', 'Slovak Republic', 'Slovenia', 'Sweden', 'Eswatini',\n",
       "       'Sint Maarten (Dutch part)', 'Seychelles', 'Syrian Arab Republic',\n",
       "       'Turks and Caicos Islands', 'Chad',\n",
       "       'East Asia & Pacific (IDA & IBRD countries)',\n",
       "       'Europe & Central Asia (IDA & IBRD countries)', 'Togo', 'Thailand',\n",
       "       'Tajikistan', 'Turkmenistan',\n",
       "       'Latin America & the Caribbean (IDA & IBRD countries)',\n",
       "       'Timor-Leste', 'Middle East & North Africa (IDA & IBRD countries)',\n",
       "       'Tonga', 'South Asia (IDA & IBRD)',\n",
       "       'Sub-Saharan Africa (IDA & IBRD countries)', 'Trinidad and Tobago',\n",
       "       'Tunisia', 'Turkey', 'Tuvalu', 'Tanzania', 'Uganda', 'Ukraine',\n",
       "       'Upper middle income', 'Uruguay', 'United States', 'Uzbekistan',\n",
       "       'St. Vincent and the Grenadines', 'Venezuela, RB',\n",
       "       'British Virgin Islands', 'Virgin Islands (U.S.)', 'Vietnam',\n",
       "       'Vanuatu', 'World', 'Samoa', 'Kosovo', 'Yemen, Rep.',\n",
       "       'South Africa', 'Zambia', 'Zimbabwe'], dtype=object)"
      ]
     },
     "execution_count": 6,
     "metadata": {},
     "output_type": "execute_result"
    }
   ],
   "source": [
    "main_data['Country Name'].unique()"
   ]
  },
  {
   "cell_type": "markdown",
   "metadata": {},
   "source": [
    "Note that country names column includes countries as well as region names such as \"Europe & Central Asia.\" Take a look at the output above. "
   ]
  },
  {
   "cell_type": "code",
   "execution_count": 7,
   "metadata": {},
   "outputs": [
    {
     "data": {
      "text/plain": [
       "array(['ABW', 'AFG', 'AGO', 'ALB', 'AND', 'ARB', 'ARE', 'ARG', 'ARM',\n",
       "       'ASM', 'ATG', 'AUS', 'AUT', 'AZE', 'BDI', 'BEL', 'BEN', 'BFA',\n",
       "       'BGD', 'BGR', 'BHR', 'BHS', 'BIH', 'BLR', 'BLZ', 'BMU', 'BOL',\n",
       "       'BRA', 'BRB', 'BRN', 'BTN', 'BWA', 'CAF', 'CAN', 'CEB', 'CHE',\n",
       "       'CHI', 'CHL', 'CHN', 'CIV', 'CMR', 'COD', 'COG', 'COL', 'COM',\n",
       "       'CPV', 'CRI', 'CSS', 'CUB', 'CUW', 'CYM', 'CYP', 'CZE', 'DEU',\n",
       "       'DJI', 'DMA', 'DNK', 'DOM', 'DZA', 'EAP', 'EAR', 'EAS', 'ECA',\n",
       "       'ECS', 'ECU', 'EGY', 'EMU', 'ERI', 'ESP', 'EST', 'ETH', 'EUU',\n",
       "       'FCS', 'FIN', 'FJI', 'FRA', 'FRO', 'FSM', 'GAB', 'GBR', 'GEO',\n",
       "       'GHA', 'GIB', 'GIN', 'GMB', 'GNB', 'GNQ', 'GRC', 'GRD', 'GRL',\n",
       "       'GTM', 'GUM', 'GUY', 'HIC', 'HKG', 'HND', 'HPC', 'HRV', 'HTI',\n",
       "       'HUN', 'IBD', 'IBT', 'IDA', 'IDB', 'IDN', 'IDX', 'IMN', 'IND',\n",
       "       'INX', 'IRL', 'IRN', 'IRQ', 'ISL', 'ISR', 'ITA', 'JAM', 'JOR',\n",
       "       'JPN', 'KAZ', 'KEN', 'KGZ', 'KHM', 'KIR', 'KNA', 'KOR', 'KWT',\n",
       "       'LAC', 'LAO', 'LBN', 'LBR', 'LBY', 'LCA', 'LCN', 'LDC', 'LIC',\n",
       "       'LIE', 'LKA', 'LMC', 'LMY', 'LSO', 'LTE', 'LTU', 'LUX', 'LVA',\n",
       "       'MAC', 'MAF', 'MAR', 'MCO', 'MDA', 'MDG', 'MDV', 'MEA', 'MEX',\n",
       "       'MHL', 'MIC', 'MKD', 'MLI', 'MLT', 'MMR', 'MNA', 'MNE', 'MNG',\n",
       "       'MNP', 'MOZ', 'MRT', 'MUS', 'MWI', 'MYS', 'NAC', 'NAM', 'NCL',\n",
       "       'NER', 'NGA', 'NIC', 'NLD', 'NOR', 'NPL', 'NRU', 'NZL', 'OED',\n",
       "       'OMN', 'OSS', 'PAK', 'PAN', 'PER', 'PHL', 'PLW', 'PNG', 'POL',\n",
       "       'PRE', 'PRI', 'PRK', 'PRT', 'PRY', 'PSE', 'PSS', 'PST', 'PYF',\n",
       "       'QAT', 'ROU', 'RUS', 'RWA', 'SAS', 'SAU', 'SDN', 'SEN', 'SGP',\n",
       "       'SLB', 'SLE', 'SLV', 'SMR', 'SOM', 'SRB', 'SSA', 'SSD', 'SSF',\n",
       "       'SST', 'STP', 'SUR', 'SVK', 'SVN', 'SWE', 'SWZ', 'SXM', 'SYC',\n",
       "       'SYR', 'TCA', 'TCD', 'TEA', 'TEC', 'TGO', 'THA', 'TJK', 'TKM',\n",
       "       'TLA', 'TLS', 'TMN', 'TON', 'TSA', 'TSS', 'TTO', 'TUN', 'TUR',\n",
       "       'TUV', 'TZA', 'UGA', 'UKR', 'UMC', 'URY', 'USA', 'UZB', 'VCT',\n",
       "       'VEN', 'VGB', 'VIR', 'VNM', 'VUT', 'WLD', 'WSM', 'XKX', 'YEM',\n",
       "       'ZAF', 'ZMB', 'ZWE'], dtype=object)"
      ]
     },
     "execution_count": 7,
     "metadata": {},
     "output_type": "execute_result"
    }
   ],
   "source": [
    "# Each Country Name has an associated three letter Country Code\n",
    "\n",
    "main_data['Country Code'].unique()"
   ]
  },
  {
   "cell_type": "markdown",
   "metadata": {},
   "source": [
    "The dataset contains 162 unique indicators related to education."
   ]
  },
  {
   "cell_type": "code",
   "execution_count": 8,
   "metadata": {
    "colab": {
     "base_uri": "https://localhost:8080/"
    },
    "id": "SluCPZypEffR",
    "outputId": "8d4a978c-538a-4894-b813-b21a2e281a8e"
   },
   "outputs": [
    {
     "data": {
      "text/plain": [
       "array(['Population ages 15-64 (% of total population)',\n",
       "       'Population ages 0-14 (% of total population)',\n",
       "       'Unemployment, total (% of total labor force) (modeled ILO estimate)',\n",
       "       'Unemployment, male (% of male labor force) (modeled ILO estimate)',\n",
       "       'Unemployment, female (% of female labor force) (modeled ILO estimate)',\n",
       "       'Labor force, total',\n",
       "       'Labor force, female (% of total labor force)',\n",
       "       'Probability of dying among youth ages 20-24 years (per 1,000)',\n",
       "       'Probability of dying among adolescents ages 15-19 years (per 1,000)',\n",
       "       'Probability of dying among adolescents ages 10-14 years (per 1,000)',\n",
       "       'Probability of dying among children ages 5-9 years (per 1,000)',\n",
       "       'Number of deaths ages 20-24 years',\n",
       "       'Number of deaths ages 15-19 years',\n",
       "       'Number of deaths ages 10-14 years',\n",
       "       'Number of deaths ages 5-9 years',\n",
       "       'Government expenditure on education, total (% of GDP)',\n",
       "       'Government expenditure on education, total (% of government expenditure)',\n",
       "       'Expenditure on tertiary education (% of government expenditure on education)',\n",
       "       'Government expenditure per student, tertiary (% of GDP per capita)',\n",
       "       'Expenditure on secondary education (% of government expenditure on education)',\n",
       "       'Government expenditure per student, secondary (% of GDP per capita)',\n",
       "       'Expenditure on primary education (% of government expenditure on education)',\n",
       "       'Government expenditure per student, primary (% of GDP per capita)',\n",
       "       'Current education expenditure, total (% of total expenditure in public institutions)',\n",
       "       'Current education expenditure, tertiary (% of total expenditure in tertiary public institutions)',\n",
       "       'Current education expenditure, secondary (% of total expenditure in secondary public institutions)',\n",
       "       'Current education expenditure, primary (% of total expenditure in primary public institutions)',\n",
       "       'Tertiary education, academic staff (% female)',\n",
       "       'School enrollment, tertiary, male (% gross)',\n",
       "       'School enrollment, tertiary, female (% gross)',\n",
       "       'School enrollment, tertiary (% gross)',\n",
       "       'Pupil-teacher ratio, tertiary',\n",
       "       'Educational attainment, at least completed short-cycle tertiary, population 25+, total (%) (cumulative)',\n",
       "       'Educational attainment, at least completed short-cycle tertiary, population 25+, male (%) (cumulative)',\n",
       "       'Educational attainment, at least completed short-cycle tertiary, population 25+, female (%) (cumulative)',\n",
       "       \"Educational attainment, at least Master's or equivalent, population 25+, total (%) (cumulative)\",\n",
       "       \"Educational attainment, at least Master's or equivalent, population 25+, male (%) (cumulative)\",\n",
       "       \"Educational attainment, at least Master's or equivalent, population 25+, female (%) (cumulative)\",\n",
       "       'Educational attainment, Doctoral or equivalent, population 25+, total (%) (cumulative)',\n",
       "       'Educational attainment, Doctoral or equivalent, population 25+, male (%) (cumulative)',\n",
       "       'Educational attainment, Doctoral or equivalent, population 25+, female (%) (cumulative)',\n",
       "       \"Educational attainment, at least Bachelor's or equivalent, population 25+, total (%) (cumulative)\",\n",
       "       \"Educational attainment, at least Bachelor's or equivalent, population 25+, male (%) (cumulative)\",\n",
       "       \"Educational attainment, at least Bachelor's or equivalent, population 25+, female (%) (cumulative)\",\n",
       "       'Adolescents out of school (% of lower secondary school age)',\n",
       "       'Adolescents out of school, male (% of male lower secondary school age)',\n",
       "       'Adolescents out of school, female (% of female lower secondary school age)',\n",
       "       'Secondary education, teachers (% female)',\n",
       "       'Secondary education, teachers, female',\n",
       "       'Secondary education, teachers',\n",
       "       'Trained teachers in secondary education (% of total teachers)',\n",
       "       'Trained teachers in upper secondary education (% of total teachers)',\n",
       "       'Trained teachers in upper secondary education, male (% of male teachers)',\n",
       "       'Trained teachers in upper secondary education, female (% of female teachers)',\n",
       "       'Trained teachers in secondary education, male (% of male teachers)',\n",
       "       'Trained teachers in lower secondary education (% of total teachers)',\n",
       "       'Trained teachers in lower secondary education, male (% of male teachers)',\n",
       "       'Trained teachers in lower secondary education, female (% of female teachers)',\n",
       "       'Trained teachers in secondary education, female (% of female teachers)',\n",
       "       'Progression to secondary school (%)',\n",
       "       'Progression to secondary school, male (%)',\n",
       "       'Progression to secondary school, female (%)',\n",
       "       'School enrollment, secondary, private (% of total secondary)',\n",
       "       'School enrollment, secondary, male (% net)',\n",
       "       'School enrollment, secondary, female (% net)',\n",
       "       'School enrollment, secondary (% net)',\n",
       "       'School enrollment, secondary, male (% gross)',\n",
       "       'School enrollment, secondary, female (% gross)',\n",
       "       'School enrollment, secondary (% gross)',\n",
       "       'Secondary education, vocational pupils (% female)',\n",
       "       'Secondary education, vocational pupils',\n",
       "       'Pupil-teacher ratio, upper secondary',\n",
       "       'Pupil-teacher ratio, secondary',\n",
       "       'Pupil-teacher ratio, lower secondary',\n",
       "       'Secondary education, general pupils (% female)',\n",
       "       'Secondary education, general pupils',\n",
       "       'Secondary education, pupils (% female)',\n",
       "       'Secondary education, pupils',\n",
       "       'Secondary education, duration (years)',\n",
       "       'Educational attainment, at least completed upper secondary, population 25+, total (%) (cumulative)',\n",
       "       'Educational attainment, at least completed upper secondary, population 25+, male (%) (cumulative)',\n",
       "       'Educational attainment, at least completed upper secondary, population 25+, female (%) (cumulative)',\n",
       "       'Educational attainment, at least completed post-secondary, population 25+, total (%) (cumulative)',\n",
       "       'Educational attainment, at least completed post-secondary, population 25+, male (%) (cumulative)',\n",
       "       'Educational attainment, at least completed post-secondary, population 25+, female (%) (cumulative)',\n",
       "       'Educational attainment, at least completed lower secondary, population 25+, total (%) (cumulative)',\n",
       "       'Educational attainment, at least completed lower secondary, population 25+, male (%) (cumulative)',\n",
       "       'Educational attainment, at least completed lower secondary, population 25+, female (%) (cumulative)',\n",
       "       'Lower secondary completion rate, total (% of relevant age group)',\n",
       "       'Lower secondary completion rate, male (% of relevant age group)',\n",
       "       'Lower secondary completion rate, female (% of relevant age group)',\n",
       "       'Lower secondary school starting age (years)',\n",
       "       'Children out of school (% of primary school age)',\n",
       "       'Children out of school, male (% of male primary school age)',\n",
       "       'Children out of school, primary, male',\n",
       "       'Children out of school, female (% of female primary school age)',\n",
       "       'Children out of school, primary, female',\n",
       "       'Children out of school, primary',\n",
       "       'Adjusted net enrollment rate, primary, male (% of primary school age children)',\n",
       "       'Adjusted net enrollment rate, primary, female (% of primary school age children)',\n",
       "       'Adjusted net enrollment rate, primary (% of primary school age children)',\n",
       "       'Primary education, teachers (% female)',\n",
       "       'Primary education, teachers',\n",
       "       'Trained teachers in primary education (% of total teachers)',\n",
       "       'Trained teachers in primary education, male (% of male teachers)',\n",
       "       'Trained teachers in primary education, female (% of female teachers)',\n",
       "       'Repeaters, primary, total (% of total enrollment)',\n",
       "       'Repeaters, primary, male (% of male enrollment)',\n",
       "       'Repeaters, primary, female (% of female enrollment)',\n",
       "       'Persistence to last grade of primary, total (% of cohort)',\n",
       "       'Persistence to last grade of primary, male (% of cohort)',\n",
       "       'Persistence to last grade of primary, female (% of cohort)',\n",
       "       'Persistence to grade 5, total (% of cohort)',\n",
       "       'Persistence to grade 5, male (% of cohort)',\n",
       "       'Persistence to grade 5, female (% of cohort)',\n",
       "       'School enrollment, primary, private (% of total primary)',\n",
       "       'Over-age students, primary (% of enrollment)',\n",
       "       'Over-age students, primary, male (% of male enrollment)',\n",
       "       'Over-age students, primary, female (% of female enrollment)',\n",
       "       'Net intake rate in grade 1 (% of official school-age population)',\n",
       "       'Net intake rate in grade 1, male (% of official school-age population)',\n",
       "       'Net intake rate in grade 1, female (% of official school-age population)',\n",
       "       'School enrollment, primary, male (% net)',\n",
       "       'School enrollment, primary, female (% net)',\n",
       "       'School enrollment, primary (% net)',\n",
       "       'Gross intake ratio in first grade of primary education, total (% of relevant age group)',\n",
       "       'Gross intake ratio in first grade of primary education, male (% of relevant age group)',\n",
       "       'Gross intake ratio in first grade of primary education, female (% of relevant age group)',\n",
       "       'School enrollment, primary, male (% gross)',\n",
       "       'School enrollment, primary, female (% gross)',\n",
       "       'School enrollment, primary (% gross)',\n",
       "       'Pupil-teacher ratio, primary',\n",
       "       'Primary education, pupils (% female)',\n",
       "       'Primary education, pupils', 'Primary education, duration (years)',\n",
       "       'Educational attainment, at least completed primary, population 25+ years, total (%) (cumulative)',\n",
       "       'Educational attainment, at least completed primary, population 25+ years, male (%) (cumulative)',\n",
       "       'Educational attainment, at least completed primary, population 25+ years, female (%) (cumulative)',\n",
       "       'Primary completion rate, total (% of relevant age group)',\n",
       "       'Primary completion rate, male (% of relevant age group)',\n",
       "       'Primary completion rate, female (% of relevant age group)',\n",
       "       'Primary school starting age (years)',\n",
       "       'Trained teachers in preprimary education (% of total teachers)',\n",
       "       'Trained teachers in preprimary education, male (% of male teachers)',\n",
       "       'Trained teachers in preprimary education, female (% of female teachers)',\n",
       "       'School enrollment, preprimary, male (% gross)',\n",
       "       'School enrollment, preprimary, female (% gross)',\n",
       "       'School enrollment, preprimary (% gross)',\n",
       "       'Pupil-teacher ratio, preprimary',\n",
       "       'Preprimary education, duration (years)',\n",
       "       'School enrollment, tertiary (gross), gender parity index (GPI)',\n",
       "       'School enrollment, secondary (gross), gender parity index (GPI)',\n",
       "       'School enrollment, primary and secondary (gross), gender parity index (GPI)',\n",
       "       'School enrollment, primary (gross), gender parity index (GPI)',\n",
       "       'Compulsory education, duration (years)',\n",
       "       'Literacy rate, adult total (% of people ages 15 and above)',\n",
       "       'Literacy rate, adult male (% of males ages 15 and above)',\n",
       "       'Literacy rate, adult female (% of females ages 15 and above)',\n",
       "       'Literacy rate, youth total (% of people ages 15-24)',\n",
       "       'Literacy rate, youth male (% of males ages 15-24)',\n",
       "       'Literacy rate, youth (ages 15-24), gender parity index (GPI)',\n",
       "       'Literacy rate, youth female (% of females ages 15-24)'],\n",
       "      dtype=object)"
      ]
     },
     "execution_count": 8,
     "metadata": {},
     "output_type": "execute_result"
    }
   ],
   "source": [
    "main_data['Indicator Name'].unique()"
   ]
  },
  {
   "cell_type": "markdown",
   "metadata": {
    "id": "gV6dds9oACka"
   },
   "source": [
    "## Data Cleaning for Female Unemployment Indicator"
   ]
  },
  {
   "cell_type": "markdown",
   "metadata": {
    "id": "vBYN2gn1_PVj"
   },
   "source": [
    "Keep only rows which have data about the female unemployment indicator."
   ]
  },
  {
   "cell_type": "code",
   "execution_count": 9,
   "metadata": {
    "id": "ZlLsqWSKFfTu"
   },
   "outputs": [],
   "source": [
    "female_unemployment = main_data[main_data['Indicator Name'] == 'Unemployment, female (% of female labor force) (modeled ILO estimate)']"
   ]
  },
  {
   "cell_type": "code",
   "execution_count": 10,
   "metadata": {
    "colab": {
     "base_uri": "https://localhost:8080/"
    },
    "id": "0patR94hHB7G",
    "outputId": "8b2b7ecf-1bfb-445f-9167-4fffb12ea8e6"
   },
   "outputs": [
    {
     "data": {
      "text/plain": [
       "(264, 66)"
      ]
     },
     "execution_count": 10,
     "metadata": {},
     "output_type": "execute_result"
    }
   ],
   "source": [
    "female_unemployment.shape"
   ]
  },
  {
   "cell_type": "code",
   "execution_count": 11,
   "metadata": {
    "colab": {
     "base_uri": "https://localhost:8080/",
     "height": 504
    },
    "id": "dI-ULCIJHb2P",
    "outputId": "4912b05d-faa9-41f9-fd59-907069ade1a1"
   },
   "outputs": [
    {
     "data": {
      "text/html": [
       "<div>\n",
       "<style scoped>\n",
       "    .dataframe tbody tr th:only-of-type {\n",
       "        vertical-align: middle;\n",
       "    }\n",
       "\n",
       "    .dataframe tbody tr th {\n",
       "        vertical-align: top;\n",
       "    }\n",
       "\n",
       "    .dataframe thead th {\n",
       "        text-align: right;\n",
       "    }\n",
       "</style>\n",
       "<table border=\"1\" class=\"dataframe\">\n",
       "  <thead>\n",
       "    <tr style=\"text-align: right;\">\n",
       "      <th></th>\n",
       "      <th>Country Name</th>\n",
       "      <th>Country Code</th>\n",
       "      <th>Indicator Name</th>\n",
       "      <th>Indicator Code</th>\n",
       "      <th>1960</th>\n",
       "      <th>1961</th>\n",
       "      <th>1962</th>\n",
       "      <th>1963</th>\n",
       "      <th>1964</th>\n",
       "      <th>1965</th>\n",
       "      <th>...</th>\n",
       "      <th>2012</th>\n",
       "      <th>2013</th>\n",
       "      <th>2014</th>\n",
       "      <th>2015</th>\n",
       "      <th>2016</th>\n",
       "      <th>2017</th>\n",
       "      <th>2018</th>\n",
       "      <th>2019</th>\n",
       "      <th>2020</th>\n",
       "      <th>Unnamed: 65</th>\n",
       "    </tr>\n",
       "  </thead>\n",
       "  <tbody>\n",
       "    <tr>\n",
       "      <th>4</th>\n",
       "      <td>Aruba</td>\n",
       "      <td>ABW</td>\n",
       "      <td>Unemployment, female (% of female labor force)...</td>\n",
       "      <td>SL.UEM.TOTL.FE.ZS</td>\n",
       "      <td>NaN</td>\n",
       "      <td>NaN</td>\n",
       "      <td>NaN</td>\n",
       "      <td>NaN</td>\n",
       "      <td>NaN</td>\n",
       "      <td>NaN</td>\n",
       "      <td>...</td>\n",
       "      <td>NaN</td>\n",
       "      <td>NaN</td>\n",
       "      <td>NaN</td>\n",
       "      <td>NaN</td>\n",
       "      <td>NaN</td>\n",
       "      <td>NaN</td>\n",
       "      <td>NaN</td>\n",
       "      <td>NaN</td>\n",
       "      <td>NaN</td>\n",
       "      <td>NaN</td>\n",
       "    </tr>\n",
       "    <tr>\n",
       "      <th>166</th>\n",
       "      <td>Afghanistan</td>\n",
       "      <td>AFG</td>\n",
       "      <td>Unemployment, female (% of female labor force)...</td>\n",
       "      <td>SL.UEM.TOTL.FE.ZS</td>\n",
       "      <td>NaN</td>\n",
       "      <td>NaN</td>\n",
       "      <td>NaN</td>\n",
       "      <td>NaN</td>\n",
       "      <td>NaN</td>\n",
       "      <td>NaN</td>\n",
       "      <td>...</td>\n",
       "      <td>14.86</td>\n",
       "      <td>14.70</td>\n",
       "      <td>14.53</td>\n",
       "      <td>14.450000</td>\n",
       "      <td>14.33</td>\n",
       "      <td>14.09</td>\n",
       "      <td>13.92</td>\n",
       "      <td>13.81</td>\n",
       "      <td>NaN</td>\n",
       "      <td>NaN</td>\n",
       "    </tr>\n",
       "    <tr>\n",
       "      <th>328</th>\n",
       "      <td>Angola</td>\n",
       "      <td>AGO</td>\n",
       "      <td>Unemployment, female (% of female labor force)...</td>\n",
       "      <td>SL.UEM.TOTL.FE.ZS</td>\n",
       "      <td>NaN</td>\n",
       "      <td>NaN</td>\n",
       "      <td>NaN</td>\n",
       "      <td>NaN</td>\n",
       "      <td>NaN</td>\n",
       "      <td>NaN</td>\n",
       "      <td>...</td>\n",
       "      <td>7.81</td>\n",
       "      <td>7.78</td>\n",
       "      <td>7.71</td>\n",
       "      <td>7.650000</td>\n",
       "      <td>7.50</td>\n",
       "      <td>7.41</td>\n",
       "      <td>7.28</td>\n",
       "      <td>7.22</td>\n",
       "      <td>NaN</td>\n",
       "      <td>NaN</td>\n",
       "    </tr>\n",
       "    <tr>\n",
       "      <th>490</th>\n",
       "      <td>Albania</td>\n",
       "      <td>ALB</td>\n",
       "      <td>Unemployment, female (% of female labor force)...</td>\n",
       "      <td>SL.UEM.TOTL.FE.ZS</td>\n",
       "      <td>NaN</td>\n",
       "      <td>NaN</td>\n",
       "      <td>NaN</td>\n",
       "      <td>NaN</td>\n",
       "      <td>NaN</td>\n",
       "      <td>NaN</td>\n",
       "      <td>...</td>\n",
       "      <td>11.46</td>\n",
       "      <td>13.34</td>\n",
       "      <td>15.45</td>\n",
       "      <td>17.120001</td>\n",
       "      <td>14.45</td>\n",
       "      <td>12.48</td>\n",
       "      <td>11.87</td>\n",
       "      <td>11.31</td>\n",
       "      <td>NaN</td>\n",
       "      <td>NaN</td>\n",
       "    </tr>\n",
       "    <tr>\n",
       "      <th>652</th>\n",
       "      <td>Andorra</td>\n",
       "      <td>AND</td>\n",
       "      <td>Unemployment, female (% of female labor force)...</td>\n",
       "      <td>SL.UEM.TOTL.FE.ZS</td>\n",
       "      <td>NaN</td>\n",
       "      <td>NaN</td>\n",
       "      <td>NaN</td>\n",
       "      <td>NaN</td>\n",
       "      <td>NaN</td>\n",
       "      <td>NaN</td>\n",
       "      <td>...</td>\n",
       "      <td>NaN</td>\n",
       "      <td>NaN</td>\n",
       "      <td>NaN</td>\n",
       "      <td>NaN</td>\n",
       "      <td>NaN</td>\n",
       "      <td>NaN</td>\n",
       "      <td>NaN</td>\n",
       "      <td>NaN</td>\n",
       "      <td>NaN</td>\n",
       "      <td>NaN</td>\n",
       "    </tr>\n",
       "  </tbody>\n",
       "</table>\n",
       "<p>5 rows × 66 columns</p>\n",
       "</div>"
      ],
      "text/plain": [
       "    Country Name Country Code  \\\n",
       "4          Aruba          ABW   \n",
       "166  Afghanistan          AFG   \n",
       "328       Angola          AGO   \n",
       "490      Albania          ALB   \n",
       "652      Andorra          AND   \n",
       "\n",
       "                                        Indicator Name     Indicator Code  \\\n",
       "4    Unemployment, female (% of female labor force)...  SL.UEM.TOTL.FE.ZS   \n",
       "166  Unemployment, female (% of female labor force)...  SL.UEM.TOTL.FE.ZS   \n",
       "328  Unemployment, female (% of female labor force)...  SL.UEM.TOTL.FE.ZS   \n",
       "490  Unemployment, female (% of female labor force)...  SL.UEM.TOTL.FE.ZS   \n",
       "652  Unemployment, female (% of female labor force)...  SL.UEM.TOTL.FE.ZS   \n",
       "\n",
       "     1960  1961  1962  1963  1964  1965  ...   2012   2013   2014       2015  \\\n",
       "4     NaN   NaN   NaN   NaN   NaN   NaN  ...    NaN    NaN    NaN        NaN   \n",
       "166   NaN   NaN   NaN   NaN   NaN   NaN  ...  14.86  14.70  14.53  14.450000   \n",
       "328   NaN   NaN   NaN   NaN   NaN   NaN  ...   7.81   7.78   7.71   7.650000   \n",
       "490   NaN   NaN   NaN   NaN   NaN   NaN  ...  11.46  13.34  15.45  17.120001   \n",
       "652   NaN   NaN   NaN   NaN   NaN   NaN  ...    NaN    NaN    NaN        NaN   \n",
       "\n",
       "      2016   2017   2018   2019  2020  Unnamed: 65  \n",
       "4      NaN    NaN    NaN    NaN   NaN          NaN  \n",
       "166  14.33  14.09  13.92  13.81   NaN          NaN  \n",
       "328   7.50   7.41   7.28   7.22   NaN          NaN  \n",
       "490  14.45  12.48  11.87  11.31   NaN          NaN  \n",
       "652    NaN    NaN    NaN    NaN   NaN          NaN  \n",
       "\n",
       "[5 rows x 66 columns]"
      ]
     },
     "execution_count": 11,
     "metadata": {},
     "output_type": "execute_result"
    }
   ],
   "source": [
    "female_unemployment.head()"
   ]
  },
  {
   "cell_type": "markdown",
   "metadata": {
    "id": "fm91xsX8_YUY"
   },
   "source": [
    "Notice in the above output, the data doesn't start until 1991 and the last two columns (2020 and an unnamed data) do not data."
   ]
  },
  {
   "cell_type": "code",
   "execution_count": 12,
   "metadata": {
    "colab": {
     "base_uri": "https://localhost:8080/"
    },
    "id": "g-sg9mvHHrhv",
    "outputId": "4fa6de51-abe4-4c50-a599-1ea8f9ed9389"
   },
   "outputs": [
    {
     "data": {
      "text/plain": [
       "Index(['Country Name', 'Country Code', 'Indicator Name', 'Indicator Code',\n",
       "       '1960', '1961', '1962', '1963', '1964', '1965', '1966', '1967', '1968',\n",
       "       '1969', '1970', '1971', '1972', '1973', '1974', '1975', '1976', '1977',\n",
       "       '1978', '1979', '1980', '1981', '1982', '1983', '1984', '1985', '1986',\n",
       "       '1987', '1988', '1989', '1990', '1991', '1992', '1993', '1994', '1995',\n",
       "       '1996', '1997', '1998', '1999', '2000', '2001', '2002', '2003', '2004',\n",
       "       '2005', '2006', '2007', '2008', '2009', '2010', '2011', '2012', '2013',\n",
       "       '2014', '2015', '2016', '2017', '2018', '2019', '2020', 'Unnamed: 65'],\n",
       "      dtype='object')"
      ]
     },
     "execution_count": 12,
     "metadata": {},
     "output_type": "execute_result"
    }
   ],
   "source": [
    "female_unemployment.columns"
   ]
  },
  {
   "cell_type": "markdown",
   "metadata": {
    "id": "2nUJKtIf_tyb"
   },
   "source": [
    "Subset the dataset to include only relevant columns:"
   ]
  },
  {
   "cell_type": "code",
   "execution_count": 13,
   "metadata": {
    "id": "Q3V4nOkrIjBz"
   },
   "outputs": [],
   "source": [
    "female_unemployment = female_unemployment[['Country Name', 'Country Code',\n",
    "                                          '1991', '1992', '1993', '1994', '1995',\n",
    "                                          '1996', '1997', '1998', '1999', '2000', '2001', '2002', '2003', '2004',\n",
    "                                          '2005', '2006', '2007', '2008', '2009', '2010', '2011', '2012', '2013',\n",
    "                                          '2014', '2015', '2016', '2017', '2018', '2019']]"
   ]
  },
  {
   "cell_type": "code",
   "execution_count": 14,
   "metadata": {
    "colab": {
     "base_uri": "https://localhost:8080/"
    },
    "id": "VGX1_mJ9IMgW",
    "outputId": "69d2b58d-8dd2-4776-d7e1-30b584baf51e"
   },
   "outputs": [
    {
     "data": {
      "text/plain": [
       "(264, 31)"
      ]
     },
     "execution_count": 14,
     "metadata": {},
     "output_type": "execute_result"
    }
   ],
   "source": [
    "female_unemployment.shape"
   ]
  },
  {
   "cell_type": "code",
   "execution_count": 15,
   "metadata": {
    "colab": {
     "base_uri": "https://localhost:8080/",
     "height": 244
    },
    "id": "95YSNqBeH5Oo",
    "outputId": "30bbe961-72c6-4d0c-8ed3-13374289c277"
   },
   "outputs": [
    {
     "data": {
      "text/html": [
       "<div>\n",
       "<style scoped>\n",
       "    .dataframe tbody tr th:only-of-type {\n",
       "        vertical-align: middle;\n",
       "    }\n",
       "\n",
       "    .dataframe tbody tr th {\n",
       "        vertical-align: top;\n",
       "    }\n",
       "\n",
       "    .dataframe thead th {\n",
       "        text-align: right;\n",
       "    }\n",
       "</style>\n",
       "<table border=\"1\" class=\"dataframe\">\n",
       "  <thead>\n",
       "    <tr style=\"text-align: right;\">\n",
       "      <th></th>\n",
       "      <th>Country Name</th>\n",
       "      <th>Country Code</th>\n",
       "      <th>1991</th>\n",
       "      <th>1992</th>\n",
       "      <th>1993</th>\n",
       "      <th>1994</th>\n",
       "      <th>1995</th>\n",
       "      <th>1996</th>\n",
       "      <th>1997</th>\n",
       "      <th>1998</th>\n",
       "      <th>...</th>\n",
       "      <th>2010</th>\n",
       "      <th>2011</th>\n",
       "      <th>2012</th>\n",
       "      <th>2013</th>\n",
       "      <th>2014</th>\n",
       "      <th>2015</th>\n",
       "      <th>2016</th>\n",
       "      <th>2017</th>\n",
       "      <th>2018</th>\n",
       "      <th>2019</th>\n",
       "    </tr>\n",
       "  </thead>\n",
       "  <tbody>\n",
       "    <tr>\n",
       "      <th>4</th>\n",
       "      <td>Aruba</td>\n",
       "      <td>ABW</td>\n",
       "      <td>NaN</td>\n",
       "      <td>NaN</td>\n",
       "      <td>NaN</td>\n",
       "      <td>NaN</td>\n",
       "      <td>NaN</td>\n",
       "      <td>NaN</td>\n",
       "      <td>NaN</td>\n",
       "      <td>NaN</td>\n",
       "      <td>...</td>\n",
       "      <td>NaN</td>\n",
       "      <td>NaN</td>\n",
       "      <td>NaN</td>\n",
       "      <td>NaN</td>\n",
       "      <td>NaN</td>\n",
       "      <td>NaN</td>\n",
       "      <td>NaN</td>\n",
       "      <td>NaN</td>\n",
       "      <td>NaN</td>\n",
       "      <td>NaN</td>\n",
       "    </tr>\n",
       "    <tr>\n",
       "      <th>166</th>\n",
       "      <td>Afghanistan</td>\n",
       "      <td>AFG</td>\n",
       "      <td>14.36</td>\n",
       "      <td>14.610000</td>\n",
       "      <td>14.610000</td>\n",
       "      <td>14.760000</td>\n",
       "      <td>14.950000</td>\n",
       "      <td>14.58</td>\n",
       "      <td>14.76</td>\n",
       "      <td>14.770000</td>\n",
       "      <td>...</td>\n",
       "      <td>14.76</td>\n",
       "      <td>14.79</td>\n",
       "      <td>14.86</td>\n",
       "      <td>14.70</td>\n",
       "      <td>14.53</td>\n",
       "      <td>14.450000</td>\n",
       "      <td>14.33</td>\n",
       "      <td>14.09</td>\n",
       "      <td>13.92</td>\n",
       "      <td>13.81</td>\n",
       "    </tr>\n",
       "    <tr>\n",
       "      <th>328</th>\n",
       "      <td>Angola</td>\n",
       "      <td>AGO</td>\n",
       "      <td>2.59</td>\n",
       "      <td>2.830000</td>\n",
       "      <td>2.900000</td>\n",
       "      <td>2.910000</td>\n",
       "      <td>2.940000</td>\n",
       "      <td>3.02</td>\n",
       "      <td>2.91</td>\n",
       "      <td>2.970000</td>\n",
       "      <td>...</td>\n",
       "      <td>10.92</td>\n",
       "      <td>7.72</td>\n",
       "      <td>7.81</td>\n",
       "      <td>7.78</td>\n",
       "      <td>7.71</td>\n",
       "      <td>7.650000</td>\n",
       "      <td>7.50</td>\n",
       "      <td>7.41</td>\n",
       "      <td>7.28</td>\n",
       "      <td>7.22</td>\n",
       "    </tr>\n",
       "    <tr>\n",
       "      <th>490</th>\n",
       "      <td>Albania</td>\n",
       "      <td>ALB</td>\n",
       "      <td>15.60</td>\n",
       "      <td>16.040001</td>\n",
       "      <td>16.639999</td>\n",
       "      <td>16.780001</td>\n",
       "      <td>16.790001</td>\n",
       "      <td>16.76</td>\n",
       "      <td>16.41</td>\n",
       "      <td>16.780001</td>\n",
       "      <td>...</td>\n",
       "      <td>15.88</td>\n",
       "      <td>13.75</td>\n",
       "      <td>11.46</td>\n",
       "      <td>13.34</td>\n",
       "      <td>15.45</td>\n",
       "      <td>17.120001</td>\n",
       "      <td>14.45</td>\n",
       "      <td>12.48</td>\n",
       "      <td>11.87</td>\n",
       "      <td>11.31</td>\n",
       "    </tr>\n",
       "    <tr>\n",
       "      <th>652</th>\n",
       "      <td>Andorra</td>\n",
       "      <td>AND</td>\n",
       "      <td>NaN</td>\n",
       "      <td>NaN</td>\n",
       "      <td>NaN</td>\n",
       "      <td>NaN</td>\n",
       "      <td>NaN</td>\n",
       "      <td>NaN</td>\n",
       "      <td>NaN</td>\n",
       "      <td>NaN</td>\n",
       "      <td>...</td>\n",
       "      <td>NaN</td>\n",
       "      <td>NaN</td>\n",
       "      <td>NaN</td>\n",
       "      <td>NaN</td>\n",
       "      <td>NaN</td>\n",
       "      <td>NaN</td>\n",
       "      <td>NaN</td>\n",
       "      <td>NaN</td>\n",
       "      <td>NaN</td>\n",
       "      <td>NaN</td>\n",
       "    </tr>\n",
       "  </tbody>\n",
       "</table>\n",
       "<p>5 rows × 31 columns</p>\n",
       "</div>"
      ],
      "text/plain": [
       "    Country Name Country Code   1991       1992       1993       1994  \\\n",
       "4          Aruba          ABW    NaN        NaN        NaN        NaN   \n",
       "166  Afghanistan          AFG  14.36  14.610000  14.610000  14.760000   \n",
       "328       Angola          AGO   2.59   2.830000   2.900000   2.910000   \n",
       "490      Albania          ALB  15.60  16.040001  16.639999  16.780001   \n",
       "652      Andorra          AND    NaN        NaN        NaN        NaN   \n",
       "\n",
       "          1995   1996   1997       1998  ...   2010   2011   2012   2013  \\\n",
       "4          NaN    NaN    NaN        NaN  ...    NaN    NaN    NaN    NaN   \n",
       "166  14.950000  14.58  14.76  14.770000  ...  14.76  14.79  14.86  14.70   \n",
       "328   2.940000   3.02   2.91   2.970000  ...  10.92   7.72   7.81   7.78   \n",
       "490  16.790001  16.76  16.41  16.780001  ...  15.88  13.75  11.46  13.34   \n",
       "652        NaN    NaN    NaN        NaN  ...    NaN    NaN    NaN    NaN   \n",
       "\n",
       "      2014       2015   2016   2017   2018   2019  \n",
       "4      NaN        NaN    NaN    NaN    NaN    NaN  \n",
       "166  14.53  14.450000  14.33  14.09  13.92  13.81  \n",
       "328   7.71   7.650000   7.50   7.41   7.28   7.22  \n",
       "490  15.45  17.120001  14.45  12.48  11.87  11.31  \n",
       "652    NaN        NaN    NaN    NaN    NaN    NaN  \n",
       "\n",
       "[5 rows x 31 columns]"
      ]
     },
     "execution_count": 15,
     "metadata": {},
     "output_type": "execute_result"
    }
   ],
   "source": [
    "female_unemployment.head()"
   ]
  },
  {
   "cell_type": "markdown",
   "metadata": {
    "id": "71WbsoQE_y3u"
   },
   "source": [
    "Notice there are still countries with missing data. Let's check how many are missing in 1991 and 2019."
   ]
  },
  {
   "cell_type": "code",
   "execution_count": 16,
   "metadata": {
    "colab": {
     "base_uri": "https://localhost:8080/"
    },
    "id": "fxsDqKjnKehd",
    "outputId": "350eb33c-de98-4f4a-90df-47004edbbfd7"
   },
   "outputs": [
    {
     "data": {
      "text/plain": [
       "31"
      ]
     },
     "execution_count": 16,
     "metadata": {},
     "output_type": "execute_result"
    }
   ],
   "source": [
    "pd.isnull(female_unemployment['1991']).sum()"
   ]
  },
  {
   "cell_type": "code",
   "execution_count": 17,
   "metadata": {
    "colab": {
     "base_uri": "https://localhost:8080/"
    },
    "id": "4LrSN1qXIVPK",
    "outputId": "30d80253-a6ed-49f6-c72e-0c48d0b7a62f"
   },
   "outputs": [
    {
     "data": {
      "text/plain": [
       "31"
      ]
     },
     "execution_count": 17,
     "metadata": {},
     "output_type": "execute_result"
    }
   ],
   "source": [
    "pd.isnull(female_unemployment['2019']).sum()"
   ]
  },
  {
   "cell_type": "markdown",
   "metadata": {
    "id": "9uAkDjN9AB0F"
   },
   "source": [
    "Both are the same, it is likely these countries just do not provide the data at all. Let's exclude any countries with missing data:"
   ]
  },
  {
   "cell_type": "code",
   "execution_count": 18,
   "metadata": {
    "id": "6y5MrBPQKtin"
   },
   "outputs": [],
   "source": [
    "female_unemployment = female_unemployment.dropna()"
   ]
  },
  {
   "cell_type": "code",
   "execution_count": 19,
   "metadata": {
    "colab": {
     "base_uri": "https://localhost:8080/"
    },
    "id": "S-byfZBnK0yQ",
    "outputId": "3d3bbcac-71d2-4c65-cc10-09fdce3484da"
   },
   "outputs": [
    {
     "data": {
      "text/plain": [
       "(233, 31)"
      ]
     },
     "execution_count": 19,
     "metadata": {},
     "output_type": "execute_result"
    }
   ],
   "source": [
    "female_unemployment.shape"
   ]
  },
  {
   "cell_type": "markdown",
   "metadata": {},
   "source": [
    "# Using Plotly"
   ]
  },
  {
   "cell_type": "markdown",
   "metadata": {
    "id": "yYMZso8qEu7Y"
   },
   "source": [
    "Install plotly and import the express module."
   ]
  },
  {
   "cell_type": "code",
   "execution_count": 20,
   "metadata": {
    "colab": {
     "base_uri": "https://localhost:8080/"
    },
    "id": "Y1yWwwciB-M0",
    "outputId": "25c00e91-6177-48b9-a32c-5664df86c2e9"
   },
   "outputs": [],
   "source": [
    "# Ensure up to date version of plotly\n",
    "# !pip install plotly==4.14.3"
   ]
  },
  {
   "cell_type": "code",
   "execution_count": 21,
   "metadata": {
    "id": "3WpuAo9n9jJV"
   },
   "outputs": [
    {
     "ename": "ModuleNotFoundError",
     "evalue": "No module named 'plotly'",
     "output_type": "error",
     "traceback": [
      "\u001b[0;31m---------------------------------------------------------------------------\u001b[0m",
      "\u001b[0;31mModuleNotFoundError\u001b[0m                       Traceback (most recent call last)",
      "\u001b[0;32m<ipython-input-21-86e89bd44552>\u001b[0m in \u001b[0;36m<module>\u001b[0;34m\u001b[0m\n\u001b[0;32m----> 1\u001b[0;31m \u001b[0;32mimport\u001b[0m \u001b[0mplotly\u001b[0m\u001b[0;34m.\u001b[0m\u001b[0mexpress\u001b[0m \u001b[0;32mas\u001b[0m \u001b[0mpx\u001b[0m\u001b[0;34m\u001b[0m\u001b[0;34m\u001b[0m\u001b[0m\n\u001b[0m",
      "\u001b[0;31mModuleNotFoundError\u001b[0m: No module named 'plotly'"
     ]
    }
   ],
   "source": [
    "import plotly.express as px"
   ]
  },
  {
   "cell_type": "markdown",
   "metadata": {},
   "source": [
    "## Basic Plots"
   ]
  },
  {
   "cell_type": "markdown",
   "metadata": {},
   "source": [
    "### Create a scatter plot using Ploty for one year\n",
    "\n",
    "https://plotly.com/python/line-and-scatter/"
   ]
  },
  {
   "cell_type": "code",
   "execution_count": null,
   "metadata": {},
   "outputs": [],
   "source": [
    "fig = px.scatter(female_unemployment, y=\"2019\", x=\"Country Name\", title='Female Unemployment in 2019', color = 'Country Code')\n",
    "fig.show()"
   ]
  },
  {
   "cell_type": "markdown",
   "metadata": {},
   "source": [
    "Hover over the scatterplot and notice the tooltip.\n",
    "\n",
    "Also try options including Zoom, Pan, Lasso Select, Box Select that Plotly provides. These would show up when you hover over the plot"
   ]
  },
  {
   "cell_type": "markdown",
   "metadata": {},
   "source": [
    "### Plotly also has a Dot Plot \n",
    "\n",
    "https://plotly.com/python/dot-plots/\n",
    "\n",
    "Could you convert the scatter plot to a dot plot?"
   ]
  },
  {
   "cell_type": "markdown",
   "metadata": {},
   "source": [
    "## Maps Using Plotly\n",
    "\n",
    "https://plotly.com/python/maps/"
   ]
  },
  {
   "cell_type": "markdown",
   "metadata": {},
   "source": [
    "### Create a static map using Plotly for one year\n",
    "Using a choropleth map from plotly to create a map. For this we need the three letter country code in our data. We also need to select just one year to visualise. The below code is for 2019. If you hover over the map you will see the detail including country name. You can also zoom in and out of the chart using your mouse or keyboard."
   ]
  },
  {
   "cell_type": "code",
   "execution_count": null,
   "metadata": {
    "id": "STIZlPgy9j_0"
   },
   "outputs": [],
   "source": [
    "# https://plotly.com/python/mapbox-county-choropleth/\n",
    "    \n",
    "fig = px.choropleth(female_unemployment, # dataset to use\n",
    "                    locations=\"Country Code\", # column which includes 3 letter country code\n",
    "                    color=\"2019\", # column which dictates the colour of the map\n",
    "                    hover_name=\"Country Name\", # column to add to hover information\n",
    "                    range_color=(0, 30), # range of the colour scale\n",
    "                    color_continuous_scale=\"aggrnyl\") # colour scale (these can be predefined or you can create your own)\n",
    "fig.show()"
   ]
  },
  {
   "cell_type": "markdown",
   "metadata": {},
   "source": [
    "### Pie chart in Plotly\n",
    "\n",
    "https://plotly.com/python/pie-charts/"
   ]
  },
  {
   "cell_type": "markdown",
   "metadata": {},
   "source": [
    "We could also generate a Pie chart in Plotly"
   ]
  },
  {
   "cell_type": "markdown",
   "metadata": {},
   "source": [
    "For generating Pie chart, we will the count of seconary education teachers in four countries"
   ]
  },
  {
   "cell_type": "code",
   "execution_count": null,
   "metadata": {},
   "outputs": [],
   "source": [
    "df_secondary_teachers = main_data.query(\"`Indicator Name` == 'Secondary education, teachers'\")\n",
    "df_secondary_teachers = df_secondary_teachers[['Country Code', '2017']]\n",
    "df_secondary_teachers = df_secondary_teachers.loc[df_secondary_teachers['Country Code'].isin(['GBR','USA','IND','BRA'])]\n",
    "\n",
    "df_secondary_teachers"
   ]
  },
  {
   "cell_type": "code",
   "execution_count": null,
   "metadata": {},
   "outputs": [],
   "source": [
    "fig = px.pie(df_secondary_teachers, values='2017', names ='Country Code', title='Secondary education teachers')\n",
    "fig.show()"
   ]
  },
  {
   "cell_type": "markdown",
   "metadata": {
    "id": "aj4sClCo9rE5"
   },
   "source": [
    "## More Data Wrangling"
   ]
  },
  {
   "cell_type": "markdown",
   "metadata": {},
   "source": [
    "For more analysis, it is better to convert all of the columns for each year into two columns - Year and Unemployment Rate.\n",
    "\n",
    "https://pandas.pydata.org/pandas-docs/stable/reference/api/pandas.melt.html"
   ]
  },
  {
   "cell_type": "code",
   "execution_count": null,
   "metadata": {},
   "outputs": [],
   "source": [
    "df = female_unemployment.melt(id_vars=[\"Country Name\",\t\"Country Code\"], \n",
    "        var_name=\"year\", \n",
    "        value_name=\"Unemployment_Rate\")"
   ]
  },
  {
   "cell_type": "markdown",
   "metadata": {},
   "source": [
    "It is also helpful to convert year from a string to a numeric value."
   ]
  },
  {
   "cell_type": "code",
   "execution_count": null,
   "metadata": {},
   "outputs": [],
   "source": [
    "df['year'] = pd.to_numeric(df['year'])\n",
    "\n",
    "df.head()"
   ]
  },
  {
   "cell_type": "markdown",
   "metadata": {},
   "source": [
    "Let us filter data only from the United Kingdom"
   ]
  },
  {
   "cell_type": "code",
   "execution_count": null,
   "metadata": {},
   "outputs": [],
   "source": [
    "df_uk = df.loc[df['Country Code'] == 'GBR']"
   ]
  },
  {
   "cell_type": "code",
   "execution_count": null,
   "metadata": {},
   "outputs": [],
   "source": [
    "fig = px.line(df_uk, x=\"year\", y=\"Unemployment_Rate\", title='Female Unemployment', color=\"Country Code\")\n",
    "fig.show()"
   ]
  },
  {
   "cell_type": "markdown",
   "metadata": {},
   "source": [
    "In addition to the United Kingdom, let us add a few other countries and generate a line plot"
   ]
  },
  {
   "cell_type": "code",
   "execution_count": null,
   "metadata": {},
   "outputs": [],
   "source": [
    "df_uk_plus = df.loc[df['Country Code'].isin(['GBR','USA','AUS','CAN'])]\n",
    "fig = px.line(df_uk_plus, x=\"year\", y=\"Unemployment_Rate\", title='Female Unemployment', color=\"Country Code\")\n",
    "fig.show()"
   ]
  },
  {
   "cell_type": "markdown",
   "metadata": {},
   "source": [
    "Let us now try a bar a barplot"
   ]
  },
  {
   "cell_type": "code",
   "execution_count": null,
   "metadata": {},
   "outputs": [],
   "source": [
    "fig = px.bar(df_uk_plus, x=\"year\", y=\"Unemployment_Rate\", color=\"Country Code\", barmode=\"group\")\n",
    "fig.show()"
   ]
  },
  {
   "cell_type": "markdown",
   "metadata": {},
   "source": [
    "Instead of grouping by year, let us try grouping by country to see individual trends"
   ]
  },
  {
   "cell_type": "code",
   "execution_count": null,
   "metadata": {},
   "outputs": [],
   "source": [
    "df_filter1 = df.loc[df['Country Code'].isin(['GBR','USA','AUS','CAN'])]\n",
    "df_filter1"
   ]
  },
  {
   "cell_type": "markdown",
   "metadata": {},
   "source": [
    "Let us restrict the records to year 2015 onward"
   ]
  },
  {
   "cell_type": "code",
   "execution_count": null,
   "metadata": {},
   "outputs": [],
   "source": [
    "df_filter2 = df_uk_plus.loc[df_filter1['year'].isin(['2015', '2016', '2017','2018'])]\n",
    "df_filter2"
   ]
  },
  {
   "cell_type": "code",
   "execution_count": null,
   "metadata": {},
   "outputs": [],
   "source": [
    "fig = px.bar(df_uk_plus, x=\"Country Name\", y=\"Unemployment_Rate\", color=\"year\", barmode=\"group\")\n",
    "fig.show()\n",
    "\n",
    "# Is this bar plot correct? "
   ]
  },
  {
   "cell_type": "markdown",
   "metadata": {},
   "source": [
    "# Animation in Plotly"
   ]
  },
  {
   "cell_type": "markdown",
   "metadata": {},
   "source": [
    "We will now look at the animation feature of Plotly. Let us comparing female unemployment rates in the UK, USA, Australia, and Canada via an animated scatter plot. \n",
    "\n",
    "To animate, we specify an attribute animation_group. "
   ]
  },
  {
   "cell_type": "code",
   "execution_count": null,
   "metadata": {},
   "outputs": [],
   "source": [
    "fig = px.scatter(df_filter1, y='Unemployment_Rate' , x=\"Country Name\", title='Female Unemployment', \n",
    "                 color = 'Country Code', animation_frame=\"year\", animation_group=\"Country Code\", \n",
    "                range_y=[1,15])\n",
    "fig.show()"
   ]
  },
  {
   "cell_type": "markdown",
   "metadata": {},
   "source": [
    "## Animation with Maps"
   ]
  },
  {
   "cell_type": "code",
   "execution_count": null,
   "metadata": {},
   "outputs": [],
   "source": [
    "fig = px.choropleth(df, # dataset to use\n",
    "                    locations=\"Country Code\", # column which includes 3 letter country code\n",
    "                    color=\"Unemployment_Rate\", # column which dictates the colour of the map\n",
    "                    hover_name=\"Country Name\", # column to add to hover information\n",
    "                    range_color=(0, 30), # range of the colour scale\n",
    "                    color_continuous_scale=\"aggrnyl\",  # colour scale (these can be predefined or you can create your own)\n",
    "                    animation_frame =\"year\"\n",
    "                   )\n",
    "fig.show()"
   ]
  },
  {
   "cell_type": "markdown",
   "metadata": {},
   "source": [
    "## Select at least three other indicators from below"
   ]
  },
  {
   "cell_type": "code",
   "execution_count": null,
   "metadata": {},
   "outputs": [],
   "source": [
    "main_data['Indicator Name'].unique()"
   ]
  },
  {
   "cell_type": "markdown",
   "metadata": {},
   "source": [
    "## Create Basic Charts using Plotly\n",
    "\n",
    "https://plotly.com/python/basic-charts/\n",
    "\n",
    "You may consider applying transform or melt functions\n",
    "\n",
    "https://pandas.pydata.org/pandas-docs/stable/reference/api/pandas.DataFrame.transform.html\n",
    "https://pandas.pydata.org/pandas-docs/stable/reference/api/pandas.melt.html#"
   ]
  },
  {
   "cell_type": "markdown",
   "metadata": {},
   "source": [
    "## Create Statistical Charts\n",
    "\n",
    "https://plotly.com/python/statistical-charts/\n",
    "\n",
    "Compare various countries on the indicator you selected using Box Plots, Distribution Plots, and Violin Plots"
   ]
  },
  {
   "cell_type": "markdown",
   "metadata": {},
   "source": [
    "## Create Scientific Charts\n",
    "\n",
    "Are there any charts in the scientific charts catalog that could better represent the indicators compared to the basic charts and the statistical charts?\n",
    "\n",
    "https://plotly.com/python/scientific-charts/"
   ]
  },
  {
   "cell_type": "markdown",
   "metadata": {},
   "source": [
    "## Create 3D Plots\n",
    "\n",
    "https://plotly.com/python/3d-charts/"
   ]
  },
  {
   "cell_type": "markdown",
   "metadata": {},
   "source": [
    "## Animate 3D Plots\n",
    "\n",
    "https://plotly.com/python/#animations"
   ]
  },
  {
   "cell_type": "markdown",
   "metadata": {
    "id": "_5JGnjMI9xZT"
   },
   "source": [
    "## Create an Interactive Map Using Plotly"
   ]
  },
  {
   "cell_type": "markdown",
   "metadata": {
    "id": "6fMfhwxkFHQo"
   },
   "source": [
    "*Dash* is a library to create interactive dashboards using HTML and CSS. A specific version has been created for Juypter notebooks which we need to install."
   ]
  },
  {
   "cell_type": "code",
   "execution_count": null,
   "metadata": {
    "colab": {
     "base_uri": "https://localhost:8080/"
    },
    "id": "uVy7IT2sCDFZ",
    "outputId": "8fd63d6b-b64b-40f6-e6b2-77561f48a39a"
   },
   "outputs": [],
   "source": [
    "# Install jupter-dash via pip or conda \n",
    "\n",
    "# !pip install jupyter-dash\n",
    "# !conda install -c plotly jupyter-dash "
   ]
  },
  {
   "cell_type": "markdown",
   "metadata": {
    "id": "kFmPwp5GFb2G"
   },
   "source": [
    "To create the dashboard, we create an application (this is similar to create an application for a server using Nodejs or flask). We can use HTML commands to define the layout of the dashboard, and we can also use an external CSS file to style the dashboard.\n",
    "\n",
    "You can toggle through the years using your mouse, or once clicked the right and elft arrow keys.\n",
    "\n",
    "\n"
   ]
  },
  {
   "cell_type": "code",
   "execution_count": null,
   "metadata": {
    "colab": {
     "base_uri": "https://localhost:8080/",
     "height": 671
    },
    "id": "HfnrVPiZWfQI",
    "outputId": "ea28ceb7-e615-4c0f-dd16-1e2075ccb32e"
   },
   "outputs": [],
   "source": [
    "import plotly.express as px\n",
    "from jupyter_dash import JupyterDash\n",
    "# import dash # needed if not using Jupyter notebooks\n",
    "import dash_core_components as dcc\n",
    "import dash_html_components as html\n",
    "from dash.dependencies import Input, Output\n",
    "\n",
    "# When using Dash, you can link to any external CSS files to style your dashboard\n",
    "external_stylesheets = ['https://codepen.io/chriddyp/pen/bWLwgP.css']\n",
    "\n",
    "# Build App\n",
    "app = JupyterDash(__name__, external_stylesheets=external_stylesheets)\n",
    "\n",
    "## Use the below line (instead of above) if not using Jupyter notebooks\n",
    "# app = dash.Dash(__name__, external_stylesheets=external_stylesheets)\n",
    "\n",
    "# Define the layout of the app\n",
    "app.layout = html.Div([\n",
    "    html.H1(\"Female Unemployment (%)\"), # title\n",
    "    dcc.Graph(id='graph'), # graph ID\n",
    "    html.Label('Year'),\n",
    "    # Create a slider for the years\n",
    "    dcc.Slider( \n",
    "        id=\"year-slider\",\n",
    "        min=df['year'].min(),\n",
    "        max=df['year'].max(),\n",
    "        value=df['year'].min(),\n",
    "        marks={str(year): str(year) for year in df['year'].unique()}\n",
    "    )\n",
    "])\n",
    "\n",
    "# Define callback to update graph\n",
    "@app.callback(\n",
    "    Output('graph', 'figure'),\n",
    "    [Input(\"year-slider\", \"value\")]\n",
    ")\n",
    "def update_figure(selected_year):\n",
    "    filtered_df = df[df.year == selected_year] # subset the dataframe based on year\n",
    "    return px.choropleth(filtered_df, locations=\"Country Code\",\n",
    "                    color=\"Unemployment_Rate\", \n",
    "                    hover_name=\"Country Name\", \n",
    "                    range_color=(0, 50),\n",
    "                    color_continuous_scale=\"plotly3\")\n",
    " \n",
    "# Run app and display result inline in the notebook\n",
    "\n",
    "#  Uncomment the line below to run the server\n",
    "# app.run_server(mode='inline')"
   ]
  },
  {
   "cell_type": "markdown",
   "metadata": {
    "id": "8KsSOBfaG8nT"
   },
   "source": [
    "When using Jupyter notebooks, we can run this application within the notebook as in the example below.\n",
    "\n",
    "If the last line of the code is replaced with the following code, it will create the dashboard on a local host server.\n",
    "\n",
    "```\n",
    "if __name__ == '__main__':\n",
    "     app.run_server(debug=True)\n",
    "```\n"
   ]
  },
  {
   "cell_type": "markdown",
   "metadata": {},
   "source": [
    "### Issues with Jupyter-Dash\n",
    "\n",
    "Jupyter-Dash may complain when trying to run on Jupyter Notebook on local machine.\n",
    "Try changing the host name or port number using the code in the cell below. \n",
    "A better alternative is to switch to Google Colab (https://colab.research.google.com) for creating dashboard.\n",
    "\n",
    "You could upload the notebook you are working with on Colab.\n",
    "\n",
    "Create a copy of the Colab notebook available here: \n",
    "https://colab.research.google.com/drive/1Z4KMfAD_Tm5b1TUiMIUnj3oR9cgvJ-Td?usp=sharing\n",
    "\n",
    "Remember to upload the data to Colab. "
   ]
  },
  {
   "cell_type": "code",
   "execution_count": null,
   "metadata": {},
   "outputs": [],
   "source": [
    "# Troubleshooting: MaxRetryError: HTTPConnectionPool(host='127.0.0.1', port=8050): Max retries exceeded with url\n",
    "\n",
    "# You can specify host using the host attribute\n",
    "# app.run_server(mode=\"inline\", host = \"localhost\", debug = True)\n",
    "\n",
    "\n",
    "# If you receive an error that the port is already occupied, you could use the script below to find an open port.\n",
    "\n",
    "# import socket \n",
    "# def find_open_port():\n",
    "#     s = socket.socket()\n",
    "#     s.setsockopt(socket.SOL_SOCKET, socket.SO_REUSEADDR, 1)\n",
    "#     s.bind((\"\", 0))\n",
    "#     _, port = s.getsockname()\n",
    "#     s.close()\n",
    "\n",
    "#     return port\n",
    "\n",
    "# port = find_open_port()\n",
    "# print(\"port: {port}\".format(port=port))\n",
    "# app.run_server(mode=\"external\", port=port, host=\"0.0.0.0\")"
   ]
  }
 ],
 "metadata": {
  "colab": {
   "collapsed_sections": [],
   "name": "Copy of Plotly Example - Female Unemployment.ipynb",
   "provenance": [],
   "toc_visible": true
  },
  "kernelspec": {
   "display_name": "Python 3",
   "language": "python",
   "name": "python3"
  },
  "language_info": {
   "codemirror_mode": {
    "name": "ipython",
    "version": 3
   },
   "file_extension": ".py",
   "mimetype": "text/x-python",
   "name": "python",
   "nbconvert_exporter": "python",
   "pygments_lexer": "ipython3",
   "version": "3.8.5"
  }
 },
 "nbformat": 4,
 "nbformat_minor": 1
}
