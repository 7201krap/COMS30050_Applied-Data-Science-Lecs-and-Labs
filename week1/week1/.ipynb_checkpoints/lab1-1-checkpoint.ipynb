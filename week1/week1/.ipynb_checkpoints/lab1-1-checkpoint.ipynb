{
 "cells": [
  {
   "cell_type": "code",
   "execution_count": 1,
   "metadata": {},
   "outputs": [],
   "source": [
    "# List comprehension"
   ]
  },
  {
   "cell_type": "code",
   "execution_count": 132,
   "metadata": {},
   "outputs": [],
   "source": [
    "li = [-2, -1, 0, 1, 2]"
   ]
  },
  {
   "cell_type": "code",
   "execution_count": 133,
   "metadata": {},
   "outputs": [
    {
     "name": "stdout",
     "output_type": "stream",
     "text": [
      "1.  [-2, -1, 0, 1, 2]\n",
      "2.  [1, 2]\n",
      "3.  [-2, -1]\n",
      "4.  [-4, -2, 0, 2, 4]\n",
      "5.  [-4, -2, 0, 2]\n"
     ]
    }
   ],
   "source": [
    "print(\"1. \", [elem for elem in li])\n",
    "print(\"2. \", [elem for elem in li if elem > 0])\n",
    "print(\"3. \", [elem for elem in li if elem < 0])\n",
    "print(\"4. \", [elem*2 for elem in li])\n",
    "print(\"5. \", [elem*2 for elem in li if elem <= 1])"
   ]
  },
  {
   "cell_type": "code",
   "execution_count": 134,
   "metadata": {},
   "outputs": [],
   "source": [
    "# filter"
   ]
  },
  {
   "cell_type": "code",
   "execution_count": 135,
   "metadata": {},
   "outputs": [],
   "source": [
    "def is_positive(elem):\n",
    "    return elem > 0"
   ]
  },
  {
   "cell_type": "code",
   "execution_count": 136,
   "metadata": {
    "scrolled": true
   },
   "outputs": [
    {
     "name": "stdout",
     "output_type": "stream",
     "text": [
      "<filter object at 0x7f484c481e50>\n",
      "[1, 2]\n"
     ]
    }
   ],
   "source": [
    "# print positive number\n",
    "print(filter(is_positive, li))\n",
    "print(list(filter(is_positive, li)))"
   ]
  },
  {
   "cell_type": "code",
   "execution_count": 137,
   "metadata": {},
   "outputs": [
    {
     "name": "stdout",
     "output_type": "stream",
     "text": [
      "[0, 1, 2]\n"
     ]
    }
   ],
   "source": [
    "# print positive number including 1 \n",
    "print(list(filter(lambda el: el >= 0, li)))"
   ]
  },
  {
   "cell_type": "code",
   "execution_count": 138,
   "metadata": {},
   "outputs": [
    {
     "name": "stdout",
     "output_type": "stream",
     "text": [
      "[-2, -1, 0]\n"
     ]
    }
   ],
   "source": [
    "# print negative number including 2\n",
    "print(list(filter(lambda el: el <= 0, li)))"
   ]
  },
  {
   "cell_type": "code",
   "execution_count": 139,
   "metadata": {},
   "outputs": [
    {
     "name": "stdout",
     "output_type": "stream",
     "text": [
      "[-2, 2]\n"
     ]
    }
   ],
   "source": [
    "# print elements outside of a range\n",
    "print(list(filter(lambda el: -1 > el or el > 1, li)))"
   ]
  },
  {
   "cell_type": "code",
   "execution_count": 140,
   "metadata": {},
   "outputs": [
    {
     "name": "stdout",
     "output_type": "stream",
     "text": [
      "[-1, 0, 1]\n"
     ]
    }
   ],
   "source": [
    "# Return the elements found within a range \n",
    "# with the mathematical notation\n",
    "print(list(filter(lambda el: -1 <= el <= 1, li)))"
   ]
  },
  {
   "cell_type": "code",
   "execution_count": 141,
   "metadata": {},
   "outputs": [],
   "source": [
    "# how to use lambda"
   ]
  },
  {
   "cell_type": "code",
   "execution_count": 142,
   "metadata": {},
   "outputs": [],
   "source": [
    "# 1\n",
    "x = lambda a : a + 10"
   ]
  },
  {
   "cell_type": "code",
   "execution_count": 143,
   "metadata": {},
   "outputs": [
    {
     "name": "stdout",
     "output_type": "stream",
     "text": [
      "15\n"
     ]
    }
   ],
   "source": [
    "print(x(5))"
   ]
  },
  {
   "cell_type": "code",
   "execution_count": 144,
   "metadata": {},
   "outputs": [
    {
     "name": "stdout",
     "output_type": "stream",
     "text": [
      "13\n"
     ]
    }
   ],
   "source": [
    "# 2\n",
    "x = lambda a, b, c : a + b + c\n",
    "print(x(5, 6, 2))"
   ]
  },
  {
   "cell_type": "code",
   "execution_count": 145,
   "metadata": {},
   "outputs": [],
   "source": [
    "# map\n",
    "# 이거 매우 중요한듯 \n",
    "# 정말 중요하니까 꼭 다시 볼 것 "
   ]
  },
  {
   "cell_type": "code",
   "execution_count": 146,
   "metadata": {},
   "outputs": [
    {
     "name": "stdout",
     "output_type": "stream",
     "text": [
      "[2, 1, 0, 1, 2]\n"
     ]
    }
   ],
   "source": [
    "print([abs(elem) for elem in li])"
   ]
  },
  {
   "cell_type": "code",
   "execution_count": 147,
   "metadata": {},
   "outputs": [
    {
     "name": "stdout",
     "output_type": "stream",
     "text": [
      "[2, 1, 0, 1, 2]\n"
     ]
    }
   ],
   "source": [
    "# 해석방법 : li 를 abs 시킨다. \n",
    "print(list(map(abs, li)))"
   ]
  },
  {
   "cell_type": "code",
   "execution_count": 148,
   "metadata": {},
   "outputs": [
    {
     "name": "stdout",
     "output_type": "stream",
     "text": [
      "[-1, 0, 1, 2, 3]\n"
     ]
    }
   ],
   "source": [
    "def add_one(item):\n",
    "    return item + 1\n",
    "\n",
    "# 해석방법 : li 를 add_one 시킨다. \n",
    "print(list(map(add_one, li)))"
   ]
  },
  {
   "cell_type": "code",
   "execution_count": 149,
   "metadata": {},
   "outputs": [
    {
     "name": "stdout",
     "output_type": "stream",
     "text": [
      "[-4, -2, 0, 2, 4]\n"
     ]
    }
   ],
   "source": [
    "# li 는 여기서 주소로 취급된다.\n",
    "\n",
    "# 해석방법 : li 를 lambda el: el * 2 시킨다. \n",
    "print(list(map(lambda el: el * 2, li)))"
   ]
  },
  {
   "cell_type": "code",
   "execution_count": 150,
   "metadata": {},
   "outputs": [
    {
     "name": "stdout",
     "output_type": "stream",
     "text": [
      "[-4, -2, 0]\n"
     ]
    }
   ],
   "source": [
    "# li 와 마찬가지로 \n",
    "# filter(lambda el: el < 1, li) 는 여기서 주소로 취급된다.\n",
    "# 실제로 filter(lambda el: el < 1, li)를 찍어보면 주소가 나온다. \n",
    "\n",
    "# 해석방법 : filter(lambda el: el < 1, li) 를 \n",
    "# lambda el: el * 2 시킨다. \n",
    "print(list(map(lambda el: el * 2, filter(lambda el: el < 1, li))))"
   ]
  },
  {
   "cell_type": "code",
   "execution_count": 151,
   "metadata": {},
   "outputs": [],
   "source": [
    "li = [-2, -1, 0, 1, 2]"
   ]
  },
  {
   "cell_type": "code",
   "execution_count": 152,
   "metadata": {},
   "outputs": [
    {
     "name": "stdout",
     "output_type": "stream",
     "text": [
      "Integer array: [-2, -1, 0, 1, 2]\n",
      "Float array:   [-2.0, -1.0, 0.0, 1.0, 2.0]\n",
      "Boolean array: [True, True, False, True, True]\n"
     ]
    }
   ],
   "source": [
    "print('Integer array:', list(map(int, li)))\n",
    "print('Float array:  ', list(map(float, li)))\n",
    "print('Boolean array:', list(map(bool, li)))"
   ]
  },
  {
   "cell_type": "code",
   "execution_count": 153,
   "metadata": {},
   "outputs": [],
   "source": [
    "# zip"
   ]
  },
  {
   "cell_type": "code",
   "execution_count": 154,
   "metadata": {},
   "outputs": [],
   "source": [
    "li_new = [1,2,3]"
   ]
  },
  {
   "cell_type": "code",
   "execution_count": 155,
   "metadata": {},
   "outputs": [
    {
     "name": "stdout",
     "output_type": "stream",
     "text": [
      "-2 1\n",
      "-1 2\n",
      "0 3\n"
     ]
    }
   ],
   "source": [
    "for el1, el2 in zip(li, li_new):\n",
    "    print(el1, el2)"
   ]
  },
  {
   "cell_type": "code",
   "execution_count": 190,
   "metadata": {},
   "outputs": [],
   "source": [
    "def add(l, r):\n",
    "    try:\n",
    "        return l * r\n",
    "    \n",
    "    except TypeError:\n",
    "        print(\"error\")\n",
    "        return None \n",
    "    \n",
    "def is_None(l, r):\n",
    "    return l is None or r is None \n",
    "\n",
    "l1 = [1, 2, 3]\n",
    "l2 = [5, 4, 3, 2, 1]"
   ]
  },
  {
   "cell_type": "code",
   "execution_count": 191,
   "metadata": {},
   "outputs": [
    {
     "name": "stdout",
     "output_type": "stream",
     "text": [
      "[5, 8, 9]\n"
     ]
    }
   ],
   "source": [
    "print(list(map(add, l1, l2)))"
   ]
  },
  {
   "cell_type": "code",
   "execution_count": 192,
   "metadata": {},
   "outputs": [
    {
     "name": "stdout",
     "output_type": "stream",
     "text": [
      "[False, False, False]\n"
     ]
    }
   ],
   "source": [
    "# 이건 뭔소린지 잘 모르겠음. \n",
    "print(list(map(is_None, l1, l2)))"
   ]
  },
  {
   "cell_type": "code",
   "execution_count": 193,
   "metadata": {},
   "outputs": [],
   "source": [
    "# enumerate \n",
    "# 쉽게 생각해서 그냥 index 랑 같이 출력하고 싶을때 이렇게 해주면 된다. "
   ]
  },
  {
   "cell_type": "code",
   "execution_count": 217,
   "metadata": {},
   "outputs": [],
   "source": [
    "l1 = [1,20,30,4,5]\n",
    "l2 = [1,5,3,2,-1]\n",
    "l3 = [-7,-4,-3,1,2]"
   ]
  },
  {
   "cell_type": "code",
   "execution_count": 218,
   "metadata": {},
   "outputs": [
    {
     "name": "stdout",
     "output_type": "stream",
     "text": [
      "index: 0, value: 1\n",
      "index: 1, value: 20\n",
      "index: 2, value: 30\n",
      "index: 3, value: 4\n",
      "index: 4, value: 5\n"
     ]
    }
   ],
   "source": [
    "for idx, value in enumerate(l1):\n",
    "    print(f\"index: {idx}, value: {value}\")"
   ]
  },
  {
   "cell_type": "code",
   "execution_count": 219,
   "metadata": {},
   "outputs": [
    {
     "name": "stdout",
     "output_type": "stream",
     "text": [
      "[1, 20, 30, 4, 5]\n",
      "[1, 5, 3, 2, -1]\n",
      "[-7, -4, -3, 1, 2]\n"
     ]
    }
   ],
   "source": [
    "print(l1)\n",
    "print(l2)\n",
    "print(l3)"
   ]
  },
  {
   "cell_type": "code",
   "execution_count": 220,
   "metadata": {},
   "outputs": [
    {
     "name": "stdout",
     "output_type": "stream",
     "text": [
      "10 (1, 1, -7)\n",
      "11 (20, 5, -4)\n",
      "12 (30, 3, -3)\n",
      "13 (4, 2, 1)\n",
      "14 (5, -1, 2)\n"
     ]
    }
   ],
   "source": [
    "for index, (a, b, c) in enumerate(zip(l1, l2, l3), start=10): \n",
    "    print(index, (a, b, c))"
   ]
  },
  {
   "cell_type": "code",
   "execution_count": null,
   "metadata": {},
   "outputs": [],
   "source": []
  }
 ],
 "metadata": {
  "kernelspec": {
   "display_name": "Python 3",
   "language": "python",
   "name": "python3"
  },
  "language_info": {
   "codemirror_mode": {
    "name": "ipython",
    "version": 3
   },
   "file_extension": ".py",
   "mimetype": "text/x-python",
   "name": "python",
   "nbconvert_exporter": "python",
   "pygments_lexer": "ipython3",
   "version": "3.8.5"
  }
 },
 "nbformat": 4,
 "nbformat_minor": 4
}
