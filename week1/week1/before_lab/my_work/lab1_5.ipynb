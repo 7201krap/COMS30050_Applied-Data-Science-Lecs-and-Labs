{
  "nbformat": 4,
  "nbformat_minor": 0,
  "metadata": {
    "kernelspec": {
      "display_name": "Python 3",
      "language": "python",
      "name": "python3"
    },
    "language_info": {
      "codemirror_mode": {
        "name": "ipython",
        "version": 3
      },
      "file_extension": ".py",
      "mimetype": "text/x-python",
      "name": "python",
      "nbconvert_exporter": "python",
      "pygments_lexer": "ipython3",
      "version": "3.8.5"
    },
    "colab": {
      "name": "lab1-5.ipynb",
      "provenance": [],
      "include_colab_link": true
    }
  },
  "cells": [
    {
      "cell_type": "markdown",
      "metadata": {
        "id": "view-in-github",
        "colab_type": "text"
      },
      "source": [
        "<a href=\"https://colab.research.google.com/github/7201krap/PYTHON_applied_data_science/blob/main/week1/lab1_5.ipynb\" target=\"_parent\"><img src=\"https://colab.research.google.com/assets/colab-badge.svg\" alt=\"Open In Colab\"/></a>"
      ]
    },
    {
      "cell_type": "code",
      "metadata": {
        "id": "z8jaH-Gi7_Xh"
      },
      "source": [
        "from bs4 import BeautifulSoup\n",
        "import requests"
      ],
      "execution_count": 12,
      "outputs": []
    },
    {
      "cell_type": "markdown",
      "metadata": {
        "id": "ylNBHD24G2vf"
      },
      "source": [
        "Basics of bs4 "
      ]
    },
    {
      "cell_type": "code",
      "metadata": {
        "id": "PqGCZT-h7_Xl"
      },
      "source": [
        "source = \"\"\"\n",
        "<!DOCTYPE html>  \n",
        "<html>  \n",
        "  <head>\n",
        "    <title>Scraping</title>\n",
        "  </head>\n",
        "  <body class=\"col-sm-12\">\n",
        "    <h1>section1</h1>\n",
        "    <p>paragraph1</p>\n",
        "    <p>paragraph2</p>\n",
        "    <div class=\"col-sm-2\">\n",
        "      <h2>section2</h2>\n",
        "      <p>paragraph3</p>\n",
        "      <p>unclosed\n",
        "    </div>\n",
        "  </body>\n",
        "</html>  \n",
        "\"\"\""
      ],
      "execution_count": 13,
      "outputs": []
    },
    {
      "cell_type": "code",
      "metadata": {
        "id": "iRDF2d4d7_Xm"
      },
      "source": [
        "# 여기에서 \"html.parser\" 를 이용하여 source 를 보겨 편하게 바꾸어 준다.\n",
        "# 그것을 soup 에다가 넣는다. \n",
        "# 또한 <p> 태그가 현재 닫혀있지 않는데, 이것도 자동으로 soup 이 </p> 를 넣어준다.\n",
        "soup = BeautifulSoup(source, \"html.parser\")"
      ],
      "execution_count": 14,
      "outputs": []
    },
    {
      "cell_type": "code",
      "metadata": {
        "colab": {
          "base_uri": "https://localhost:8080/"
        },
        "id": "zg3uyVAp7_Xn",
        "outputId": "9ed1f6a5-7d51-4125-a9b7-91f6f34ffcfc"
      },
      "source": [
        "soup"
      ],
      "execution_count": 15,
      "outputs": [
        {
          "output_type": "execute_result",
          "data": {
            "text/plain": [
              "\n",
              "<!DOCTYPE html>\n",
              "\n",
              "<html>\n",
              "<head>\n",
              "<title>Scraping</title>\n",
              "</head>\n",
              "<body class=\"col-sm-12\">\n",
              "<h1>section1</h1>\n",
              "<p>paragraph1</p>\n",
              "<p>paragraph2</p>\n",
              "<div class=\"col-sm-2\">\n",
              "<h2>section2</h2>\n",
              "<p>paragraph3</p>\n",
              "<p>unclosed\n",
              "    </p></div>\n",
              "</body>\n",
              "</html>"
            ]
          },
          "metadata": {
            "tags": []
          },
          "execution_count": 15
        }
      ]
    },
    {
      "cell_type": "code",
      "metadata": {
        "colab": {
          "base_uri": "https://localhost:8080/"
        },
        "id": "3RvtkdlG7_Xp",
        "outputId": "a36fcfed-3173-4431-93d4-87aed817e725"
      },
      "source": [
        "# 우리 보기 쉽게 출력해줌 \n",
        "print(soup.prettify())"
      ],
      "execution_count": 16,
      "outputs": [
        {
          "output_type": "stream",
          "text": [
            "<!DOCTYPE html>\n",
            "<html>\n",
            " <head>\n",
            "  <title>\n",
            "   Scraping\n",
            "  </title>\n",
            " </head>\n",
            " <body class=\"col-sm-12\">\n",
            "  <h1>\n",
            "   section1\n",
            "  </h1>\n",
            "  <p>\n",
            "   paragraph1\n",
            "  </p>\n",
            "  <p>\n",
            "   paragraph2\n",
            "  </p>\n",
            "  <div class=\"col-sm-2\">\n",
            "   <h2>\n",
            "    section2\n",
            "   </h2>\n",
            "   <p>\n",
            "    paragraph3\n",
            "   </p>\n",
            "   <p>\n",
            "    unclosed\n",
            "   </p>\n",
            "  </div>\n",
            " </body>\n",
            "</html>\n",
            "\n"
          ],
          "name": "stdout"
        }
      ]
    },
    {
      "cell_type": "code",
      "metadata": {
        "colab": {
          "base_uri": "https://localhost:8080/"
        },
        "id": "CLIAQfQL8SEw",
        "outputId": "43299776-5b0b-4030-fda5-5f472388c6a0"
      },
      "source": [
        "# soup.find_all\n",
        "print(soup.find_all(\"head\"))"
      ],
      "execution_count": 17,
      "outputs": [
        {
          "output_type": "stream",
          "text": [
            "[<head>\n",
            "<title>Scraping</title>\n",
            "</head>]\n"
          ],
          "name": "stdout"
        }
      ]
    },
    {
      "cell_type": "code",
      "metadata": {
        "id": "_xFAgvpX8p3l"
      },
      "source": [
        "# find type \n",
        "x = map(type, soup.find_all(\"head\"))"
      ],
      "execution_count": 24,
      "outputs": []
    },
    {
      "cell_type": "code",
      "metadata": {
        "colab": {
          "base_uri": "https://localhost:8080/"
        },
        "id": "TxiwYmWE_b9M",
        "outputId": "5dda4547-704d-4cc9-83da-e696af9e5027"
      },
      "source": [
        "list(x)"
      ],
      "execution_count": 19,
      "outputs": [
        {
          "output_type": "execute_result",
          "data": {
            "text/plain": [
              "[bs4.element.Tag]"
            ]
          },
          "metadata": {
            "tags": []
          },
          "execution_count": 19
        }
      ]
    },
    {
      "cell_type": "code",
      "metadata": {
        "colab": {
          "base_uri": "https://localhost:8080/"
        },
        "id": "l88loqoM_V91",
        "outputId": "a2febf83-fe78-4d6c-f0f0-56abd99a362e"
      },
      "source": [
        "# soup.find\n",
        "print(soup.find(\"div\"))"
      ],
      "execution_count": 64,
      "outputs": [
        {
          "output_type": "stream",
          "text": [
            "<div class=\"col-sm-2\">\n",
            "<h2>section2</h2>\n",
            "<p>paragraph3</p>\n",
            "<p>unclosed\n",
            "    </p></div>\n"
          ],
          "name": "stdout"
        }
      ]
    },
    {
      "cell_type": "code",
      "metadata": {
        "id": "w9vmS4h-DDg2"
      },
      "source": [
        "# soup.find_all + attributes.\n",
        "divs = soup.find_all(\"div\", attrs={\"class\":\"col-sm-2\"})"
      ],
      "execution_count": 45,
      "outputs": []
    },
    {
      "cell_type": "code",
      "metadata": {
        "colab": {
          "base_uri": "https://localhost:8080/"
        },
        "id": "7xzFAierDpjl",
        "outputId": "032fca33-931c-451f-ba69-ac55936325f8"
      },
      "source": [
        "print(divs)"
      ],
      "execution_count": 46,
      "outputs": [
        {
          "output_type": "stream",
          "text": [
            "[<div class=\"col-sm-2\">\n",
            "<h2>section2</h2>\n",
            "<p>paragraph3</p>\n",
            "<p>unclosed\n",
            "    </p></div>]\n"
          ],
          "name": "stdout"
        }
      ]
    },
    {
      "cell_type": "code",
      "metadata": {
        "colab": {
          "base_uri": "https://localhost:8080/"
        },
        "id": "iSOmrg1hFZAS",
        "outputId": "6b426ae1-462a-4d46-c2b8-c3449ab0a03b"
      },
      "source": [
        "divs[0].attrs['class']"
      ],
      "execution_count": 52,
      "outputs": [
        {
          "output_type": "execute_result",
          "data": {
            "text/plain": [
              "['col-sm-2']"
            ]
          },
          "metadata": {
            "tags": []
          },
          "execution_count": 52
        }
      ]
    },
    {
      "cell_type": "code",
      "metadata": {
        "colab": {
          "base_uri": "https://localhost:8080/"
        },
        "id": "M4wR8ZBZFiiI",
        "outputId": "12e26fab-59b0-4d28-9842-9a4a266383ec"
      },
      "source": [
        "# soup.find_all \n",
        "print(soup.find_all(\"p\"))"
      ],
      "execution_count": 58,
      "outputs": [
        {
          "output_type": "stream",
          "text": [
            "[<p>paragraph1</p>, <p>paragraph2</p>, <p>paragraph3</p>, <p>unclosed\n",
            "    </p>]\n"
          ],
          "name": "stdout"
        }
      ]
    },
    {
      "cell_type": "markdown",
      "metadata": {
        "id": "1GFZP9nvG5yx"
      },
      "source": [
        "bs4 on Real data "
      ]
    },
    {
      "cell_type": "code",
      "metadata": {
        "id": "UhRd5bf6F5qo"
      },
      "source": [
        "url = 'https://www.theguardian.com/world/2021/jan/21/johnson-raises-fears-of-covid-lockdown-in-england-continuing-into-summertime'\n",
        "req = requests.get(url)\n",
        "source = req.text\n",
        "soup = BeautifulSoup(source, 'html.parser')"
      ],
      "execution_count": 80,
      "outputs": []
    },
    {
      "cell_type": "code",
      "metadata": {
        "id": "xJeWVYUdHW2U"
      },
      "source": [
        "# soup.find_all \n",
        "links = soup.find_all('a')"
      ],
      "execution_count": 83,
      "outputs": []
    },
    {
      "cell_type": "code",
      "metadata": {
        "id": "Iq9CLyIeJMmN"
      },
      "source": [
        "links"
      ],
      "execution_count": null,
      "outputs": []
    },
    {
      "cell_type": "code",
      "metadata": {
        "id": "wBEvcp-pJIMm"
      },
      "source": [
        "# soup.find_all + attrs \n",
        "links = soup.find_all('a', attrs={'data-component': 'auto-linked-tag'})"
      ],
      "execution_count": 94,
      "outputs": []
    },
    {
      "cell_type": "code",
      "metadata": {
        "colab": {
          "base_uri": "https://localhost:8080/"
        },
        "id": "1tEE37WLIt7G",
        "outputId": "6b5b3de5-c7a0-45cc-b4e8-8a7f36ca0026"
      },
      "source": [
        "links"
      ],
      "execution_count": 95,
      "outputs": [
        {
          "output_type": "execute_result",
          "data": {
            "text/plain": [
              "[<a class=\"u-underline\" data-component=\"auto-linked-tag\" data-link-name=\"auto-linked-tag\" href=\"https://www.theguardian.com/politics/boris-johnson\">Boris Johnson</a>,\n",
              " <a class=\"u-underline\" data-component=\"auto-linked-tag\" data-link-name=\"auto-linked-tag\" href=\"https://www.theguardian.com/uk-news/england\">England</a>,\n",
              " <a class=\"u-underline\" data-component=\"auto-linked-tag\" data-link-name=\"auto-linked-tag\" href=\"https://www.theguardian.com/politics/priti-patel\">Priti Patel</a>]"
            ]
          },
          "metadata": {
            "tags": []
          },
          "execution_count": 95
        }
      ]
    },
    {
      "cell_type": "code",
      "metadata": {
        "colab": {
          "base_uri": "https://localhost:8080/"
        },
        "id": "wGDq1SGzIOTo",
        "outputId": "7cec3177-9d7e-47c0-8a25-bbcb1496a435"
      },
      "source": [
        "for link in links:\n",
        "  print(link.attrs['href'], link.text)"
      ],
      "execution_count": 97,
      "outputs": [
        {
          "output_type": "stream",
          "text": [
            "https://www.theguardian.com/politics/boris-johnson Boris Johnson\n",
            "https://www.theguardian.com/uk-news/england England\n",
            "https://www.theguardian.com/politics/priti-patel Priti Patel\n"
          ],
          "name": "stdout"
        }
      ]
    },
    {
      "cell_type": "markdown",
      "metadata": {
        "id": "K2HcpEHBKnsW"
      },
      "source": [
        "bs4 on Real Real data"
      ]
    },
    {
      "cell_type": "code",
      "metadata": {
        "id": "2XkAAlX3KqL8"
      },
      "source": [
        "url = 'https://www.theguardian.com/uk/technology'\n",
        "req = requests.get(url)\n",
        "source = req.text\n",
        "soup = BeautifulSoup(source, 'html.parser')"
      ],
      "execution_count": 98,
      "outputs": []
    },
    {
      "cell_type": "code",
      "metadata": {
        "id": "pn6M5Q8OvOw1"
      },
      "source": [
        "tech_links = soup.find_all('a', attrs={'class':'js-headline-text'})"
      ],
      "execution_count": 108,
      "outputs": []
    },
    {
      "cell_type": "code",
      "metadata": {
        "colab": {
          "base_uri": "https://localhost:8080/"
        },
        "id": "7vIuF8yEv3wy",
        "outputId": "0bfead8b-3e37-4187-994f-cf72b2ec23bc"
      },
      "source": [
        "tech_links"
      ],
      "execution_count": 109,
      "outputs": [
        {
          "output_type": "execute_result",
          "data": {
            "text/plain": [
              "[<a aria-hidden=\"true\" class=\"u-faux-block-link__overlay js-headline-text\" data-link-name=\"article\" href=\"https://www.theguardian.com/technology/2021/jan/31/the-tyranny-of-passwords-is-it-time-for-a-rethink\" tabindex=\"-1\">Is it time for a rethink?</a>,\n",
              " <a aria-hidden=\"true\" class=\"u-faux-block-link__overlay js-headline-text\" data-link-name=\"article\" href=\"https://www.theguardian.com/technology/2021/feb/01/microsofts-bing-ready-to-step-in-if-google-pulls-search-from-australia-minister-says\" tabindex=\"-1\">Bing ready to step in if Google pulls search from Australia</a>,\n",
              " <a aria-hidden=\"true\" class=\"u-faux-block-link__overlay js-headline-text\" data-link-name=\"article\" href=\"https://www.theguardian.com/technology/2021/jan/30/facebook-letting-fake-news-spreaders-profit-investigators-claim\" tabindex=\"-1\">Firm ‘still making money from anti-vax sites’</a>,\n",
              " <a aria-hidden=\"true\" class=\"u-faux-block-link__overlay js-headline-text\" data-link-name=\"article\" href=\"https://www.theguardian.com/business/2021/jan/29/robinhood-to-restore-gamestop-trading-as-it-wins-1bn-backing\" tabindex=\"-1\">Shares surge again as Robinhood restores trading</a>,\n",
              " <a aria-hidden=\"true\" class=\"u-faux-block-link__overlay js-headline-text\" data-link-name=\"article\" href=\"https://www.theguardian.com/commentisfree/2021/jan/30/forget-the-furore-over-trump-facebook-is-interested-only-in-maintaining-its-monopoly\" tabindex=\"-1\">Forget the furore over Trump - Facebook is interested only in maintaining its monopoly</a>,\n",
              " <a aria-hidden=\"true\" class=\"u-faux-block-link__overlay js-headline-text\" data-link-name=\"article\" href=\"https://www.theguardian.com/technology/2021/jan/29/chromecast-with-google-review-tv-android-tv-smart-tv\" tabindex=\"-1\">Full smart TV upgrade with voice remote</a>,\n",
              " <a aria-hidden=\"true\" class=\"u-faux-block-link__overlay js-headline-text\" data-link-name=\"article\" href=\"https://www.theguardian.com/lifeandstyle/2021/jan/31/hot-tip-to-tackle-the-covid-blues\" tabindex=\"-1\">Hot tip to tackle the Covid blues</a>,\n",
              " <a aria-hidden=\"true\" class=\"u-faux-block-link__overlay js-headline-text\" data-link-name=\"article\" href=\"https://www.theguardian.com/business/2021/jan/31/retail-is-at-deaths-door-and-tinkering-with-business-rates-wont-save-it\" tabindex=\"-1\">Retail is at death’s door – and tinkering with business rates won’t save it</a>,\n",
              " <a aria-hidden=\"true\" class=\"u-faux-block-link__overlay js-headline-text\" data-link-name=\"article\" href=\"https://www.theguardian.com/society/2021/jan/31/what-a-great-shot-vaccination-selfies-become-the-latest-social-media-hit\" tabindex=\"-1\">What a great shot! Vaccination selfies become the latest social media hit</a>,\n",
              " <a aria-hidden=\"true\" class=\"u-faux-block-link__overlay js-headline-text\" data-link-name=\"article\" href=\"https://www.theguardian.com/world/2021/jan/28/coronavirus-denial-videos-are-removed-from-facebook\" tabindex=\"-1\">Facebook removes Save Our Rights UK Covid denial videos</a>,\n",
              " <a aria-hidden=\"true\" class=\"u-faux-block-link__overlay js-headline-text\" data-link-name=\"article\" href=\"https://www.theguardian.com/money/2021/feb/01/amazon-delivers-another-blow-after-i-was-hacked\" tabindex=\"-1\">Amazon delivers another blow after I was hacked</a>,\n",
              " <a aria-hidden=\"true\" class=\"u-faux-block-link__overlay js-headline-text\" data-link-name=\"article\" href=\"https://www.theguardian.com/technology/2021/jan/31/mighty-amazon-looks-all-but-unassailable-as-covid-continues\" tabindex=\"-1\">Mighty Amazon looks all but unassailable as Covid continues</a>,\n",
              " <a aria-hidden=\"true\" class=\"u-faux-block-link__overlay js-headline-text\" data-link-name=\"article\" href=\"https://www.theguardian.com/business/2021/jan/29/wallstreetbets-founder-jaime-rogozinski-gamestop-shares-reddit\" tabindex=\"-1\">WallStreetBets' founder on GameStop: 'I didn't think it would go this far'</a>,\n",
              " <a aria-hidden=\"true\" class=\"u-faux-block-link__overlay js-headline-text\" data-link-name=\"article\" href=\"https://www.theguardian.com/environment/2021/jan/29/pollutionwatch-how-smart-braking-could-help-cut-electric-car-emissions\" tabindex=\"-1\">Pollutionwatch: how smart braking could help cut electric car emissions</a>,\n",
              " <a aria-hidden=\"true\" class=\"u-faux-block-link__overlay js-headline-text\" data-link-name=\"article\" href=\"https://www.theguardian.com/technology/2019/may/01/best-true-wireless-earbuds-airpods-samsung-jabra-sennheiser-anker-compared-and-ranked\" tabindex=\"-1\">AirPods, Samsung, Jabra, Bose, Beats and Anker compared and ranked</a>,\n",
              " <a aria-hidden=\"true\" class=\"u-faux-block-link__overlay js-headline-text\" data-link-name=\"article\" href=\"https://www.theguardian.com/technology/2021/jan/21/samsung-galaxy-s21-ultra-review-the-new-king-of-android-phones\" tabindex=\"-1\">The new king of Android phones</a>,\n",
              " <a aria-hidden=\"true\" class=\"u-faux-block-link__overlay js-headline-text\" data-link-name=\"article\" href=\"https://www.theguardian.com/technology/2020/nov/26/iphone-12-pro-max-review-apples-longer-lasting-superphone\" tabindex=\"-1\">Apple's longer lasting superphone</a>,\n",
              " <a aria-hidden=\"true\" class=\"u-faux-block-link__overlay js-headline-text\" data-link-name=\"article\" href=\"https://www.theguardian.com/technology/2020/aug/18/samsung-galaxy-note-20-ultra-review-super-priced-superphone-camera\" tabindex=\"-1\">Super-priced superphone</a>,\n",
              " <a aria-hidden=\"true\" class=\"u-faux-block-link__overlay js-headline-text\" data-link-name=\"article\" href=\"https://www.theguardian.com/technology/2020/apr/23/oneplus-8-pro-review-the-samsung-killer-android-5g\" tabindex=\"-1\">The Samsung killer</a>,\n",
              " <a aria-hidden=\"true\" class=\"u-faux-block-link__overlay js-headline-text\" data-link-name=\"article\" href=\"https://www.theguardian.com/technology/2021/jan/29/chromecast-with-google-review-tv-android-tv-smart-tv\" tabindex=\"-1\">Full smart TV upgrade with voice remote</a>,\n",
              " <a aria-hidden=\"true\" class=\"u-faux-block-link__overlay js-headline-text\" data-link-name=\"article\" href=\"https://www.theguardian.com/technology/2021/jan/25/sony-wh-1000xm4-review-bose-beating-noise-cancelling-headphones\" tabindex=\"-1\">Bose-beating noise cancelling headphones</a>,\n",
              " <a aria-hidden=\"true\" class=\"u-faux-block-link__overlay js-headline-text\" data-link-name=\"article\" href=\"https://www.theguardian.com/technology/2021/jan/19/galaxy-buds-pro-review-samsungs-airpods-pro-beating-earbuds\" tabindex=\"-1\">Samsung's AirPods Pro-beating earbuds</a>,\n",
              " <a aria-hidden=\"true\" class=\"u-faux-block-link__overlay js-headline-text\" data-link-name=\"article\" href=\"https://www.theguardian.com/technology/2020/dec/21/apple-airpods-max-review-bluetooth-noise-cancelling-headphones-sound-price\" tabindex=\"-1\">Stunning sound, painful price</a>,\n",
              " <a aria-hidden=\"true\" class=\"u-faux-block-link__overlay js-headline-text\" data-link-name=\"article\" href=\"https://www.theguardian.com/games/2021/jan/27/the-medium-review\" tabindex=\"-1\">The Medium review – split-world horror stranded in unsatisfying limbo</a>,\n",
              " <a aria-hidden=\"true\" class=\"u-faux-block-link__overlay js-headline-text\" data-link-name=\"article\" href=\"https://www.theguardian.com/games/2021/jan/28/cheating-open-world-games-assassins-creed-hitman\" tabindex=\"-1\">Hacking your way to victory: the joy of cheating in open-world games</a>,\n",
              " <a aria-hidden=\"true\" class=\"u-faux-block-link__overlay js-headline-text\" data-link-name=\"article\" href=\"https://www.theguardian.com/games/2021/jan/22/hitman-3-review-a-wild-bacchanalian-backdrop-to-bloody-escapades\" tabindex=\"-1\">Hitman 3 review – a wild bacchanalian backdrop to bloody escapades</a>,\n",
              " <a aria-hidden=\"true\" class=\"u-faux-block-link__overlay js-headline-text\" data-link-name=\"article\" href=\"https://www.theguardian.com/games/2021/jan/20/conspiracy-review-games-trump-stolen-election\" tabindex=\"-1\">Conspiracy! review – help a Trumpist president steal an election</a>,\n",
              " <a aria-hidden=\"true\" class=\"u-faux-block-link__overlay js-headline-text\" data-link-name=\"article\" href=\"https://www.theguardian.com/games/2021/jan/15/the-greatest-handheld-games-consoles-ranked\" tabindex=\"-1\">The greatest handheld games consoles – ranked!</a>,\n",
              " <a aria-hidden=\"true\" class=\"u-faux-block-link__overlay js-headline-text\" data-link-name=\"article\" href=\"https://www.theguardian.com/games/2021/jan/14/the-force-re-awakens-ubisoft-working-on-new-open-world-star-wars-game\" tabindex=\"-1\">The Force re-awakens: Ubisoft working on new open-world Star Wars game</a>,\n",
              " <a aria-hidden=\"true\" class=\"u-faux-block-link__overlay js-headline-text\" data-link-name=\"article\" href=\"https://www.theguardian.com/technology/2020/jul/24/garmin-down-how-to-get-activities-on-strava-ride-swim-walk\" tabindex=\"-1\">Garmin down: how to still get your activities on to Strava</a>,\n",
              " <a aria-hidden=\"true\" class=\"u-faux-block-link__overlay js-headline-text\" data-link-name=\"article\" href=\"https://www.theguardian.com/technology/askjack/2020/apr/02/so-long-and-thanks-for-all-the-fish\" tabindex=\"-1\">So long and thanks for all the fish</a>,\n",
              " <a aria-hidden=\"true\" class=\"u-faux-block-link__overlay js-headline-text\" data-link-name=\"article\" href=\"https://www.theguardian.com/technology/askjack/2020/mar/26/what-is-the-best-tablet-for-video-calling-grandma\" tabindex=\"-1\">What’s the best tablet for video calling grandma?</a>,\n",
              " <a aria-hidden=\"true\" class=\"u-faux-block-link__overlay js-headline-text\" data-link-name=\"article\" href=\"https://www.theguardian.com/technology/askjack/2020/mar/19/work-at-home-coronavirus-office-self-isolating\" tabindex=\"-1\">What do I need to work from home due to coronavirus?</a>,\n",
              " <a aria-hidden=\"true\" class=\"u-faux-block-link__overlay js-headline-text\" data-link-name=\"article\" href=\"https://www.theguardian.com/technology/video/2021/jan/22/google-threatens-to-shut-down-search-in-australia-over-digital-news-code-video\" tabindex=\"-1\">Google threatens to shut down search in Australia over digital news code – video</a>,\n",
              " <a aria-hidden=\"true\" class=\"u-faux-block-link__overlay js-headline-text\" data-link-name=\"article\" href=\"https://www.theguardian.com/technology/video/2021/jan/16/gps-art-the-hybrid-activity-mixing-creativity-and-fitness-video\" tabindex=\"-1\">GPS art: the hybrid activity mixing creativity and fitness – video</a>,\n",
              " <a aria-hidden=\"true\" class=\"u-faux-block-link__overlay js-headline-text\" data-link-name=\"article\" href=\"https://www.theguardian.com/technology/video/2021/jan/12/facebook-has-no-plans-to-lift-trump-ban-says-sheryl-sandberg-video\" tabindex=\"-1\">Facebook has no plans to lift Trump ban, says Sheryl Sandberg – video</a>,\n",
              " <a aria-hidden=\"true\" class=\"u-faux-block-link__overlay js-headline-text\" data-link-name=\"article\" href=\"https://www.theguardian.com/technology/2021/feb/01/microsofts-bing-ready-to-step-in-if-google-pulls-search-from-australia-minister-says\" tabindex=\"-1\">Microsoft's Bing ready to step in if Google pulls search from Australia, minister says</a>,\n",
              " <a aria-hidden=\"true\" class=\"u-faux-block-link__overlay js-headline-text\" data-link-name=\"article\" href=\"https://www.theguardian.com/technology/2021/jan/31/the-tyranny-of-passwords-is-it-time-for-a-rethink\" tabindex=\"-1\">The tyranny of passwords – is it time for a rethink?</a>,\n",
              " <a aria-hidden=\"true\" class=\"u-faux-block-link__overlay js-headline-text\" data-link-name=\"article\" href=\"https://www.theguardian.com/technology/2021/jan/31/mighty-amazon-looks-all-but-unassailable-as-covid-continues\" tabindex=\"-1\">Mighty Amazon looks all but unassailable as Covid continues</a>,\n",
              " <a aria-hidden=\"true\" class=\"u-faux-block-link__overlay js-headline-text\" data-link-name=\"article\" href=\"https://www.theguardian.com/technology/2021/jan/30/facebook-letting-fake-news-spreaders-profit-investigators-claim\" tabindex=\"-1\">Facebook ‘still making money from anti-vax sites’</a>,\n",
              " <a aria-hidden=\"true\" class=\"u-faux-block-link__overlay js-headline-text\" data-link-name=\"article\" href=\"https://www.theguardian.com/technology/2021/jan/24/whatsapp-loses-millions-of-users-after-terms-update\" tabindex=\"-1\">WhatsApp loses millions of users after terms update</a>,\n",
              " <a aria-hidden=\"true\" class=\"u-faux-block-link__overlay js-headline-text\" data-link-name=\"article\" href=\"https://www.theguardian.com/technology/2021/jan/31/zuckerberg-lobbies-josh-frydenberg-over-plan-to-force-facebook-and-google-to-pay-for-news-content\" tabindex=\"-1\">Zuckerberg lobbies Josh Frydenberg over plan to force Facebook and Google to pay for news content</a>,\n",
              " <a aria-hidden=\"true\" class=\"u-faux-block-link__overlay js-headline-text\" data-link-name=\"article\" href=\"https://www.theguardian.com/technology/2021/jan/24/is-it-time-to-leave-whatsapp-and-is-signal-the-answer\" tabindex=\"-1\">Is it time to leave WhatsApp – and is Signal the answer?</a>,\n",
              " <a aria-hidden=\"true\" class=\"u-faux-block-link__overlay js-headline-text\" data-link-name=\"article\" href=\"https://www.theguardian.com/technology/2021/jan/29/chromecast-with-google-review-tv-android-tv-smart-tv\" tabindex=\"-1\">Chromecast with Google TV review: full smart TV upgrade with voice remote</a>,\n",
              " <a aria-hidden=\"true\" class=\"u-faux-block-link__overlay js-headline-text\" data-link-name=\"article\" href=\"https://www.theguardian.com/technology/2021/jan/27/too-rude-for-facebook-the-ban-on-britains-historic-place-names\" tabindex=\"-1\">Too rude for Facebook: the ban on Britain's historic place names</a>,\n",
              " <a aria-hidden=\"true\" class=\"u-faux-block-link__overlay js-headline-text\" data-link-name=\"article\" href=\"https://www.theguardian.com/technology/2020/dec/14/pornhub-purge-removes-unverified-videos-investigation-child-abuse\" tabindex=\"-1\">Pornhub removes millions of videos after investigation finds child abuse content</a>]"
            ]
          },
          "metadata": {
            "tags": []
          },
          "execution_count": 109
        }
      ]
    },
    {
      "cell_type": "code",
      "metadata": {
        "colab": {
          "base_uri": "https://localhost:8080/"
        },
        "id": "hiquiMaAvwjn",
        "outputId": "b591e23b-7f8e-4159-d2aa-25a00b75261a"
      },
      "source": [
        "for tech_link in tech_links:\n",
        "  print(tech_link['href'], tech_link.text)"
      ],
      "execution_count": 113,
      "outputs": [
        {
          "output_type": "stream",
          "text": [
            "https://www.theguardian.com/technology/2021/jan/31/the-tyranny-of-passwords-is-it-time-for-a-rethink Is it time for a rethink?\n",
            "https://www.theguardian.com/technology/2021/feb/01/microsofts-bing-ready-to-step-in-if-google-pulls-search-from-australia-minister-says Bing ready to step in if Google pulls search from Australia\n",
            "https://www.theguardian.com/technology/2021/jan/30/facebook-letting-fake-news-spreaders-profit-investigators-claim Firm ‘still making money from anti-vax sites’\n",
            "https://www.theguardian.com/business/2021/jan/29/robinhood-to-restore-gamestop-trading-as-it-wins-1bn-backing Shares surge again as Robinhood restores trading\n",
            "https://www.theguardian.com/commentisfree/2021/jan/30/forget-the-furore-over-trump-facebook-is-interested-only-in-maintaining-its-monopoly Forget the furore over Trump - Facebook is interested only in maintaining its monopoly\n",
            "https://www.theguardian.com/technology/2021/jan/29/chromecast-with-google-review-tv-android-tv-smart-tv Full smart TV upgrade with voice remote\n",
            "https://www.theguardian.com/lifeandstyle/2021/jan/31/hot-tip-to-tackle-the-covid-blues Hot tip to tackle the Covid blues\n",
            "https://www.theguardian.com/business/2021/jan/31/retail-is-at-deaths-door-and-tinkering-with-business-rates-wont-save-it Retail is at death’s door – and tinkering with business rates won’t save it\n",
            "https://www.theguardian.com/society/2021/jan/31/what-a-great-shot-vaccination-selfies-become-the-latest-social-media-hit What a great shot! Vaccination selfies become the latest social media hit\n",
            "https://www.theguardian.com/world/2021/jan/28/coronavirus-denial-videos-are-removed-from-facebook Facebook removes Save Our Rights UK Covid denial videos\n",
            "https://www.theguardian.com/money/2021/feb/01/amazon-delivers-another-blow-after-i-was-hacked Amazon delivers another blow after I was hacked\n",
            "https://www.theguardian.com/technology/2021/jan/31/mighty-amazon-looks-all-but-unassailable-as-covid-continues Mighty Amazon looks all but unassailable as Covid continues\n",
            "https://www.theguardian.com/business/2021/jan/29/wallstreetbets-founder-jaime-rogozinski-gamestop-shares-reddit WallStreetBets' founder on GameStop: 'I didn't think it would go this far'\n",
            "https://www.theguardian.com/environment/2021/jan/29/pollutionwatch-how-smart-braking-could-help-cut-electric-car-emissions Pollutionwatch: how smart braking could help cut electric car emissions\n",
            "https://www.theguardian.com/technology/2019/may/01/best-true-wireless-earbuds-airpods-samsung-jabra-sennheiser-anker-compared-and-ranked AirPods, Samsung, Jabra, Bose, Beats and Anker compared and ranked\n",
            "https://www.theguardian.com/technology/2021/jan/21/samsung-galaxy-s21-ultra-review-the-new-king-of-android-phones The new king of Android phones\n",
            "https://www.theguardian.com/technology/2020/nov/26/iphone-12-pro-max-review-apples-longer-lasting-superphone Apple's longer lasting superphone\n",
            "https://www.theguardian.com/technology/2020/aug/18/samsung-galaxy-note-20-ultra-review-super-priced-superphone-camera Super-priced superphone\n",
            "https://www.theguardian.com/technology/2020/apr/23/oneplus-8-pro-review-the-samsung-killer-android-5g The Samsung killer\n",
            "https://www.theguardian.com/technology/2021/jan/29/chromecast-with-google-review-tv-android-tv-smart-tv Full smart TV upgrade with voice remote\n",
            "https://www.theguardian.com/technology/2021/jan/25/sony-wh-1000xm4-review-bose-beating-noise-cancelling-headphones Bose-beating noise cancelling headphones\n",
            "https://www.theguardian.com/technology/2021/jan/19/galaxy-buds-pro-review-samsungs-airpods-pro-beating-earbuds Samsung's AirPods Pro-beating earbuds\n",
            "https://www.theguardian.com/technology/2020/dec/21/apple-airpods-max-review-bluetooth-noise-cancelling-headphones-sound-price Stunning sound, painful price\n",
            "https://www.theguardian.com/games/2021/jan/27/the-medium-review The Medium review – split-world horror stranded in unsatisfying limbo\n",
            "https://www.theguardian.com/games/2021/jan/28/cheating-open-world-games-assassins-creed-hitman Hacking your way to victory: the joy of cheating in open-world games\n",
            "https://www.theguardian.com/games/2021/jan/22/hitman-3-review-a-wild-bacchanalian-backdrop-to-bloody-escapades Hitman 3 review – a wild bacchanalian backdrop to bloody escapades\n",
            "https://www.theguardian.com/games/2021/jan/20/conspiracy-review-games-trump-stolen-election Conspiracy! review – help a Trumpist president steal an election\n",
            "https://www.theguardian.com/games/2021/jan/15/the-greatest-handheld-games-consoles-ranked The greatest handheld games consoles – ranked!\n",
            "https://www.theguardian.com/games/2021/jan/14/the-force-re-awakens-ubisoft-working-on-new-open-world-star-wars-game The Force re-awakens: Ubisoft working on new open-world Star Wars game\n",
            "https://www.theguardian.com/technology/2020/jul/24/garmin-down-how-to-get-activities-on-strava-ride-swim-walk Garmin down: how to still get your activities on to Strava\n",
            "https://www.theguardian.com/technology/askjack/2020/apr/02/so-long-and-thanks-for-all-the-fish So long and thanks for all the fish\n",
            "https://www.theguardian.com/technology/askjack/2020/mar/26/what-is-the-best-tablet-for-video-calling-grandma What’s the best tablet for video calling grandma?\n",
            "https://www.theguardian.com/technology/askjack/2020/mar/19/work-at-home-coronavirus-office-self-isolating What do I need to work from home due to coronavirus?\n",
            "https://www.theguardian.com/technology/video/2021/jan/22/google-threatens-to-shut-down-search-in-australia-over-digital-news-code-video Google threatens to shut down search in Australia over digital news code – video\n",
            "https://www.theguardian.com/technology/video/2021/jan/16/gps-art-the-hybrid-activity-mixing-creativity-and-fitness-video GPS art: the hybrid activity mixing creativity and fitness – video\n",
            "https://www.theguardian.com/technology/video/2021/jan/12/facebook-has-no-plans-to-lift-trump-ban-says-sheryl-sandberg-video Facebook has no plans to lift Trump ban, says Sheryl Sandberg – video\n",
            "https://www.theguardian.com/technology/2021/feb/01/microsofts-bing-ready-to-step-in-if-google-pulls-search-from-australia-minister-says Microsoft's Bing ready to step in if Google pulls search from Australia, minister says\n",
            "https://www.theguardian.com/technology/2021/jan/31/the-tyranny-of-passwords-is-it-time-for-a-rethink The tyranny of passwords – is it time for a rethink?\n",
            "https://www.theguardian.com/technology/2021/jan/31/mighty-amazon-looks-all-but-unassailable-as-covid-continues Mighty Amazon looks all but unassailable as Covid continues\n",
            "https://www.theguardian.com/technology/2021/jan/30/facebook-letting-fake-news-spreaders-profit-investigators-claim Facebook ‘still making money from anti-vax sites’\n",
            "https://www.theguardian.com/technology/2021/jan/24/whatsapp-loses-millions-of-users-after-terms-update WhatsApp loses millions of users after terms update\n",
            "https://www.theguardian.com/technology/2021/jan/31/zuckerberg-lobbies-josh-frydenberg-over-plan-to-force-facebook-and-google-to-pay-for-news-content Zuckerberg lobbies Josh Frydenberg over plan to force Facebook and Google to pay for news content\n",
            "https://www.theguardian.com/technology/2021/jan/24/is-it-time-to-leave-whatsapp-and-is-signal-the-answer Is it time to leave WhatsApp – and is Signal the answer?\n",
            "https://www.theguardian.com/technology/2021/jan/29/chromecast-with-google-review-tv-android-tv-smart-tv Chromecast with Google TV review: full smart TV upgrade with voice remote\n",
            "https://www.theguardian.com/technology/2021/jan/27/too-rude-for-facebook-the-ban-on-britains-historic-place-names Too rude for Facebook: the ban on Britain's historic place names\n",
            "https://www.theguardian.com/technology/2020/dec/14/pornhub-purge-removes-unverified-videos-investigation-child-abuse Pornhub removes millions of videos after investigation finds child abuse content\n"
          ],
          "name": "stdout"
        }
      ]
    },
    {
      "cell_type": "code",
      "metadata": {
        "id": "XUsXvfaMwixL"
      },
      "source": [
        ""
      ],
      "execution_count": null,
      "outputs": []
    }
  ]
}