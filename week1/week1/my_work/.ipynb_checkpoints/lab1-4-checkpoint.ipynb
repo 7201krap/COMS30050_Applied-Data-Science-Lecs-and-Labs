{
 "cells": [
  {
   "cell_type": "code",
   "execution_count": 4,
   "metadata": {},
   "outputs": [],
   "source": [
    "import json"
   ]
  },
  {
   "cell_type": "code",
   "execution_count": 5,
   "metadata": {},
   "outputs": [],
   "source": [
    "data = {\n",
    "    'one': 1, \n",
    "    'two': 2, \n",
    "    'list': [1, 2, 3, 4], \n",
    "    'matrix': [[1, 2, 3], [4, 5, 6], [7, 8, 9]], \n",
    "    'float_list': [1.0, 2.0], \n",
    "    'dict': {\n",
    "        'one': 4, \n",
    "        'two': 5, \n",
    "        'dict': {\n",
    "            'list': [0, 1, 2, 8]\n",
    "        }\n",
    "    }\n",
    "}"
   ]
  },
  {
   "cell_type": "markdown",
   "metadata": {},
   "source": [
    "If you want to dump the JSON into a file/socket or whatever, then you should go with dump(). \n",
    "\n",
    "If you only need it as a string (for printing, parsing or whatever) then use dumps() (dump string)"
   ]
  },
  {
   "cell_type": "code",
   "execution_count": 6,
   "metadata": {},
   "outputs": [],
   "source": [
    "# json.dump \n",
    "# generate data.json and write the 'data' on the file \n",
    "json.dump(data, open('data.json','w'), indent=2, sort_keys=True)"
   ]
  },
  {
   "cell_type": "code",
   "execution_count": 7,
   "metadata": {},
   "outputs": [
    {
     "name": "stdout",
     "output_type": "stream",
     "text": [
      "key:  one\n",
      "value:  1\n",
      "\n",
      "key:  two\n",
      "value:  2\n",
      "\n",
      "key:  list\n",
      "value:  [1, 2, 3, 4]\n",
      "\n",
      "key:  matrix\n",
      "value:  [[1, 2, 3], [4, 5, 6], [7, 8, 9]]\n",
      "\n",
      "key:  float_list\n",
      "value:  [1.0, 2.0]\n",
      "\n",
      "key:  dict\n",
      "value:  {'one': 4, 'two': 5, 'dict': {'list': [0, 1, 2, 8]}}\n",
      "\n"
     ]
    }
   ],
   "source": [
    "for k, v in data.items():\n",
    "    print('key: ', k)\n",
    "    print('value: ', v)\n",
    "    print()"
   ]
  },
  {
   "cell_type": "code",
   "execution_count": 10,
   "metadata": {},
   "outputs": [
    {
     "data": {
      "text/plain": [
       "[[1, 2, 3], [4, 5, 6], [7, 8, 9]]"
      ]
     },
     "execution_count": 10,
     "metadata": {},
     "output_type": "execute_result"
    }
   ],
   "source": [
    "data['matrix']"
   ]
  },
  {
   "cell_type": "code",
   "execution_count": 12,
   "metadata": {},
   "outputs": [
    {
     "name": "stdout",
     "output_type": "stream",
     "text": [
      "1\n",
      "2\n",
      "3\n",
      "\n",
      "4\n",
      "5\n",
      "6\n",
      "\n",
      "7\n",
      "8\n",
      "9\n",
      "\n"
     ]
    }
   ],
   "source": [
    "for row in data['matrix']:\n",
    "    for elem in row:\n",
    "        print(elem)\n",
    "    print()"
   ]
  },
  {
   "cell_type": "code",
   "execution_count": 13,
   "metadata": {},
   "outputs": [],
   "source": [
    "# random access"
   ]
  },
  {
   "cell_type": "code",
   "execution_count": 15,
   "metadata": {},
   "outputs": [],
   "source": [
    "data['matrix'][0][0] += 1000"
   ]
  },
  {
   "cell_type": "code",
   "execution_count": 16,
   "metadata": {},
   "outputs": [
    {
     "data": {
      "text/plain": [
       "[[1001, 2, 3], [4, 5, 6], [7, 8, 9]]"
      ]
     },
     "execution_count": 16,
     "metadata": {},
     "output_type": "execute_result"
    }
   ],
   "source": [
    "data['matrix']"
   ]
  },
  {
   "cell_type": "code",
   "execution_count": 21,
   "metadata": {},
   "outputs": [
    {
     "data": {
      "text/plain": [
       "2"
      ]
     },
     "execution_count": 21,
     "metadata": {},
     "output_type": "execute_result"
    }
   ],
   "source": [
    "data['dict']['dict']['list'][2]"
   ]
  },
  {
   "cell_type": "code",
   "execution_count": 22,
   "metadata": {},
   "outputs": [],
   "source": [
    "# load data by using json.load\n",
    "data2 = json.load(open('data.json', 'r'))"
   ]
  },
  {
   "cell_type": "code",
   "execution_count": 30,
   "metadata": {},
   "outputs": [],
   "source": [
    "# data['matrix'][0][0] += 1000 했던거 다시 복구 \n",
    "data['matrix'][0][0] = 1"
   ]
  },
  {
   "cell_type": "code",
   "execution_count": 31,
   "metadata": {},
   "outputs": [
    {
     "name": "stdout",
     "output_type": "stream",
     "text": [
      "{\n",
      "  \"dict\": {\n",
      "    \"dict\": {\n",
      "      \"list\": [\n",
      "        0,\n",
      "        1,\n",
      "        2,\n",
      "        8\n",
      "      ]\n",
      "    },\n",
      "    \"one\": 4,\n",
      "    \"two\": 5\n",
      "  },\n",
      "  \"float_list\": [\n",
      "    1.0,\n",
      "    2.0\n",
      "  ],\n",
      "  \"list\": [\n",
      "    1,\n",
      "    2,\n",
      "    3,\n",
      "    4\n",
      "  ],\n",
      "  \"matrix\": [\n",
      "    [\n",
      "      1,\n",
      "      2,\n",
      "      3\n",
      "    ],\n",
      "    [\n",
      "      4,\n",
      "      5,\n",
      "      6\n",
      "    ],\n",
      "    [\n",
      "      7,\n",
      "      8,\n",
      "      9\n",
      "    ]\n",
      "  ],\n",
      "  \"one\": 1,\n",
      "  \"two\": 2\n",
      "}\n"
     ]
    }
   ],
   "source": [
    "# json.dumps \n",
    "print(json.dumps(data, indent=2, sort_keys=True))"
   ]
  },
  {
   "cell_type": "code",
   "execution_count": 32,
   "metadata": {},
   "outputs": [
    {
     "name": "stdout",
     "output_type": "stream",
     "text": [
      "{\n",
      "  \"dict\": {\n",
      "    \"dict\": {\n",
      "      \"list\": [\n",
      "        0,\n",
      "        1,\n",
      "        2,\n",
      "        8\n",
      "      ]\n",
      "    },\n",
      "    \"one\": 4,\n",
      "    \"two\": 5\n",
      "  },\n",
      "  \"float_list\": [\n",
      "    1.0,\n",
      "    2.0\n",
      "  ],\n",
      "  \"list\": [\n",
      "    1,\n",
      "    2,\n",
      "    3,\n",
      "    4\n",
      "  ],\n",
      "  \"matrix\": [\n",
      "    [\n",
      "      1,\n",
      "      2,\n",
      "      3\n",
      "    ],\n",
      "    [\n",
      "      4,\n",
      "      5,\n",
      "      6\n",
      "    ],\n",
      "    [\n",
      "      7,\n",
      "      8,\n",
      "      9\n",
      "    ]\n",
      "  ],\n",
      "  \"one\": 1,\n",
      "  \"two\": 2\n",
      "}\n"
     ]
    }
   ],
   "source": [
    "print(json.dumps(data2, indent=2, sort_keys=True))"
   ]
  },
  {
   "cell_type": "code",
   "execution_count": 33,
   "metadata": {},
   "outputs": [],
   "source": [
    "json_data  = json.dumps(data, indent=2, sort_keys=True)\n",
    "json_data2 = json.dumps(data2, indent=2, sort_keys=True)"
   ]
  },
  {
   "cell_type": "code",
   "execution_count": 37,
   "metadata": {},
   "outputs": [
    {
     "data": {
      "text/plain": [
       "True"
      ]
     },
     "execution_count": 37,
     "metadata": {},
     "output_type": "execute_result"
    }
   ],
   "source": [
    "json_data == json_data2"
   ]
  },
  {
   "cell_type": "code",
   "execution_count": null,
   "metadata": {},
   "outputs": [],
   "source": []
  }
 ],
 "metadata": {
  "kernelspec": {
   "display_name": "Python 3",
   "language": "python",
   "name": "python3"
  },
  "language_info": {
   "codemirror_mode": {
    "name": "ipython",
    "version": 3
   },
   "file_extension": ".py",
   "mimetype": "text/x-python",
   "name": "python",
   "nbconvert_exporter": "python",
   "pygments_lexer": "ipython3",
   "version": "3.8.5"
  }
 },
 "nbformat": 4,
 "nbformat_minor": 4
}
