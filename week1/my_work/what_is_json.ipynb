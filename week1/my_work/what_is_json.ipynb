{
  "nbformat": 4,
  "nbformat_minor": 0,
  "metadata": {
    "colab": {
      "name": "what_is_json.ipynb",
      "provenance": [],
      "collapsed_sections": [],
      "authorship_tag": "ABX9TyP+PvXHI1HaEKIYMxcCAZ4t",
      "include_colab_link": true
    },
    "kernelspec": {
      "name": "python3",
      "display_name": "Python 3"
    }
  },
  "cells": [
    {
      "cell_type": "markdown",
      "metadata": {
        "id": "view-in-github",
        "colab_type": "text"
      },
      "source": [
        "<a href=\"https://colab.research.google.com/github/7201krap/PYTHON_applied_data_science/blob/main/week1/what_is_json.ipynb\" target=\"_parent\"><img src=\"https://colab.research.google.com/assets/colab-badge.svg\" alt=\"Open In Colab\"/></a>"
      ]
    },
    {
      "cell_type": "code",
      "metadata": {
        "id": "2aTWCF-79NBK"
      },
      "source": [
        "import json"
      ],
      "execution_count": 1,
      "outputs": []
    },
    {
      "cell_type": "code",
      "metadata": {
        "id": "NnQnlxBc-9hD"
      },
      "source": [
        "# python dictionary example \n",
        "\n",
        "# thisdict =\t{\n",
        "#   \"brand\": \"Ford\",\n",
        "#   \"model\": \"Mustang\",\n",
        "#   \"year\": 1964\n",
        "# }"
      ],
      "execution_count": 43,
      "outputs": []
    },
    {
      "cell_type": "markdown",
      "metadata": {
        "id": "cpvlR6cJDOgr"
      },
      "source": [
        "JSON to Python"
      ]
    },
    {
      "cell_type": "code",
      "metadata": {
        "id": "jWQQfqtZ9OwC"
      },
      "source": [
        " # This is json looks very similar to python dictionary \n",
        " people_string = '''\n",
        "                 {\n",
        "                   \"people\" : \n",
        "                   [\n",
        "                     {\n",
        "                       \"name\": \"Jayden Park\",\n",
        "                       \"phone\": \"1234\",\n",
        "                       \"emails\": [\"wlsgus1805@gmail.com\", \"jp17528@bristol.ac.uk\"],\n",
        "                       \"has_license\": false \n",
        "                     },\n",
        "                     {\n",
        "                       \"name\": \"Jongmin Kim\",\n",
        "                       \"phone\": \"5678\",\n",
        "                       \"emails\": null,\n",
        "                       \"has_license\": true \n",
        "                     }\n",
        "                   ]\n",
        "                 }\n",
        "                 '''"
      ],
      "execution_count": 44,
      "outputs": []
    },
    {
      "cell_type": "code",
      "metadata": {
        "id": "RWMKW96v_4oB"
      },
      "source": [
        "my_data = json.loads(people_string)"
      ],
      "execution_count": 45,
      "outputs": []
    },
    {
      "cell_type": "code",
      "metadata": {
        "colab": {
          "base_uri": "https://localhost:8080/"
        },
        "id": "RawUmh7OA3kz",
        "outputId": "af157288-54f7-4673-8219-6a143ea907da"
      },
      "source": [
        "type(my_data[\"people\"])"
      ],
      "execution_count": 46,
      "outputs": [
        {
          "output_type": "execute_result",
          "data": {
            "text/plain": [
              "list"
            ]
          },
          "metadata": {
            "tags": []
          },
          "execution_count": 46
        }
      ]
    },
    {
      "cell_type": "code",
      "metadata": {
        "colab": {
          "base_uri": "https://localhost:8080/"
        },
        "id": "hy9RvDQNAgrZ",
        "outputId": "66a24672-eb46-41b5-db56-2e292914d3d4"
      },
      "source": [
        "for person in my_data[\"people\"]:\n",
        "  print(person)\n",
        "  print(person[\"name\"])"
      ],
      "execution_count": 47,
      "outputs": [
        {
          "output_type": "stream",
          "text": [
            "{'name': 'Jayden Park', 'phone': '1234', 'emails': ['wlsgus1805@gmail.com', 'jp17528@bristol.ac.uk'], 'has_license': False}\n",
            "Jayden Park\n",
            "{'name': 'Jongmin Kim', 'phone': '5678', 'emails': None, 'has_license': True}\n",
            "Jongmin Kim\n"
          ],
          "name": "stdout"
        }
      ]
    },
    {
      "cell_type": "markdown",
      "metadata": {
        "id": "LfAgbXL0DQuF"
      },
      "source": [
        "Python to JSON"
      ]
    },
    {
      "cell_type": "code",
      "metadata": {
        "id": "bbNYKVdoA9Cg"
      },
      "source": [
        "# remove phone number\n",
        "# and save that to my_new_data\n",
        "\n",
        "for person in my_data[\"people\"]:\n",
        "  # remove phone number \n",
        "  del person[\"phone\"]"
      ],
      "execution_count": 48,
      "outputs": []
    },
    {
      "cell_type": "code",
      "metadata": {
        "id": "_eCv7XggBwCN"
      },
      "source": [
        "# make my_new_data and save the data to my_new_data \n",
        "my_new_data = json.dumps(my_data, indent=2, sort_keys=True)"
      ],
      "execution_count": 60,
      "outputs": []
    },
    {
      "cell_type": "code",
      "metadata": {
        "colab": {
          "base_uri": "https://localhost:8080/"
        },
        "id": "DKk_HBKjB8tj",
        "outputId": "bf40c18e-8d36-4d03-af90-e1a27b97d9c6"
      },
      "source": [
        "print(my_new_data)"
      ],
      "execution_count": 61,
      "outputs": [
        {
          "output_type": "stream",
          "text": [
            "{\n",
            "  \"people\": [\n",
            "    {\n",
            "      \"emails\": [\n",
            "        \"wlsgus1805@gmail.com\",\n",
            "        \"jp17528@bristol.ac.uk\"\n",
            "      ],\n",
            "      \"has_license\": false,\n",
            "      \"name\": \"Jayden Park\"\n",
            "    },\n",
            "    {\n",
            "      \"emails\": null,\n",
            "      \"has_license\": true,\n",
            "      \"name\": \"Jongmin Kim\"\n",
            "    }\n",
            "  ]\n",
            "}\n"
          ],
          "name": "stdout"
        }
      ]
    },
    {
      "cell_type": "code",
      "metadata": {
        "id": "WtvzUjixC0KJ"
      },
      "source": [
        ""
      ],
      "execution_count": null,
      "outputs": []
    }
  ]
}