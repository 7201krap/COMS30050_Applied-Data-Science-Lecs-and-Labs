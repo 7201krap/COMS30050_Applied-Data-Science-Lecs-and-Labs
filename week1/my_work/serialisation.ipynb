{
  "nbformat": 4,
  "nbformat_minor": 0,
  "metadata": {
    "colab": {
      "name": "serialisation.ipynb",
      "provenance": [],
      "collapsed_sections": [],
      "authorship_tag": "ABX9TyON6ijm3eR3lao7aY/zduWX",
      "include_colab_link": true
    },
    "kernelspec": {
      "name": "python3",
      "display_name": "Python 3"
    }
  },
  "cells": [
    {
      "cell_type": "markdown",
      "metadata": {
        "id": "view-in-github",
        "colab_type": "text"
      },
      "source": [
        "<a href=\"https://colab.research.google.com/github/7201krap/PYTHON_applied_data_science/blob/main/week1/serialisation.ipynb\" target=\"_parent\"><img src=\"https://colab.research.google.com/assets/colab-badge.svg\" alt=\"Open In Colab\"/></a>"
      ]
    },
    {
      "cell_type": "code",
      "metadata": {
        "id": "GFAIxsR9UNnA"
      },
      "source": [
        "# Serialisation"
      ],
      "execution_count": 57,
      "outputs": []
    },
    {
      "cell_type": "code",
      "metadata": {
        "id": "yFxGH82Obrzw"
      },
      "source": [
        "v = [1,2,3,4,5]"
      ],
      "execution_count": 74,
      "outputs": []
    },
    {
      "cell_type": "code",
      "metadata": {
        "id": "c1rOMTWsbteT"
      },
      "source": [
        "f = open(\"d.ivec\", \"w\")\n",
        "for el in v:\n",
        "  f.write(\"%d \\n\" % el)\n",
        "f.close()"
      ],
      "execution_count": 75,
      "outputs": []
    },
    {
      "cell_type": "code",
      "metadata": {
        "id": "ZvoS9sT1b2Fe"
      },
      "source": [
        "# alternative way"
      ],
      "execution_count": 76,
      "outputs": []
    },
    {
      "cell_type": "code",
      "metadata": {
        "id": "EJZ_8_L-caus"
      },
      "source": [
        "v_alter = [1,2,3,4,5]\n",
        "with open(\"d_alternative.ivec\", \"w\") as f:\n",
        "  f.write(\"\\n\".join(map(str, v_alter)))"
      ],
      "execution_count": 77,
      "outputs": []
    },
    {
      "cell_type": "code",
      "metadata": {
        "id": "zQ0p5_8BckYK"
      },
      "source": [
        "# deserialisation"
      ],
      "execution_count": 78,
      "outputs": []
    },
    {
      "cell_type": "code",
      "metadata": {
        "id": "F3oHYDNuczIG"
      },
      "source": [
        "v = []"
      ],
      "execution_count": 79,
      "outputs": []
    },
    {
      "cell_type": "code",
      "metadata": {
        "colab": {
          "base_uri": "https://localhost:8080/"
        },
        "id": "oYy2NfMUc2u_",
        "outputId": "599be3ba-c513-4eb2-f569-59663861dc2a"
      },
      "source": [
        "f = open(\"d.ivec\", \"r\")\n",
        "for l in f.readlines():\n",
        "  v.append(int(l))\n",
        "f.close()\n",
        "\n",
        "print(v)"
      ],
      "execution_count": 80,
      "outputs": [
        {
          "output_type": "stream",
          "text": [
            "[1, 2, 3, 4, 5]\n"
          ],
          "name": "stdout"
        }
      ]
    },
    {
      "cell_type": "code",
      "metadata": {
        "id": "ehZ4KFeSc_j6"
      },
      "source": [
        "# alternative way\n",
        "# 이건 뭐지? 잘못 설명했나?? "
      ],
      "execution_count": 84,
      "outputs": []
    },
    {
      "cell_type": "code",
      "metadata": {
        "id": "jESQe2dxdNic"
      },
      "source": [
        "v_alter = []\n",
        "with open(\"d_alternative.ivec\", \"r\") as f:\n",
        "  v_alter = map(int, f.readlines())"
      ],
      "execution_count": 91,
      "outputs": []
    },
    {
      "cell_type": "code",
      "metadata": {
        "colab": {
          "base_uri": "https://localhost:8080/"
        },
        "id": "tqwJwrIGeUtF",
        "outputId": "36dba523-3823-480e-b415-700e3d9511b0"
      },
      "source": [
        "v_alter"
      ],
      "execution_count": 92,
      "outputs": [
        {
          "output_type": "execute_result",
          "data": {
            "text/plain": [
              "<map at 0x7f3a1820f0b8>"
            ]
          },
          "metadata": {
            "tags": []
          },
          "execution_count": 92
        }
      ]
    },
    {
      "cell_type": "code",
      "metadata": {
        "id": "_V4qUjZSg7EY"
      },
      "source": [
        ""
      ],
      "execution_count": null,
      "outputs": []
    }
  ]
}