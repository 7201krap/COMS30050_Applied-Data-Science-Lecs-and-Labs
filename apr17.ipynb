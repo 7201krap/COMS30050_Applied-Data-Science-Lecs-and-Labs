{
  "nbformat": 4,
  "nbformat_minor": 0,
  "metadata": {
    "kernelspec": {
      "display_name": "Python 3",
      "language": "python",
      "name": "python3"
    },
    "language_info": {
      "codemirror_mode": {
        "name": "ipython",
        "version": 3
      },
      "file_extension": ".py",
      "mimetype": "text/x-python",
      "name": "python",
      "nbconvert_exporter": "python",
      "pygments_lexer": "ipython3",
      "version": "3.8.5"
    },
    "colab": {
      "name": "apr17.ipynb",
      "provenance": [],
      "collapsed_sections": [],
      "include_colab_link": true
    }
  },
  "cells": [
    {
      "cell_type": "markdown",
      "metadata": {
        "id": "view-in-github",
        "colab_type": "text"
      },
      "source": [
        "<a href=\"https://colab.research.google.com/github/7201krap/PYTHON_applied_data_science/blob/main/apr17.ipynb\" target=\"_parent\"><img src=\"https://colab.research.google.com/assets/colab-badge.svg\" alt=\"Open In Colab\"/></a>"
      ]
    },
    {
      "cell_type": "code",
      "metadata": {
        "id": "Wq5KSVa266mI"
      },
      "source": [
        "from sklearn import datasets\n",
        "\n",
        "# How are we going to use evaluate the performance? \n",
        "# 1. accuracy\n",
        "from sklearn import metrics\n",
        "# 2. f1 score \n",
        "from sklearn.metrics import f1_score\n",
        "\n",
        "# Machine learning models \n",
        "\n",
        "# Linear Regression \n",
        "# url : https://scikit-learn.org/stable/modules/generated/sklearn.linear_model.LinearRegression.html\n",
        "from sklearn.linear_model import LinearRegression\n",
        "\n",
        "# SVM\n",
        "# url: https://scikit-learn.org/stable/modules/generated/sklearn.svm.SVC.html\n",
        "from sklearn import svm\n",
        "\n",
        "# KNN \n",
        "# url: https://scikit-learn.org/stable/modules/generated/sklearn.neighbors.KNeighborsClassifier.html\n",
        "from sklearn.neighbors import KNeighborsClassifier\n",
        "\n",
        "# Decision Tree\n",
        "# url: https://scikit-learn.org/stable/modules/generated/sklearn.tree.DecisionTreeClassifier.html\n",
        "from sklearn.tree import DecisionTreeClassifier\n",
        "\n",
        "# Random Forest \n",
        "# url: https://scikit-learn.org/stable/modules/generated/sklearn.ensemble.RandomForestClassifier.html\n",
        "from sklearn.ensemble import RandomForestClassifier\n",
        "\n",
        "# Logistic Classifier\n",
        "from sklearn.linear_model import LogisticRegression\n",
        "\n",
        "from sklearn.model_selection import RepeatedStratifiedKFold\n",
        "from sklearn.model_selection import GridSearchCV\n",
        "\n",
        "from sklearn.model_selection import learning_curve, RandomizedSearchCV, GridSearchCV\n",
        "from sklearn.model_selection import train_test_split, KFold\n",
        "from sklearn.datasets import make_classification\n",
        "from sklearn.pipeline import make_pipeline\n",
        "from sklearn.preprocessing import StandardScaler\n",
        "\n",
        "import numpy as np\n",
        "import matplotlib.pyplot as plt\n",
        "\n",
        "# PCA \n",
        "from sklearn.decomposition import PCA \n",
        "\n",
        "import pandas as pd\n",
        "\n",
        "import seaborn as sns"
      ],
      "execution_count": 40,
      "outputs": []
    },
    {
      "cell_type": "markdown",
      "metadata": {
        "id": "zfY4HfYs66mZ"
      },
      "source": [
        "Here, I use cancer dataset for tutorials.\n",
        "It can be simply changed to another dataset"
      ]
    },
    {
      "cell_type": "markdown",
      "metadata": {
        "id": "xC7DkowR66mb"
      },
      "source": [
        "## Machine learning algorithms that we are going to use\n",
        "\n",
        "- SVM\n",
        "\n",
        "- Random Forest \n",
        "\n",
        "- Decision Tree \n",
        "\n",
        "- Softmax \n",
        "\n",
        "- KNN "
      ]
    },
    {
      "cell_type": "markdown",
      "metadata": {
        "id": "62-J3jg866md"
      },
      "source": [
        "## Preprocess all data\n",
        "https://www.datacamp.com/community/tutorials/svm-classification-scikit-learn-python"
      ]
    },
    {
      "cell_type": "code",
      "metadata": {
        "colab": {
          "base_uri": "https://localhost:8080/"
        },
        "id": "ViAMxGXO66me",
        "outputId": "9b5b5a38-21a1-4c43-876b-648c7cb5935f"
      },
      "source": [
        "iris = datasets.load_iris()\n",
        "print(\"Features: \\n\", iris.feature_names)\n",
        "print()\n",
        "print(\"Labels: \\n\",   iris.target_names)"
      ],
      "execution_count": 41,
      "outputs": [
        {
          "output_type": "stream",
          "text": [
            "Features: \n",
            " ['sepal length (cm)', 'sepal width (cm)', 'petal length (cm)', 'petal width (cm)']\n",
            "\n",
            "Labels: \n",
            " ['setosa' 'versicolor' 'virginica']\n"
          ],
          "name": "stdout"
        }
      ]
    },
    {
      "cell_type": "code",
      "metadata": {
        "colab": {
          "base_uri": "https://localhost:8080/"
        },
        "id": "kRy5hoST66mk",
        "outputId": "4cee2042-5e18-4841-9638-a1fd3c313937"
      },
      "source": [
        "print(\"X data:\", len(iris.feature_names))\n",
        "print(\"Y data:\", len(iris.target_names))"
      ],
      "execution_count": 42,
      "outputs": [
        {
          "output_type": "stream",
          "text": [
            "X data: 4\n",
            "Y data: 3\n"
          ],
          "name": "stdout"
        }
      ]
    },
    {
      "cell_type": "markdown",
      "metadata": {
        "id": "oQEM30_bAYBx"
      },
      "source": [
        "## PCA section"
      ]
    },
    {
      "cell_type": "code",
      "metadata": {
        "id": "GAigdJRIAYHW"
      },
      "source": [
        "pca = PCA(n_components=2, random_state=1)\n",
        "iris.data = pca.fit_transform(iris.data)\n",
        "\n",
        "data_with_labels = np.vstack((iris.data.T, iris.target)).T\n",
        "pca_df = pd.DataFrame(data=data_with_labels, columns=('1st_PC', '2nd_PC', 'labels'))\n",
        "sns.FacetGrid(pca_df, hue='labels', height=10).map(plt.scatter, '1st_PC', '2nd_PC').add_legend()\n",
        "plt.show()"
      ],
      "execution_count": 32,
      "outputs": []
    },
    {
      "cell_type": "markdown",
      "metadata": {
        "id": "uAgdPNf0AjSY"
      },
      "source": [
        "## Generate Train and Test"
      ]
    },
    {
      "cell_type": "code",
      "metadata": {
        "id": "LznyaPqw66mm"
      },
      "source": [
        "from sklearn.model_selection import train_test_split\n",
        "\n",
        "X_train, X_test, y_train, y_test = train_test_split(iris.data, iris.target, test_size=0.3, random_state=1)  # 70% training and 30% test"
      ],
      "execution_count": 43,
      "outputs": []
    },
    {
      "cell_type": "markdown",
      "metadata": {
        "id": "KQSN89RnAWeQ"
      },
      "source": [
        "## Linear Regression"
      ]
    },
    {
      "cell_type": "code",
      "metadata": {
        "id": "x-apCQo0GZl2"
      },
      "source": [
        ""
      ],
      "execution_count": 43,
      "outputs": []
    },
    {
      "cell_type": "markdown",
      "metadata": {
        "id": "_e11X_yx-iD6"
      },
      "source": [
        "## SVM"
      ]
    },
    {
      "cell_type": "code",
      "metadata": {
        "id": "6OI7vUWZHrIi"
      },
      "source": [
        "folds = KFold(n_splits = 10, shuffle = True, random_state = 1)"
      ],
      "execution_count": 44,
      "outputs": []
    },
    {
      "cell_type": "code",
      "metadata": {
        "id": "_fKIxVbX66mn"
      },
      "source": [
        "svm_hyper_params = [ \n",
        "                        {\n",
        "                        'gamma': np.logspace(-5, 2, 8),\n",
        "                        'C': np.logspace(-5, 2, 8),\n",
        "                        'kernel': ['linear', 'poly', 'rbf', 'sigmoid']\n",
        "                        }\n",
        "                    ]\n",
        "\n",
        "# specify model\n",
        "svm_model = svm.SVC(random_state=1)\n",
        "\n",
        "# set up GridSearchCV()\n",
        "svm_model_cv = GridSearchCV(estimator = svm_model, \n",
        "                            param_grid = svm_hyper_params, \n",
        "                            scoring= 'accuracy', \n",
        "                            cv = folds, \n",
        "                            verbose = 2,\n",
        "                            return_train_score=True,\n",
        "                            n_jobs=-1)      "
      ],
      "execution_count": 45,
      "outputs": []
    },
    {
      "cell_type": "code",
      "metadata": {
        "collapsed": true,
        "colab": {
          "base_uri": "https://localhost:8080/"
        },
        "id": "Adbbt5c866mo",
        "outputId": "f9cd69a3-f5e0-4ab1-81f3-a5ef5f6467f8"
      },
      "source": [
        "# fit the model\n",
        "svm_model_cv.fit(X_train, y_train)\n",
        "print(\"best hyper parameters\", svm_model_cv.best_params_)\n",
        "svm_y_pred = svm_model_cv.predict(X_test)"
      ],
      "execution_count": 46,
      "outputs": [
        {
          "output_type": "stream",
          "text": [
            "Fitting 10 folds for each of 256 candidates, totalling 2560 fits\n"
          ],
          "name": "stdout"
        },
        {
          "output_type": "stream",
          "text": [
            "[Parallel(n_jobs=-1)]: Using backend LokyBackend with 2 concurrent workers.\n",
            "[Parallel(n_jobs=-1)]: Done 1084 tasks      | elapsed:    6.4s\n"
          ],
          "name": "stderr"
        },
        {
          "output_type": "stream",
          "text": [
            "best hyper parameters {'C': 1.0, 'gamma': 1e-05, 'kernel': 'linear'}\n"
          ],
          "name": "stdout"
        },
        {
          "output_type": "stream",
          "text": [
            "[Parallel(n_jobs=-1)]: Done 2560 out of 2560 | elapsed:   31.9s finished\n"
          ],
          "name": "stderr"
        }
      ]
    },
    {
      "cell_type": "code",
      "metadata": {
        "colab": {
          "base_uri": "https://localhost:8080/"
        },
        "id": "dst30cYtOZ29",
        "outputId": "5e584a0f-1c84-48d6-b033-331259225641"
      },
      "source": [
        "# accuracy \n",
        "print(\"Accuracy:\", metrics.accuracy_score(y_test, svm_y_pred))\n",
        "# f1 score \n",
        "print(\"F1 score:\", f1_score(y_test, svm_y_pred, average='micro'))"
      ],
      "execution_count": 47,
      "outputs": [
        {
          "output_type": "stream",
          "text": [
            "Accuracy: 1.0\n",
            "F1 score: 1.0\n"
          ],
          "name": "stdout"
        }
      ]
    },
    {
      "cell_type": "markdown",
      "metadata": {
        "id": "ETvDxUzl-oXC"
      },
      "source": [
        "## Logistic Regression"
      ]
    },
    {
      "cell_type": "code",
      "metadata": {
        "id": "aez9Ik2M-pXl"
      },
      "source": [
        "log_hyper_params = [ \n",
        "                        {\n",
        "                        'C': np.logspace(-5, 2, 8),\n",
        "                        'solver' : ['newton-cg', 'lbfgs', 'liblinear', 'sag', 'saga'],\n",
        "                        'penalty' : ['l1', 'l2', 'elasticnet', 'none'],\n",
        "                        'multi_class' : ['auto', 'ovr', 'multinomial']\n",
        "                        }\n",
        "                    ]\n",
        "\n",
        "# specify model\n",
        "log_model = LogisticRegression(random_state=1)\n",
        "\n",
        "# set up GridSearchCV()\n",
        "log_model_cv = GridSearchCV(estimator = log_model, \n",
        "                            param_grid = log_hyper_params, \n",
        "                            scoring= 'accuracy', \n",
        "                            cv = folds, \n",
        "                            verbose = 2,\n",
        "                            return_train_score=True,\n",
        "                            n_jobs=-1)      "
      ],
      "execution_count": null,
      "outputs": []
    },
    {
      "cell_type": "code",
      "metadata": {
        "colab": {
          "base_uri": "https://localhost:8080/"
        },
        "id": "8IuHlIl-NsT6",
        "outputId": "89af544a-87e7-4616-e493-a11372b8cb1e"
      },
      "source": [
        "# fit the model\n",
        "log_model_cv.fit(X_train, y_train)\n",
        "print(\"best hyper parameters\", log_model_cv.best_params_)\n",
        "log_y_pred = log_model_cv.predict(X_test)"
      ],
      "execution_count": null,
      "outputs": [
        {
          "output_type": "stream",
          "text": [
            "[Parallel(n_jobs=-1)]: Using backend LokyBackend with 2 concurrent workers.\n"
          ],
          "name": "stderr"
        },
        {
          "output_type": "stream",
          "text": [
            "Fitting 10 folds for each of 480 candidates, totalling 4800 fits\n"
          ],
          "name": "stdout"
        },
        {
          "output_type": "stream",
          "text": [
            "[Parallel(n_jobs=-1)]: Done 408 tasks      | elapsed:    2.1s\n",
            "[Parallel(n_jobs=-1)]: Done 4280 tasks      | elapsed:   24.3s\n"
          ],
          "name": "stderr"
        },
        {
          "output_type": "stream",
          "text": [
            "best hyper parameters {'C': 1.0, 'multi_class': 'auto', 'penalty': 'l1', 'solver': 'saga'}\n"
          ],
          "name": "stdout"
        },
        {
          "output_type": "stream",
          "text": [
            "[Parallel(n_jobs=-1)]: Done 4797 out of 4800 | elapsed:   28.0s remaining:    0.0s\n",
            "[Parallel(n_jobs=-1)]: Done 4800 out of 4800 | elapsed:   28.0s finished\n",
            "/usr/local/lib/python3.7/dist-packages/sklearn/linear_model/_sag.py:330: ConvergenceWarning: The max_iter was reached which means the coef_ did not converge\n",
            "  \"the coef_ did not converge\", ConvergenceWarning)\n"
          ],
          "name": "stderr"
        }
      ]
    },
    {
      "cell_type": "code",
      "metadata": {
        "colab": {
          "base_uri": "https://localhost:8080/"
        },
        "id": "_exbf-RzOXNt",
        "outputId": "f19406c3-2b7a-4210-e00c-7532e07c53d6"
      },
      "source": [
        "# accuracy \n",
        "print(\"Accuracy:\", metrics.accuracy_score(y_test, log_y_pred))\n",
        "# f1 score \n",
        "print(\"F1 score:\", f1_score(y_test, log_y_pred, average='micro'))"
      ],
      "execution_count": null,
      "outputs": [
        {
          "output_type": "stream",
          "text": [
            "Accuracy: 0.9777777777777777\n",
            "F1 score: 0.9777777777777777\n"
          ],
          "name": "stdout"
        }
      ]
    },
    {
      "cell_type": "markdown",
      "metadata": {
        "id": "YqbhZSoBeXRl"
      },
      "source": [
        "## KNN"
      ]
    },
    {
      "cell_type": "code",
      "metadata": {
        "id": "jVLvCwD6eX0V"
      },
      "source": [
        "knn_hyper_params = [ \n",
        "                        {\n",
        "                        'weights' : ['uniform', 'distance'],\n",
        "                        'algorithm' : ['auto', 'ball_tree', 'kd_tree', 'brute'],\n",
        "                        'leaf_size' : np.linspace(2, 100, 10, dtype=int)\n",
        "                        }\n",
        "                    ]\n",
        "\n",
        "# specify model\n",
        "\n",
        "# THIS SECTION SHOULD BE CHANGED.\n",
        "# n_neighbors  SHOULD BE MODIFIED TO ANOTHER VALUE DEPENDING ON THE TARGET VALUE.\n",
        "knn_model = KNeighborsClassifier(n_neighbors=3)\n",
        "\n",
        "# set up GridSearchCV()\n",
        "knn_model_cv = GridSearchCV(estimator = knn_model, \n",
        "                            param_grid = knn_hyper_params, \n",
        "                            scoring= 'accuracy', \n",
        "                            cv = folds, \n",
        "                            verbose = 2,\n",
        "                            return_train_score=True,\n",
        "                            n_jobs=-1)      "
      ],
      "execution_count": null,
      "outputs": []
    },
    {
      "cell_type": "code",
      "metadata": {
        "colab": {
          "base_uri": "https://localhost:8080/"
        },
        "id": "EcMHH1dQeeL7",
        "outputId": "d9f051b5-9791-42a7-80d6-f0b269e98d9b"
      },
      "source": [
        "# fit the model\n",
        "knn_model_cv.fit(X_train, y_train)\n",
        "print(\"best hyper parameters\", knn_model_cv.best_params_)\n",
        "knn_y_pred = knn_model_cv.predict(X_test)"
      ],
      "execution_count": null,
      "outputs": [
        {
          "output_type": "stream",
          "text": [
            "[Parallel(n_jobs=-1)]: Using backend LokyBackend with 2 concurrent workers.\n"
          ],
          "name": "stderr"
        },
        {
          "output_type": "stream",
          "text": [
            "Fitting 10 folds for each of 80 candidates, totalling 800 fits\n"
          ],
          "name": "stdout"
        },
        {
          "output_type": "stream",
          "text": [
            "[Parallel(n_jobs=-1)]: Done 396 tasks      | elapsed:    1.8s\n"
          ],
          "name": "stderr"
        },
        {
          "output_type": "stream",
          "text": [
            "best hyper parameters {'algorithm': 'auto', 'leaf_size': 2, 'weights': 'uniform'}\n"
          ],
          "name": "stdout"
        },
        {
          "output_type": "stream",
          "text": [
            "[Parallel(n_jobs=-1)]: Done 800 out of 800 | elapsed:    3.4s finished\n"
          ],
          "name": "stderr"
        }
      ]
    },
    {
      "cell_type": "code",
      "metadata": {
        "colab": {
          "base_uri": "https://localhost:8080/"
        },
        "id": "ktnU_aaHefQI",
        "outputId": "319cc175-2394-4892-a699-8f5dfb002d53"
      },
      "source": [
        "# accuracy \n",
        "print(\"Accuracy:\", metrics.accuracy_score(y_test, knn_y_pred))\n",
        "# f1 score \n",
        "print(\"F1 score:\", f1_score(y_test, knn_y_pred, average='micro'))"
      ],
      "execution_count": null,
      "outputs": [
        {
          "output_type": "stream",
          "text": [
            "Accuracy: 0.9777777777777777\n",
            "F1 score: 0.9777777777777777\n"
          ],
          "name": "stdout"
        }
      ]
    },
    {
      "cell_type": "code",
      "metadata": {
        "id": "Ljw0F7jfgShR"
      },
      "source": [
        ""
      ],
      "execution_count": null,
      "outputs": []
    },
    {
      "cell_type": "markdown",
      "metadata": {
        "id": "jahcKkHG6vsu"
      },
      "source": [
        "## Random Forest"
      ]
    },
    {
      "cell_type": "code",
      "metadata": {
        "id": "E6aZiFiL6wwy"
      },
      "source": [
        "rf_hyper_params = [ \n",
        "                        {\n",
        "                            'n_estimators' : [int(x) for x in np.linspace(10, 500, 10)],\n",
        "                            'criterion' : ['gini', 'entropy'],\n",
        "                            'max_depth' : [int(x) for x in np.linspace(10, 200, 10)],\n",
        "                            'min_samples_split' : [int(x) for x in np.linspace(10, 200, 10)],\n",
        "                            'min_samples_leaf' : [int(x) for x in np.linspace(10, 200, 10)],\n",
        "                            'max_features' : ['auto', 'sqrt', 'log2'],\n",
        "                            'bootstrap' : [True, False]\n",
        "\n",
        "                        }\n",
        "                    ]\n",
        "\n",
        "# specify model\n",
        "\n",
        "# THIS SECTION SHOULD BE CHANGED.\n",
        "# n_neighbors  SHOULD BE MODIFIED TO ANOTHER VALUE DEPENDING ON THE TARGET VALUE.\n",
        "rf_model = RandomForestClassifier(random_state=1)\n",
        "\n",
        "# set up GridSearchCV()\n",
        "rf_model_cv = GridSearchCV(estimator = rf_model, \n",
        "                            param_grid = rf_hyper_params, \n",
        "                            scoring= 'accuracy', \n",
        "                            cv = folds, \n",
        "                            verbose = 2,\n",
        "                            return_train_score=True,\n",
        "                            n_jobs=-1)      "
      ],
      "execution_count": 56,
      "outputs": []
    },
    {
      "cell_type": "code",
      "metadata": {
        "colab": {
          "base_uri": "https://localhost:8080/"
        },
        "id": "D-c5q0cB-7qj",
        "outputId": "eb5f8016-e3ab-4e0a-ff22-ad623d3c7223"
      },
      "source": [
        "# fit the model\n",
        "rf_model_cv.fit(X_train, y_train)\n",
        "print(\"best hyper parameters\", rf_model_cv.best_params_)\n",
        "rf_y_pred = rf_model_cv.predict(X_test)"
      ],
      "execution_count": 57,
      "outputs": [
        {
          "output_type": "stream",
          "text": [
            "Fitting 10 folds for each of 12 candidates, totalling 120 fits\n"
          ],
          "name": "stdout"
        },
        {
          "output_type": "stream",
          "text": [
            "[Parallel(n_jobs=-1)]: Using backend LokyBackend with 2 concurrent workers.\n"
          ],
          "name": "stderr"
        },
        {
          "output_type": "stream",
          "text": [
            "best hyper parameters {'bootstrap': False, 'criterion': 'gini', 'max_depth': 10, 'max_features': 'auto', 'min_samples_leaf': 10, 'min_samples_split': 10, 'n_estimators': 10}\n"
          ],
          "name": "stdout"
        },
        {
          "output_type": "stream",
          "text": [
            "[Parallel(n_jobs=-1)]: Done 120 out of 120 | elapsed:    1.8s finished\n"
          ],
          "name": "stderr"
        }
      ]
    },
    {
      "cell_type": "code",
      "metadata": {
        "colab": {
          "base_uri": "https://localhost:8080/"
        },
        "id": "RZ-D9E2Z-8zW",
        "outputId": "218b35ed-7985-4860-8fa3-e0f4cb0f37e3"
      },
      "source": [
        "# accuracy \n",
        "print(\"Accuracy:\", metrics.accuracy_score(y_test, rf_y_pred))\n",
        "# f1 score \n",
        "print(\"F1 score:\", f1_score(y_test, rf_y_pred, average='micro'))"
      ],
      "execution_count": 58,
      "outputs": [
        {
          "output_type": "stream",
          "text": [
            "Accuracy: 0.9333333333333333\n",
            "F1 score: 0.9333333333333333\n"
          ],
          "name": "stdout"
        }
      ]
    },
    {
      "cell_type": "code",
      "metadata": {
        "id": "sVjOy739_CNe"
      },
      "source": [
        ""
      ],
      "execution_count": null,
      "outputs": []
    }
  ]
}