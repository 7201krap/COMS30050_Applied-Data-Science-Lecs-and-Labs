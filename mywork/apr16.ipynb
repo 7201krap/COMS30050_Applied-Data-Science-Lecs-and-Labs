{
  "nbformat": 4,
  "nbformat_minor": 0,
  "metadata": {
    "kernelspec": {
      "display_name": "Python 3",
      "language": "python",
      "name": "python3"
    },
    "language_info": {
      "codemirror_mode": {
        "name": "ipython",
        "version": 3
      },
      "file_extension": ".py",
      "mimetype": "text/x-python",
      "name": "python",
      "nbconvert_exporter": "python",
      "pygments_lexer": "ipython3",
      "version": "3.8.5"
    },
    "colab": {
      "name": "SVM.ipynb",
      "provenance": [],
      "collapsed_sections": [],
      "include_colab_link": true
    }
  },
  "cells": [
    {
      "cell_type": "markdown",
      "metadata": {
        "id": "view-in-github",
        "colab_type": "text"
      },
      "source": [
        "<a href=\"https://colab.research.google.com/github/7201krap/PYTHON_applied_data_science/blob/main/SVM.ipynb\" target=\"_parent\"><img src=\"https://colab.research.google.com/assets/colab-badge.svg\" alt=\"Open In Colab\"/></a>"
      ]
    },
    {
      "cell_type": "code",
      "metadata": {
        "id": "Wq5KSVa266mI"
      },
      "source": [
        "from sklearn import datasets\n",
        "\n",
        "# How are we going to use evaluate the performance? \n",
        "# 1. accuracy\n",
        "from sklearn import metrics\n",
        "# 2. f1 score \n",
        "from sklearn.metrics import f1_score\n",
        "\n",
        "# Machine learning models \n",
        "# SVM\n",
        "# url: https://scikit-learn.org/stable/modules/generated/sklearn.svm.SVC.html\n",
        "from sklearn import svm\n",
        "\n",
        "# KNN \n",
        "# url: https://scikit-learn.org/stable/modules/generated/sklearn.neighbors.KNeighborsClassifier.html\n",
        "from sklearn.neighbors import KNeighborsClassifier\n",
        "\n",
        "# Decision Tree\n",
        "# url: https://scikit-learn.org/stable/modules/generated/sklearn.tree.DecisionTreeClassifier.html\n",
        "from sklearn.tree import DecisionTreeClassifier\n",
        "\n",
        "# Random Forest \n",
        "# url: https://scikit-learn.org/stable/modules/generated/sklearn.ensemble.RandomForestClassifier.html\n",
        "from sklearn.ensemble import RandomForestClassifier\n",
        "from sklearn.datasets import make_classification\n",
        "\n",
        "# Logistic Classifier\n",
        "from sklearn.linear_model import LogisticRegression\n",
        "\n",
        "from sklearn.model_selection import RepeatedStratifiedKFold\n",
        "from sklearn.model_selection import GridSearchCV\n",
        "\n",
        "from sklearn.model_selection import learning_curve, RandomizedSearchCV, GridSearchCV\n",
        "from sklearn.model_selection import train_test_split, KFold\n",
        "from sklearn.datasets import make_classification\n",
        "from sklearn.pipeline import make_pipeline\n",
        "from sklearn.preprocessing import StandardScaler\n",
        "\n",
        "import numpy as np\n",
        "import matplotlib.pyplot as plt"
      ],
      "execution_count": 1,
      "outputs": []
    },
    {
      "cell_type": "markdown",
      "metadata": {
        "id": "zfY4HfYs66mZ"
      },
      "source": [
        "Here, I use cancer dataset for tutorials.\n",
        "It can be simply changed to another dataset"
      ]
    },
    {
      "cell_type": "markdown",
      "metadata": {
        "id": "xC7DkowR66mb"
      },
      "source": [
        "## Machine learning algorithms that we are going to use\n",
        "\n",
        "- SVM\n",
        "\n",
        "- Random Forest \n",
        "\n",
        "- Decision Tree \n",
        "\n",
        "- Softmax \n",
        "\n",
        "- KNN "
      ]
    },
    {
      "cell_type": "markdown",
      "metadata": {
        "id": "62-J3jg866md"
      },
      "source": [
        "## Preprocess all data\n",
        "https://www.datacamp.com/community/tutorials/svm-classification-scikit-learn-python"
      ]
    },
    {
      "cell_type": "code",
      "metadata": {
        "colab": {
          "base_uri": "https://localhost:8080/"
        },
        "id": "ViAMxGXO66me",
        "outputId": "3464df1c-de4b-4e5b-eda7-cd243802a4ab"
      },
      "source": [
        "iris = datasets.load_iris()\n",
        "print(\"Features: \\n\", iris.feature_names)\n",
        "print()\n",
        "print(\"Labels: \\n\",   iris.target_names)"
      ],
      "execution_count": 2,
      "outputs": [
        {
          "output_type": "stream",
          "text": [
            "Features: \n",
            " ['sepal length (cm)', 'sepal width (cm)', 'petal length (cm)', 'petal width (cm)']\n",
            "\n",
            "Labels: \n",
            " ['setosa' 'versicolor' 'virginica']\n"
          ],
          "name": "stdout"
        }
      ]
    },
    {
      "cell_type": "code",
      "metadata": {
        "colab": {
          "base_uri": "https://localhost:8080/"
        },
        "id": "kRy5hoST66mk",
        "outputId": "0d35b113-16c7-4c81-9ece-1dbf515f1c23"
      },
      "source": [
        "print(\"X data:\", len(iris.feature_names))\n",
        "print(\"Y data:\", len(iris.target_names))"
      ],
      "execution_count": 3,
      "outputs": [
        {
          "output_type": "stream",
          "text": [
            "X data: 4\n",
            "Y data: 3\n"
          ],
          "name": "stdout"
        }
      ]
    },
    {
      "cell_type": "code",
      "metadata": {
        "id": "LznyaPqw66mm"
      },
      "source": [
        "from sklearn.model_selection import train_test_split\n",
        "\n",
        "X_train, X_test, y_train, y_test = train_test_split(iris.data, iris.target, test_size=0.3, random_state=1) # 70% training and 30% test"
      ],
      "execution_count": 4,
      "outputs": []
    },
    {
      "cell_type": "markdown",
      "metadata": {
        "id": "_e11X_yx-iD6"
      },
      "source": [
        "## SVM"
      ]
    },
    {
      "cell_type": "code",
      "metadata": {
        "id": "_fKIxVbX66mn"
      },
      "source": [
        "folds = KFold(n_splits = 10, shuffle = True, random_state = 1)\n",
        "\n",
        "svm_hyper_params = [ \n",
        "                        {\n",
        "                        'gamma': np.logspace(-5, 2, 8),\n",
        "                        'C': np.logspace(-5, 2, 8),\n",
        "                        'kernel': ['linear', 'poly', 'rbf', 'sigmoid']\n",
        "                        }\n",
        "                    ]\n",
        "\n",
        "# specify model\n",
        "svm_model = svm.SVC(random_state=1)\n",
        "\n",
        "# set up GridSearchCV()\n",
        "svm_model_cv = GridSearchCV(estimator = svm_model, \n",
        "                            param_grid = svm_hyper_params, \n",
        "                            scoring= 'accuracy', \n",
        "                            cv = folds, \n",
        "                            verbose = 2,\n",
        "                            return_train_score=True,\n",
        "                            n_jobs=-1)      "
      ],
      "execution_count": 5,
      "outputs": []
    },
    {
      "cell_type": "code",
      "metadata": {
        "collapsed": true,
        "colab": {
          "base_uri": "https://localhost:8080/"
        },
        "id": "Adbbt5c866mo",
        "outputId": "54aaa087-5dda-4cc2-b20b-d1af750e0063"
      },
      "source": [
        "# fit the model\n",
        "svm_model_cv.fit(X_train, y_train)\n",
        "print(\"best hyper parameters\", svm_model_cv.best_params_)\n",
        "svm_y_pred = svm_model_cv.predict(X_test)"
      ],
      "execution_count": 6,
      "outputs": [
        {
          "output_type": "stream",
          "text": [
            "Fitting 10 folds for each of 256 candidates, totalling 2560 fits\n"
          ],
          "name": "stdout"
        },
        {
          "output_type": "stream",
          "text": [
            "[Parallel(n_jobs=-1)]: Using backend LokyBackend with 2 concurrent workers.\n",
            "[Parallel(n_jobs=-1)]: Done 296 tasks      | elapsed:    3.5s\n"
          ],
          "name": "stderr"
        },
        {
          "output_type": "stream",
          "text": [
            "best hyper parameters {'C': 1.0, 'gamma': 1e-05, 'kernel': 'linear'}\n"
          ],
          "name": "stdout"
        },
        {
          "output_type": "stream",
          "text": [
            "[Parallel(n_jobs=-1)]: Done 2560 out of 2560 | elapsed:   33.0s finished\n"
          ],
          "name": "stderr"
        }
      ]
    },
    {
      "cell_type": "code",
      "metadata": {
        "colab": {
          "base_uri": "https://localhost:8080/"
        },
        "id": "dst30cYtOZ29",
        "outputId": "bc79d67c-336f-4496-870b-0bbf5496d928"
      },
      "source": [
        "# accuracy \n",
        "print(\"Accuracy:\", metrics.accuracy_score(y_test, svm_y_pred))\n",
        "# f1 score \n",
        "print(\"F1 score:\", f1_score(y_test, svm_y_pred, average='micro'))"
      ],
      "execution_count": 7,
      "outputs": [
        {
          "output_type": "stream",
          "text": [
            "Accuracy: 1.0\n",
            "F1 score: 1.0\n"
          ],
          "name": "stdout"
        }
      ]
    },
    {
      "cell_type": "markdown",
      "metadata": {
        "id": "ETvDxUzl-oXC"
      },
      "source": [
        "## Logistic Regression"
      ]
    },
    {
      "cell_type": "code",
      "metadata": {
        "id": "aez9Ik2M-pXl"
      },
      "source": [
        "log_hyper_params = [ \n",
        "                        {\n",
        "                        'C': np.logspace(-5, 2, 8),\n",
        "                        'solver' : ['newton-cg', 'lbfgs', 'liblinear', 'sag', 'saga'],\n",
        "                        'penalty' : ['l1', 'l2', 'elasticnet', 'none'],\n",
        "                        'multi_class' : ['auto', 'ovr', 'multinomial']\n",
        "                        }\n",
        "                    ]\n",
        "\n",
        "# specify model\n",
        "log_model = LogisticRegression(random_state=1)\n",
        "\n",
        "# set up GridSearchCV()\n",
        "log_model_cv = GridSearchCV(estimator = log_model, \n",
        "                            param_grid = log_hyper_params, \n",
        "                            scoring= 'accuracy', \n",
        "                            cv = folds, \n",
        "                            verbose = 2,\n",
        "                            return_train_score=True,\n",
        "                            n_jobs=-1)      "
      ],
      "execution_count": 8,
      "outputs": []
    },
    {
      "cell_type": "code",
      "metadata": {
        "colab": {
          "base_uri": "https://localhost:8080/"
        },
        "id": "8IuHlIl-NsT6",
        "outputId": "89af544a-87e7-4616-e493-a11372b8cb1e"
      },
      "source": [
        "# fit the model\n",
        "log_model_cv.fit(X_train, y_train)\n",
        "print(\"best hyper parameters\", log_model_cv.best_params_)\n",
        "log_y_pred = log_model_cv.predict(X_test)"
      ],
      "execution_count": 9,
      "outputs": [
        {
          "output_type": "stream",
          "text": [
            "[Parallel(n_jobs=-1)]: Using backend LokyBackend with 2 concurrent workers.\n"
          ],
          "name": "stderr"
        },
        {
          "output_type": "stream",
          "text": [
            "Fitting 10 folds for each of 480 candidates, totalling 4800 fits\n"
          ],
          "name": "stdout"
        },
        {
          "output_type": "stream",
          "text": [
            "[Parallel(n_jobs=-1)]: Done 408 tasks      | elapsed:    2.1s\n",
            "[Parallel(n_jobs=-1)]: Done 4280 tasks      | elapsed:   24.3s\n"
          ],
          "name": "stderr"
        },
        {
          "output_type": "stream",
          "text": [
            "best hyper parameters {'C': 1.0, 'multi_class': 'auto', 'penalty': 'l1', 'solver': 'saga'}\n"
          ],
          "name": "stdout"
        },
        {
          "output_type": "stream",
          "text": [
            "[Parallel(n_jobs=-1)]: Done 4797 out of 4800 | elapsed:   28.0s remaining:    0.0s\n",
            "[Parallel(n_jobs=-1)]: Done 4800 out of 4800 | elapsed:   28.0s finished\n",
            "/usr/local/lib/python3.7/dist-packages/sklearn/linear_model/_sag.py:330: ConvergenceWarning: The max_iter was reached which means the coef_ did not converge\n",
            "  \"the coef_ did not converge\", ConvergenceWarning)\n"
          ],
          "name": "stderr"
        }
      ]
    },
    {
      "cell_type": "code",
      "metadata": {
        "colab": {
          "base_uri": "https://localhost:8080/"
        },
        "id": "_exbf-RzOXNt",
        "outputId": "f19406c3-2b7a-4210-e00c-7532e07c53d6"
      },
      "source": [
        "# accuracy \n",
        "print(\"Accuracy:\", metrics.accuracy_score(y_test, log_y_pred))\n",
        "# f1 score \n",
        "print(\"F1 score:\", f1_score(y_test, log_y_pred, average='micro'))"
      ],
      "execution_count": 10,
      "outputs": [
        {
          "output_type": "stream",
          "text": [
            "Accuracy: 0.9777777777777777\n",
            "F1 score: 0.9777777777777777\n"
          ],
          "name": "stdout"
        }
      ]
    },
    {
      "cell_type": "markdown",
      "metadata": {
        "id": "YqbhZSoBeXRl"
      },
      "source": [
        "## KNN"
      ]
    },
    {
      "cell_type": "code",
      "metadata": {
        "id": "jVLvCwD6eX0V"
      },
      "source": [
        "knn_hyper_params = [ \n",
        "                        {\n",
        "                        'weights' : ['uniform', 'distance'],\n",
        "                        'algorithm' : ['auto', 'ball_tree', 'kd_tree', 'brute'],\n",
        "                        'leaf_size' : np.linspace(2, 100, 10, dtype=int)\n",
        "                        }\n",
        "                    ]\n",
        "\n",
        "# specify model\n",
        "\n",
        "# THIS SECTION SHOULD BE CHANGED.\n",
        "# n_neighbors  SHOULD BE MODIFIED TO ANOTHER VALUE DEPENDING ON THE TARGET VALUE.\n",
        "knn_model = KNeighborsClassifier(n_neighbors=3)\n",
        "\n",
        "# set up GridSearchCV()\n",
        "knn_model_cv = GridSearchCV(estimator = knn_model, \n",
        "                            param_grid = knn_hyper_params, \n",
        "                            scoring= 'accuracy', \n",
        "                            cv = folds, \n",
        "                            verbose = 2,\n",
        "                            return_train_score=True,\n",
        "                            n_jobs=-1)      "
      ],
      "execution_count": 11,
      "outputs": []
    },
    {
      "cell_type": "code",
      "metadata": {
        "colab": {
          "base_uri": "https://localhost:8080/"
        },
        "id": "EcMHH1dQeeL7",
        "outputId": "d9f051b5-9791-42a7-80d6-f0b269e98d9b"
      },
      "source": [
        "# fit the model\n",
        "knn_model_cv.fit(X_train, y_train)\n",
        "print(\"best hyper parameters\", knn_model_cv.best_params_)\n",
        "knn_y_pred = knn_model_cv.predict(X_test)"
      ],
      "execution_count": 12,
      "outputs": [
        {
          "output_type": "stream",
          "text": [
            "[Parallel(n_jobs=-1)]: Using backend LokyBackend with 2 concurrent workers.\n"
          ],
          "name": "stderr"
        },
        {
          "output_type": "stream",
          "text": [
            "Fitting 10 folds for each of 80 candidates, totalling 800 fits\n"
          ],
          "name": "stdout"
        },
        {
          "output_type": "stream",
          "text": [
            "[Parallel(n_jobs=-1)]: Done 396 tasks      | elapsed:    1.8s\n"
          ],
          "name": "stderr"
        },
        {
          "output_type": "stream",
          "text": [
            "best hyper parameters {'algorithm': 'auto', 'leaf_size': 2, 'weights': 'uniform'}\n"
          ],
          "name": "stdout"
        },
        {
          "output_type": "stream",
          "text": [
            "[Parallel(n_jobs=-1)]: Done 800 out of 800 | elapsed:    3.4s finished\n"
          ],
          "name": "stderr"
        }
      ]
    },
    {
      "cell_type": "code",
      "metadata": {
        "colab": {
          "base_uri": "https://localhost:8080/"
        },
        "id": "ktnU_aaHefQI",
        "outputId": "319cc175-2394-4892-a699-8f5dfb002d53"
      },
      "source": [
        "# accuracy \n",
        "print(\"Accuracy:\", metrics.accuracy_score(y_test, knn_y_pred))\n",
        "# f1 score \n",
        "print(\"F1 score:\", f1_score(y_test, knn_y_pred, average='micro'))"
      ],
      "execution_count": 13,
      "outputs": [
        {
          "output_type": "stream",
          "text": [
            "Accuracy: 0.9777777777777777\n",
            "F1 score: 0.9777777777777777\n"
          ],
          "name": "stdout"
        }
      ]
    },
    {
      "cell_type": "code",
      "metadata": {
        "id": "Ljw0F7jfgShR"
      },
      "source": [
        ""
      ],
      "execution_count": 13,
      "outputs": []
    }
  ]
}